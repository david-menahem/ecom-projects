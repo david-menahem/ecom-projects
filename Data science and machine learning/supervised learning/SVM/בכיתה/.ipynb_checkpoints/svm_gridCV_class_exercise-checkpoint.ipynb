{
 "cells": [
  {
   "cell_type": "code",
   "execution_count": 5,
   "id": "bebd09e2-c4ed-4292-aa70-bc0bc4e747e3",
   "metadata": {},
   "outputs": [],
   "source": [
    "import numpy as np\n",
    "import pandas as pd\n",
    "import matplotlib.pyplot as plt\n",
    "import seaborn as sns"
   ]
  },
  {
   "cell_type": "code",
   "execution_count": 6,
   "id": "a3f3ca64-bac1-4b23-a830-f051d420dc7e",
   "metadata": {},
   "outputs": [
    {
     "data": {
      "text/html": [
       "<div>\n",
       "<style scoped>\n",
       "    .dataframe tbody tr th:only-of-type {\n",
       "        vertical-align: middle;\n",
       "    }\n",
       "\n",
       "    .dataframe tbody tr th {\n",
       "        vertical-align: top;\n",
       "    }\n",
       "\n",
       "    .dataframe thead th {\n",
       "        text-align: right;\n",
       "    }\n",
       "</style>\n",
       "<table border=\"1\" class=\"dataframe\">\n",
       "  <thead>\n",
       "    <tr style=\"text-align: right;\">\n",
       "      <th></th>\n",
       "      <th>bmi</th>\n",
       "      <th>bp</th>\n",
       "      <th>s1</th>\n",
       "      <th>progression</th>\n",
       "    </tr>\n",
       "  </thead>\n",
       "  <tbody>\n",
       "    <tr>\n",
       "      <th>0</th>\n",
       "      <td>0.061696</td>\n",
       "      <td>0.021872</td>\n",
       "      <td>-0.044223</td>\n",
       "      <td>151.0</td>\n",
       "    </tr>\n",
       "    <tr>\n",
       "      <th>1</th>\n",
       "      <td>-0.051474</td>\n",
       "      <td>-0.026328</td>\n",
       "      <td>-0.008449</td>\n",
       "      <td>75.0</td>\n",
       "    </tr>\n",
       "    <tr>\n",
       "      <th>2</th>\n",
       "      <td>0.044451</td>\n",
       "      <td>-0.005670</td>\n",
       "      <td>-0.045599</td>\n",
       "      <td>141.0</td>\n",
       "    </tr>\n",
       "    <tr>\n",
       "      <th>3</th>\n",
       "      <td>-0.011595</td>\n",
       "      <td>-0.036656</td>\n",
       "      <td>0.012191</td>\n",
       "      <td>206.0</td>\n",
       "    </tr>\n",
       "    <tr>\n",
       "      <th>4</th>\n",
       "      <td>-0.036385</td>\n",
       "      <td>0.021872</td>\n",
       "      <td>0.003935</td>\n",
       "      <td>135.0</td>\n",
       "    </tr>\n",
       "  </tbody>\n",
       "</table>\n",
       "</div>"
      ],
      "text/plain": [
       "        bmi        bp        s1  progression\n",
       "0  0.061696  0.021872 -0.044223        151.0\n",
       "1 -0.051474 -0.026328 -0.008449         75.0\n",
       "2  0.044451 -0.005670 -0.045599        141.0\n",
       "3 -0.011595 -0.036656  0.012191        206.0\n",
       "4 -0.036385  0.021872  0.003935        135.0"
      ]
     },
     "execution_count": 6,
     "metadata": {},
     "output_type": "execute_result"
    }
   ],
   "source": [
    "diabetes_df_origianl = pd.read_csv('../data/diabetes_data.csv')\n",
    "diabetes_df = diabetes_df_origianl.copy()\n",
    "diabetes_df.head()"
   ]
  },
  {
   "cell_type": "code",
   "execution_count": 7,
   "id": "5839c4ec-1da3-40fc-a7db-97403d5c0b8a",
   "metadata": {},
   "outputs": [
    {
     "data": {
      "text/plain": [
       "bmi            0\n",
       "bp             0\n",
       "s1             0\n",
       "progression    0\n",
       "dtype: int64"
      ]
     },
     "execution_count": 7,
     "metadata": {},
     "output_type": "execute_result"
    }
   ],
   "source": [
    "diabetes_df.isna().sum()"
   ]
  },
  {
   "cell_type": "code",
   "execution_count": 8,
   "id": "1d73b228-29e3-40b6-937d-da9b88588fc1",
   "metadata": {},
   "outputs": [
    {
     "data": {
      "text/plain": [
       "array([False])"
      ]
     },
     "execution_count": 8,
     "metadata": {},
     "output_type": "execute_result"
    }
   ],
   "source": [
    "diabetes_df.duplicated().unique()"
   ]
  },
  {
   "cell_type": "code",
   "execution_count": 9,
   "id": "40cb766f-c7e6-4432-8215-f4e169204966",
   "metadata": {},
   "outputs": [],
   "source": [
    "X = diabetes_df[['bmi','bp','s1']]\n",
    "y = diabetes_df['progression']"
   ]
  },
  {
   "cell_type": "code",
   "execution_count": 10,
   "id": "8b926c60-6fa8-4d89-a49f-4d9a5d68fa2f",
   "metadata": {},
   "outputs": [],
   "source": [
    "from sklearn.model_selection import train_test_split\n",
    "from sklearn.preprocessing import StandardScaler\n",
    "\n",
    "X_train,X_test,y_train,y_test = train_test_split(X,y,test_size=0.3,random_state=42)\n",
    "scalar = StandardScaler()\n",
    "scaled_X_train = scalar.fit_transform(X_train)\n",
    "scaled_X_test = scalar.transform(X_test)"
   ]
  },
  {
   "cell_type": "code",
   "execution_count": 11,
   "id": "4db71323-1d09-49dc-9ef4-7a13f59021e9",
   "metadata": {},
   "outputs": [
    {
     "data": {
      "text/plain": [
       "{'C': 10, 'kernel': 'linear'}"
      ]
     },
     "execution_count": 11,
     "metadata": {},
     "output_type": "execute_result"
    }
   ],
   "source": [
    "from sklearn.svm import SVR\n",
    "from sklearn.model_selection import GridSearchCV\n",
    "\n",
    "svr = SVR()\n",
    "params = {'kernel': ['linear','rbf','poly'], 'C':[0.1,1,10,100,1000]}\n",
    "grid_cv = GridSearchCV(svr,params,scoring='neg_mean_squared_error')\n",
    "grid_cv.fit(scaled_X_train,y_train)\n",
    "grid_cv.best_params_"
   ]
  },
  {
   "cell_type": "code",
   "execution_count": 12,
   "id": "56e9a57b-2dbe-4aa3-b533-072845d01bf4",
   "metadata": {},
   "outputs": [
    {
     "data": {
      "text/plain": [
       "array([137.87652675, 186.05337   , 140.67679755, 227.0807744 ,\n",
       "       131.40519254, 118.00359078, 288.63281953, 196.01314229,\n",
       "        48.87114745, 151.00015556, 111.65108515,  89.53680561,\n",
       "        85.66379143, 188.9668416 , 102.00804224, 147.34355356,\n",
       "       207.98602412, 250.55025619, 199.82615506, 226.77926571,\n",
       "       161.81171149,  89.27982304,  91.16930871, 189.18871411,\n",
       "       172.64863106, 178.05059521, 220.21365251, 163.73795374,\n",
       "        64.79562494, 127.1857808 , 195.1662666 , 105.58994526,\n",
       "       123.11379719, 155.80385816, 152.56002824, 235.30229845,\n",
       "       110.32052671, 113.47002288, 125.92397026,  74.72201398,\n",
       "        86.78693878, 151.30160496, 141.97627743, 110.43728673,\n",
       "       129.63252166, 107.99787493,  82.50366158, 105.82990711,\n",
       "        67.57473791, 134.07317326, 170.62734605,  60.10454525,\n",
       "       145.08081603, 107.71501953, 173.63988033, 196.50150766,\n",
       "        96.28892666, 204.98552937, 114.07884941,  66.66313875,\n",
       "       170.44199397, 166.31653792, 179.28522816, 142.49760401,\n",
       "        76.91658149, 193.45464731, 166.43857237, 154.81225555,\n",
       "        86.87726655, 117.99913038, 136.63041371, 197.2870911 ,\n",
       "       173.338681  , 130.87867415,  79.79692443, 130.97979145,\n",
       "       220.33768683, 178.89007314, 181.84097795, 124.22611104,\n",
       "       139.78972954, 121.36560269,  48.32428979,  87.2955492 ,\n",
       "        93.27322516, 107.52100125,  71.68483135,  60.79213464,\n",
       "       163.77275896, 184.46201518, 116.93026951, 232.45706556,\n",
       "       104.22658146,  56.46191394,  67.63327417, 173.66922522,\n",
       "       230.39190554, 157.39546758, 128.09912521,  60.86607435,\n",
       "       191.05134548,  79.01422358, 265.72021035,  80.77099713,\n",
       "       161.37780005, 104.63263868, 134.81016669, 142.97985087,\n",
       "       158.76585107, 194.25691424,  78.34135021, 204.5614515 ,\n",
       "       160.08043897, 189.24293189, 159.13777971, 121.13728838,\n",
       "       120.79940117, 146.22668057, 123.53017873, 144.54279203,\n",
       "       169.1506827 ,  89.62696594, 110.19781562, 180.93226138,\n",
       "       142.26613858, 171.57000531, 130.92857345,  93.52551119,\n",
       "       167.56576968,  72.19706969, 179.76349376,  84.05195542,\n",
       "       195.7312136 ])"
      ]
     },
     "execution_count": 12,
     "metadata": {},
     "output_type": "execute_result"
    }
   ],
   "source": [
    "svr = SVR(kernel='linear',C=10)\n",
    "svr.fit(scaled_X_train,y_train)\n",
    "y_pred = svr.predict(scaled_X_test)\n",
    "y_pred"
   ]
  },
  {
   "cell_type": "code",
   "execution_count": 13,
   "id": "c49d6a38-3b7b-45a1-bd01-ef880ad3e54c",
   "metadata": {},
   "outputs": [
    {
     "name": "stdout",
     "output_type": "stream",
     "text": [
      "MAE: 48.75410113140035, percentage: 32.04692339734835\n",
      " RSME: 60.51499248943493, percentage: 39.77756298846012\n"
     ]
    }
   ],
   "source": [
    "from sklearn.metrics import mean_absolute_error,mean_squared_error\n",
    "MAE = mean_absolute_error(y_test,y_pred)\n",
    "MSE = mean_squared_error(y_test,y_pred)\n",
    "RSME = np.sqrt(MSE)\n",
    "\n",
    "MAE_percentage = MAE*100/y.mean()\n",
    "RSME_percnetage = RSME*100/y.mean()\n",
    "\n",
    "print(f'MAE: {MAE}, percentage: {MAE_percentage}\\n RSME: {RSME}, percentage: {RSME_percnetage}')"
   ]
  }
 ],
 "metadata": {
  "kernelspec": {
   "display_name": "Python 3 (ipykernel)",
   "language": "python",
   "name": "python3"
  },
  "language_info": {
   "codemirror_mode": {
    "name": "ipython",
    "version": 3
   },
   "file_extension": ".py",
   "mimetype": "text/x-python",
   "name": "python",
   "nbconvert_exporter": "python",
   "pygments_lexer": "ipython3",
   "version": "3.12.4"
  }
 },
 "nbformat": 4,
 "nbformat_minor": 5
}
