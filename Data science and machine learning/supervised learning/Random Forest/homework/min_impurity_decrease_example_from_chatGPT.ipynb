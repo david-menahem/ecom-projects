{
 "cells": [
  {
   "cell_type": "code",
   "execution_count": 1,
   "id": "0421aee2-6996-43dd-8b4e-83660d4b04ff",
   "metadata": {},
   "outputs": [
    {
     "name": "stdout",
     "output_type": "stream",
     "text": [
      "Accuracy with min_impurity_decrease=0: 0.8867\n",
      "Accuracy with min_impurity_decrease=0.01: 0.8467\n"
     ]
    }
   ],
   "source": [
    "from sklearn.datasets import make_classification\n",
    "from sklearn.model_selection import train_test_split\n",
    "from sklearn.ensemble import RandomForestClassifier\n",
    "from sklearn.metrics import accuracy_score\n",
    "\n",
    "# Create a synthetic dataset\n",
    "X, y = make_classification(n_samples=1000, n_features=20, n_informative=15, n_redundant=5, random_state=42)\n",
    "\n",
    "# Split the dataset into training and test sets\n",
    "X_train, X_test, y_train, y_test = train_test_split(X, y, test_size=0.3, random_state=42)\n",
    "\n",
    "# Initialize the RandomForestClassifier with min_impurity_decrease=0 (default)\n",
    "rf_default = RandomForestClassifier(min_impurity_decrease=0, random_state=42)\n",
    "\n",
    "# Train the model\n",
    "rf_default.fit(X_train, y_train)\n",
    "\n",
    "# Make predictions\n",
    "y_pred_default = rf_default.predict(X_test)\n",
    "\n",
    "# Evaluate the model\n",
    "accuracy_default = accuracy_score(y_test, y_pred_default)\n",
    "print(f\"Accuracy with min_impurity_decrease=0: {accuracy_default:.4f}\")\n",
    "\n",
    "# Initialize the RandomForestClassifier with min_impurity_decrease=0.01\n",
    "rf_min_impurity = RandomForestClassifier(min_impurity_decrease=0.01, random_state=42)\n",
    "\n",
    "# Train the model\n",
    "rf_min_impurity.fit(X_train, y_train)\n",
    "\n",
    "# Make predictions\n",
    "y_pred_min_impurity = rf_min_impurity.predict(X_test)\n",
    "\n",
    "# Evaluate the model\n",
    "accuracy_min_impurity = accuracy_score(y_test, y_pred_min_impurity)\n",
    "print(f\"Accuracy with min_impurity_decrease=0.01: {accuracy_min_impurity:.4f}\")\n"
   ]
  }
 ],
 "metadata": {
  "kernelspec": {
   "display_name": "Python 3 (ipykernel)",
   "language": "python",
   "name": "python3"
  },
  "language_info": {
   "codemirror_mode": {
    "name": "ipython",
    "version": 3
   },
   "file_extension": ".py",
   "mimetype": "text/x-python",
   "name": "python",
   "nbconvert_exporter": "python",
   "pygments_lexer": "ipython3",
   "version": "3.12.4"
  }
 },
 "nbformat": 4,
 "nbformat_minor": 5
}
