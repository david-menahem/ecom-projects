{
 "cells": [
  {
   "cell_type": "code",
   "execution_count": 1,
   "id": "d1704d52-d118-4aef-950c-5289eac077e4",
   "metadata": {},
   "outputs": [],
   "source": [
    "import numpy as np\n",
    "import pandas as pd\n",
    "import matplotlib.pyplot as plt\n",
    "import seaborn as sns"
   ]
  },
  {
   "cell_type": "code",
   "execution_count": 2,
   "id": "7a084f8a-42ee-46a0-869f-ac1c1850816f",
   "metadata": {},
   "outputs": [
    {
     "data": {
      "text/html": [
       "<div>\n",
       "<style scoped>\n",
       "    .dataframe tbody tr th:only-of-type {\n",
       "        vertical-align: middle;\n",
       "    }\n",
       "\n",
       "    .dataframe tbody tr th {\n",
       "        vertical-align: top;\n",
       "    }\n",
       "\n",
       "    .dataframe thead th {\n",
       "        text-align: right;\n",
       "    }\n",
       "</style>\n",
       "<table border=\"1\" class=\"dataframe\">\n",
       "  <thead>\n",
       "    <tr style=\"text-align: right;\">\n",
       "      <th></th>\n",
       "      <th>hours</th>\n",
       "      <th>money_earned</th>\n",
       "    </tr>\n",
       "  </thead>\n",
       "  <tbody>\n",
       "    <tr>\n",
       "      <th>0</th>\n",
       "      <td>2.0</td>\n",
       "      <td>50</td>\n",
       "    </tr>\n",
       "    <tr>\n",
       "      <th>1</th>\n",
       "      <td>3.0</td>\n",
       "      <td>70</td>\n",
       "    </tr>\n",
       "    <tr>\n",
       "      <th>2</th>\n",
       "      <td>4.0</td>\n",
       "      <td>90</td>\n",
       "    </tr>\n",
       "    <tr>\n",
       "      <th>3</th>\n",
       "      <td>5.0</td>\n",
       "      <td>100</td>\n",
       "    </tr>\n",
       "    <tr>\n",
       "      <th>4</th>\n",
       "      <td>6.0</td>\n",
       "      <td>110</td>\n",
       "    </tr>\n",
       "    <tr>\n",
       "      <th>5</th>\n",
       "      <td>1.5</td>\n",
       "      <td>40</td>\n",
       "    </tr>\n",
       "    <tr>\n",
       "      <th>6</th>\n",
       "      <td>5.0</td>\n",
       "      <td>110</td>\n",
       "    </tr>\n",
       "    <tr>\n",
       "      <th>7</th>\n",
       "      <td>7.0</td>\n",
       "      <td>130</td>\n",
       "    </tr>\n",
       "    <tr>\n",
       "      <th>8</th>\n",
       "      <td>8.0</td>\n",
       "      <td>145</td>\n",
       "    </tr>\n",
       "    <tr>\n",
       "      <th>9</th>\n",
       "      <td>10.0</td>\n",
       "      <td>180</td>\n",
       "    </tr>\n",
       "  </tbody>\n",
       "</table>\n",
       "</div>"
      ],
      "text/plain": [
       "   hours  money_earned\n",
       "0    2.0            50\n",
       "1    3.0            70\n",
       "2    4.0            90\n",
       "3    5.0           100\n",
       "4    6.0           110\n",
       "5    1.5            40\n",
       "6    5.0           110\n",
       "7    7.0           130\n",
       "8    8.0           145\n",
       "9   10.0           180"
      ]
     },
     "execution_count": 2,
     "metadata": {},
     "output_type": "execute_result"
    }
   ],
   "source": [
    "hours = [2, 3, 4, 5, 6, 1.5, 5, 7, 8, 10]\n",
    "money_earned =  [50, 70, 90, 100, 110, 40, 110, 130, 145, 180]\n",
    "call_center_df = pd.DataFrame({'hours':hours,'money_earned':money_earned})\n",
    "call_center_df"
   ]
  },
  {
   "cell_type": "code",
   "execution_count": 3,
   "id": "6166cfa3-54f3-4afb-ae41-a187cf32c4ac",
   "metadata": {},
   "outputs": [
    {
     "data": {
      "image/png": "[encoded data removed]",
      "text/plain": [
       "<Figure size 640x480 with 1 Axes>"
      ]
     },
     "metadata": {},
     "output_type": "display_data"
    }
   ],
   "source": [
    "sns.scatterplot(data=call_center_df,x='hours',y='money_earned')\n",
    "plt.show()"
   ]
  },
  {
   "cell_type": "code",
   "execution_count": 4,
   "id": "8f68fd6f-b00f-4ea5-af7f-5bbbf7affd25",
   "metadata": {},
   "outputs": [],
   "source": [
    "X = pd.DataFrame({'hours':call_center_df['hours']})\n",
    "y = call_center_df['money_earned']"
   ]
  },
  {
   "cell_type": "code",
   "execution_count": 5,
   "id": "9d61381e-684f-4677-962d-1c4ddc796ede",
   "metadata": {},
   "outputs": [],
   "source": [
    "from sklearn.preprocessing import PolynomialFeatures\n",
    "poly_converter = PolynomialFeatures(degree=3,include_bias=False)\n",
    "poly_converter.fit(X)\n",
    "poly_features = poly_converter.transform(X)\n",
    "\n",
    "from sklearn.model_selection import train_test_split\n",
    "X_train,X_test,y_train,y_test = train_test_split(poly_features,y,test_size=0.1,random_state=42)"
   ]
  },
  {
   "cell_type": "code",
   "execution_count": 6,
   "id": "46396c56-7975-47bb-acad-bce753496c91",
   "metadata": {},
   "outputs": [],
   "source": [
    "from sklearn.preprocessing import StandardScaler\n",
    "scalar = StandardScaler()\n",
    "scalar.fit(X_train)\n",
    "scaled_X_train = scalar.transform(X_train)\n",
    "scaled_X_test = scalar.transform(X_test)"
   ]
  },
  {
   "cell_type": "code",
   "execution_count": 7,
   "id": "4a31a9e4-7780-49b3-ad06-3e9129058592",
   "metadata": {},
   "outputs": [],
   "source": [
    "from sklearn.linear_model import Ridge\n",
    "ridge_model_one = Ridge(alpha=1)\n",
    "ridge_model_ten = Ridge(alpha=10)\n",
    "ridge_model_hundred = Ridge(alpha=100)"
   ]
  },
  {
   "cell_type": "code",
   "execution_count": 12,
   "id": "b790315a-923d-48cb-9107-d21d09269d96",
   "metadata": {},
   "outputs": [
    {
     "name": "stdout",
     "output_type": "stream",
     "text": [
      "Alpha = 1: [-13.84216956  -7.66901308 -11.26907789  -2.3651228  -15.54940554] mean: 10.138957774025688\n",
      "Alpha = 10: [-28.59154701 -19.40881001 -22.25594535  -6.56602185 -17.29567936] mean: 18.8236007167951\n",
      "Alpha 100: [-48.39954785 -34.66312172 -43.70036373  -8.66061756 -14.87436584] mean: 30.059603337532565\n"
     ]
    }
   ],
   "source": [
    "from sklearn.model_selection import cross_val_score,cross_validate\n",
    "scores_one = cross_val_score(ridge_model_one,scaled_X_train,y_train,scoring='neg_mean_absolute_error',cv=5)\n",
    "scores_ten = cross_val_score(ridge_model_ten, scaled_X_train,y_train,scoring='neg_mean_absolute_error',cv=5)\n",
    "scores_hundred = cross_val_score(ridge_model_hundred,scaled_X_train,y_train,scoring='neg_mean_absolute_error',cv=5)\n",
    "print(f'Alpha = 1: {scores_one} mean: {abs(scores_one.mean())}'\n",
    "f'\\nAlpha = 10: {scores_ten} mean: {abs(scores_ten.mean())}'\n",
    "f'\\nAlpha 100: {scores_hundred} mean: {abs(scores_hundred.mean())}')"
   ]
  },
  {
   "cell_type": "code",
   "execution_count": null,
   "id": "c7674ea5-f800-47d3-872d-6b0733a2a537",
   "metadata": {},
   "outputs": [],
   "source": [
    "# Alpha 10 is better and has overall better performance"
   ]
  },
  {
   "cell_type": "code",
   "execution_count": 15,
   "id": "99e44004-2659-4f9d-8b76-d5a315f44ff8",
   "metadata": {},
   "outputs": [
    {
     "name": "stdout",
     "output_type": "stream",
     "text": [
      "Alpha = 1\n",
      "       fit_time  score_time  test_neg_mean_absolute_error  \\\n",
      "count  5.000000    5.000000                      5.000000   \n",
      "mean   0.001884    0.001198                    -10.138958   \n",
      "std    0.000525    0.000447                      5.263008   \n",
      "min    0.001000    0.000994                    -15.549406   \n",
      "25%    0.002000    0.000999                    -13.842170   \n",
      "50%    0.002003    0.000999                    -11.269078   \n",
      "75%    0.002006    0.001001                     -7.669013   \n",
      "max    0.002411    0.001999                     -2.365123   \n",
      "\n",
      "       test_neg_mean_squared_error  \n",
      "count                     5.000000  \n",
      "mean                   -142.741724  \n",
      "std                     106.210258  \n",
      "min                    -254.104093  \n",
      "25%                    -241.784013  \n",
      "50%                    -134.661211  \n",
      "75%                     -76.066597  \n",
      "max                      -7.092705  \n",
      "\n",
      "Alpha = 10\n",
      "       fit_time  score_time  test_neg_mean_absolute_error  \\\n",
      "count  5.000000    5.000000                      5.000000   \n",
      "mean   0.001620    0.000788                    -18.823601   \n",
      "std    0.000570    0.000441                      8.064103   \n",
      "min    0.000992    0.000000                    -28.591547   \n",
      "25%    0.001000    0.000949                    -22.255945   \n",
      "50%    0.002006    0.000989                    -19.408810   \n",
      "75%    0.002010    0.001000                    -17.295679   \n",
      "max    0.002089    0.001002                     -6.566022   \n",
      "\n",
      "       test_neg_mean_squared_error  \n",
      "count                     5.000000  \n",
      "mean                   -492.518499  \n",
      "std                     361.572004  \n",
      "min                    -942.792112  \n",
      "25%                    -765.318487  \n",
      "50%                    -412.179933  \n",
      "75%                    -299.140524  \n",
      "max                     -43.161438  \n",
      "\n",
      "Alpha = 100\n",
      "       fit_time  score_time  test_neg_mean_absolute_error  \\\n",
      "count  5.000000    5.000000                      5.000000   \n",
      "mean   0.001733    0.000628                    -30.059603   \n",
      "std    0.000939    0.000576                     17.550814   \n",
      "min    0.000998    0.000000                    -48.399548   \n",
      "25%    0.001009    0.000000                    -43.700364   \n",
      "50%    0.001411    0.000998                    -34.663122   \n",
      "75%    0.002001    0.001012                    -14.874366   \n",
      "max    0.003246    0.001132                     -8.660618   \n",
      "\n",
      "       test_neg_mean_squared_error  \n",
      "count                     5.000000  \n",
      "mean                  -1533.886751  \n",
      "std                    1492.627849  \n",
      "min                   -3538.609730  \n",
      "25%                   -2540.761743  \n",
      "50%                   -1281.394883  \n",
      "75%                    -221.246759  \n",
      "max                     -87.420638  \n"
     ]
    }
   ],
   "source": [
    "scores_one = cross_validate(ridge_model_one,scaled_X_train,y_train,scoring=['neg_mean_absolute_error','neg_mean_squared_error'],cv=5)\n",
    "scores_ten = cross_validate(ridge_model_ten,scaled_X_train,y_train,scoring=['neg_mean_absolute_error','neg_mean_squared_error'],cv=5)\n",
    "scores_hundred = cross_validate(ridge_model_hundred,scaled_X_train,y_train,scoring=['neg_mean_absolute_error','neg_mean_squared_error'],cv=5)\n",
    "\n",
    "print(\"Alpha = 1\")\n",
    "print(pd.DataFrame(scores_one).describe())\n",
    "print(\"\\nAlpha = 10\")\n",
    "print(pd.DataFrame(scores_ten).describe())\n",
    "print(\"\\nAlpha = 100\")\n",
    "print(pd.DataFrame(scores_hundred).describe())"
   ]
  },
  {
   "cell_type": "markdown",
   "id": "297082f7-ea0b-449e-9364-e75addf4116e",
   "metadata": {},
   "source": [
    "# Alpha 1 has the lowest errors"
   ]
  }
 ],
 "metadata": {
  "kernelspec": {
   "display_name": "Python 3 (ipykernel)",
   "language": "python",
   "name": "python3"
  },
  "language_info": {
   "codemirror_mode": {
    "name": "ipython",
    "version": 3
   },
   "file_extension": ".py",
   "mimetype": "text/x-python",
   "name": "python",
   "nbconvert_exporter": "python",
   "pygments_lexer": "ipython3",
   "version": "3.12.4"
  }
 },
 "nbformat": 4,
 "nbformat_minor": 5
}
