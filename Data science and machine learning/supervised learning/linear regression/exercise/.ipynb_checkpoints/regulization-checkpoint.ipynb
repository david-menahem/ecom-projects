{
 "cells": [
  {
   "cell_type": "code",
   "execution_count": 16,
   "id": "36cc930d-e838-462d-a316-d6528c6ae17d",
   "metadata": {},
   "outputs": [],
   "source": [
    "import numpy as np \n",
    "import pandas as pd\n",
    "import matplotlib.pyplot as plt\n",
    "import seaborn as sns\n",
    "import scipy\n",
    "import sklearn"
   ]
  },
  {
   "cell_type": "code",
   "execution_count": 17,
   "id": "b658d688-0d5c-4059-b04c-4480feff264d",
   "metadata": {},
   "outputs": [
    {
     "data": {
      "text/html": [
       "<div>\n",
       "<style scoped>\n",
       "    .dataframe tbody tr th:only-of-type {\n",
       "        vertical-align: middle;\n",
       "    }\n",
       "\n",
       "    .dataframe tbody tr th {\n",
       "        vertical-align: top;\n",
       "    }\n",
       "\n",
       "    .dataframe thead th {\n",
       "        text-align: right;\n",
       "    }\n",
       "</style>\n",
       "<table border=\"1\" class=\"dataframe\">\n",
       "  <thead>\n",
       "    <tr style=\"text-align: right;\">\n",
       "      <th></th>\n",
       "      <th>TV</th>\n",
       "      <th>radio</th>\n",
       "      <th>newspaper</th>\n",
       "      <th>sales</th>\n",
       "    </tr>\n",
       "  </thead>\n",
       "  <tbody>\n",
       "    <tr>\n",
       "      <th>0</th>\n",
       "      <td>230.1</td>\n",
       "      <td>37.8</td>\n",
       "      <td>69.2</td>\n",
       "      <td>22.1</td>\n",
       "    </tr>\n",
       "    <tr>\n",
       "      <th>1</th>\n",
       "      <td>44.5</td>\n",
       "      <td>39.3</td>\n",
       "      <td>45.1</td>\n",
       "      <td>10.4</td>\n",
       "    </tr>\n",
       "    <tr>\n",
       "      <th>2</th>\n",
       "      <td>17.2</td>\n",
       "      <td>45.9</td>\n",
       "      <td>69.3</td>\n",
       "      <td>9.3</td>\n",
       "    </tr>\n",
       "    <tr>\n",
       "      <th>3</th>\n",
       "      <td>151.5</td>\n",
       "      <td>41.3</td>\n",
       "      <td>58.5</td>\n",
       "      <td>18.5</td>\n",
       "    </tr>\n",
       "    <tr>\n",
       "      <th>4</th>\n",
       "      <td>180.8</td>\n",
       "      <td>10.8</td>\n",
       "      <td>58.4</td>\n",
       "      <td>12.9</td>\n",
       "    </tr>\n",
       "    <tr>\n",
       "      <th>...</th>\n",
       "      <td>...</td>\n",
       "      <td>...</td>\n",
       "      <td>...</td>\n",
       "      <td>...</td>\n",
       "    </tr>\n",
       "    <tr>\n",
       "      <th>195</th>\n",
       "      <td>38.2</td>\n",
       "      <td>3.7</td>\n",
       "      <td>13.8</td>\n",
       "      <td>7.6</td>\n",
       "    </tr>\n",
       "    <tr>\n",
       "      <th>196</th>\n",
       "      <td>94.2</td>\n",
       "      <td>4.9</td>\n",
       "      <td>8.1</td>\n",
       "      <td>9.7</td>\n",
       "    </tr>\n",
       "    <tr>\n",
       "      <th>197</th>\n",
       "      <td>177.0</td>\n",
       "      <td>9.3</td>\n",
       "      <td>6.4</td>\n",
       "      <td>12.8</td>\n",
       "    </tr>\n",
       "    <tr>\n",
       "      <th>198</th>\n",
       "      <td>283.6</td>\n",
       "      <td>42.0</td>\n",
       "      <td>66.2</td>\n",
       "      <td>25.5</td>\n",
       "    </tr>\n",
       "    <tr>\n",
       "      <th>199</th>\n",
       "      <td>232.1</td>\n",
       "      <td>8.6</td>\n",
       "      <td>8.7</td>\n",
       "      <td>13.4</td>\n",
       "    </tr>\n",
       "  </tbody>\n",
       "</table>\n",
       "<p>200 rows × 4 columns</p>\n",
       "</div>"
      ],
      "text/plain": [
       "        TV  radio  newspaper  sales\n",
       "0    230.1   37.8       69.2   22.1\n",
       "1     44.5   39.3       45.1   10.4\n",
       "2     17.2   45.9       69.3    9.3\n",
       "3    151.5   41.3       58.5   18.5\n",
       "4    180.8   10.8       58.4   12.9\n",
       "..     ...    ...        ...    ...\n",
       "195   38.2    3.7       13.8    7.6\n",
       "196   94.2    4.9        8.1    9.7\n",
       "197  177.0    9.3        6.4   12.8\n",
       "198  283.6   42.0       66.2   25.5\n",
       "199  232.1    8.6        8.7   13.4\n",
       "\n",
       "[200 rows x 4 columns]"
      ]
     },
     "execution_count": 17,
     "metadata": {},
     "output_type": "execute_result"
    }
   ],
   "source": [
    "df = pd.read_csv('../data/Advertising.csv')\n",
    "df"
   ]
  },
  {
   "cell_type": "code",
   "execution_count": null,
   "id": "655f97d1-42bb-44db-98d2-15fa2d16fd1f",
   "metadata": {},
   "outputs": [],
   "source": []
  },
  {
   "cell_type": "code",
   "execution_count": 18,
   "id": "6863f8bf-0aa8-4e4c-91c4-76dfbc99f28d",
   "metadata": {},
   "outputs": [],
   "source": [
    "X = df.drop('sales', axis=1)\n",
    "y = df['sales']"
   ]
  },
  {
   "cell_type": "code",
   "execution_count": 19,
   "id": "31a31e4d-1a42-47c5-ab0e-68fb3d957d92",
   "metadata": {},
   "outputs": [],
   "source": [
    "from sklearn.preprocessing import PolynomialFeatures\n",
    "from sklearn.linear_model import LinearRegression\n",
    "from sklearn.model_selection import train_test_split\n",
    "\n",
    "polynomial_converter = PolynomialFeatures(degree=3, include_bias=False)\n",
    "polynomial_converter.fit(X)\n",
    "poly_features = polynomial_converter.transform(X)\n",
    "\n",
    "X_train, X_test, y_train, y_test = train_test_split(poly_features, y, test_size=0.3, random_state=42)"
   ]
  },
  {
   "cell_type": "code",
   "execution_count": 20,
   "id": "4019069b-edf0-4813-8542-16088981e485",
   "metadata": {},
   "outputs": [
    {
     "data": {
      "text/plain": [
       "array([[ 0.08266439,  0.55371878,  1.08861066, ...,  0.63526601,\n",
       "         0.77891369,  0.58997769],\n",
       "       [ 0.46663725,  1.65772773,  1.08861066, ...,  2.39779088,\n",
       "         1.50674316,  0.58997769],\n",
       "       [ 1.63290998,  0.32743123,  0.61829816, ...,  0.1596494 ,\n",
       "         0.20356999,  0.06197418],\n",
       "       ...,\n",
       "       [ 1.59463231,  1.28743902,  1.00618476, ...,  1.64748839,\n",
       "         1.14169689,  0.48175087],\n",
       "       [-1.63624219, -0.23485905, -0.65203044, ..., -0.56401089,\n",
       "        -0.55578153, -0.53099167],\n",
       "       [ 0.49295315, -1.373154  , -1.1902231 , ..., -0.74135926,\n",
       "        -0.64765298, -0.56786277]])"
      ]
     },
     "execution_count": 20,
     "metadata": {},
     "output_type": "execute_result"
    }
   ],
   "source": [
    "from sklearn.preprocessing import StandardScaler\n",
    "scaler = StandardScaler()\n",
    "scaler.fit(X_train)\n",
    "scaled_X_train = scaler.transform(X_train)\n",
    "scaled_X_test = scaler.transform(X_test)\n",
    "scaled_X_test"
   ]
  },
  {
   "cell_type": "code",
   "execution_count": 21,
   "id": "b2c621ba-9fac-423b-9e58-aff62da1c021",
   "metadata": {},
   "outputs": [
    {
     "name": "stdout",
     "output_type": "stream",
     "text": [
      "5.342426584662408e-18\n",
      "1.0\n",
      "Original:\n",
      " [2.84300000e+02 1.06000000e+01 6.40000000e+00 8.08264900e+04\n",
      " 3.01358000e+03 1.81952000e+03 1.12360000e+02 6.78400000e+01\n",
      " 4.09600000e+01 2.29789711e+07 8.56760794e+05 5.17289536e+05\n",
      " 3.19439480e+04 1.92869120e+04 1.16449280e+04 1.19101600e+03\n",
      " 7.19104000e+02 4.34176000e+02 2.62144000e+02]\n",
      " Scaled:\n",
      " [ 1.53003874 -0.8862929  -1.16598019  1.93705409 -0.22476356 -0.62651363\n",
      " -0.90793157 -0.850692   -0.81317305  2.23096225  0.10749852 -0.35876444\n",
      " -0.61820397 -0.60530328 -0.5751799  -0.81381745 -0.72447935 -0.64260728\n",
      " -0.56741817]\n"
     ]
    }
   ],
   "source": [
    "print(scaled_X_train.mean())\n",
    "print(scaled_X_train.std())\n",
    "print(f\"Original:\\n {X_train[0]}\\n Scaled:\\n {scaled_X_train[0]}\")"
   ]
  },
  {
   "cell_type": "code",
   "execution_count": 22,
   "id": "0cf16475-ed8d-4945-bf9d-d7d983f7e287",
   "metadata": {},
   "outputs": [],
   "source": [
    "from sklearn.linear_model import Ridge\n",
    "ridge_model = Ridge(alpha=10)\n",
    "ridge_model.fit(scaled_X_train,y_train)\n",
    "test_predictions = ridge_model.predict(scaled_X_test)"
   ]
  },
  {
   "cell_type": "code",
   "execution_count": 23,
   "id": "52c6ae57-ba8c-4aff-81ac-86b1d2fabeda",
   "metadata": {},
   "outputs": [
    {
     "name": "stdout",
     "output_type": "stream",
     "text": [
      "MAE: 0.6296591346758597, RSME: 0.8916327541710891\n"
     ]
    }
   ],
   "source": [
    "from sklearn.metrics import mean_absolute_error,mean_squared_error\n",
    "MAE = mean_absolute_error(y_test,test_predictions)\n",
    "RSME = np.sqrt(mean_squared_error(y_test,test_predictions))\n",
    "print(f\"MAE: {MAE}, RSME: {RSME}\")"
   ]
  },
  {
   "cell_type": "code",
   "execution_count": 24,
   "id": "a1bd5f41-aab3-4f9a-be55-ec22a3052bc1",
   "metadata": {},
   "outputs": [],
   "source": [
    "# from sklearn.metrics import SCORERS\n",
    "# sorted(SCORERS.keys())"
   ]
  },
  {
   "cell_type": "code",
   "execution_count": 25,
   "id": "87da459d-1d98-423b-b04e-6a0b4831b7ea",
   "metadata": {},
   "outputs": [
    {
     "data": {
      "text/plain": [
       "array([17.09733759, 22.56685216, 20.74912496,  7.70908713, 24.33191348,\n",
       "       12.88592004, 22.67272019,  8.38118434, 11.9211908 , 15.51699896,\n",
       "        7.68379912,  8.30107608, 12.36369864,  5.69944896, 10.46949832,\n",
       "       12.16421082,  6.83594036, 16.4875291 , 10.9018501 , 18.92188168,\n",
       "       19.82785168, 12.071664  ,  9.40126214, 21.94961822,  8.89738092,\n",
       "        7.72558637, 22.25129304, 12.68178468, 10.34461274,  5.65724261,\n",
       "       11.47731004, 10.40480725, 23.22284784,  9.13984995, 15.68629392,\n",
       "       21.03006555, 10.62671716, 20.34461552, 11.88033292,  6.3869701 ,\n",
       "       10.79263668, 12.65238961,  9.5343791 ,  9.15827064, 11.68028115,\n",
       "        6.98366258, 10.20224871, 14.80789387, 10.18756933, 11.61198187,\n",
       "       14.2357976 , 11.98536859,  8.52674116,  7.5351189 ,  8.45415819,\n",
       "       10.86940171, 10.17429382, 25.55988461,  6.88718606, 11.68151005])"
      ]
     },
     "execution_count": 25,
     "metadata": {},
     "output_type": "execute_result"
    }
   ],
   "source": [
    "from sklearn.linear_model import RidgeCV\n",
    "ridgeCV_model = RidgeCV(alphas=(0.1,1.0,10),scoring='neg_mean_absolute_error')\n",
    "ridgeCV_model.fit(scaled_X_train, y_train)\n",
    "test_predictions = ridgeCV_model.predict(scaled_X_test)\n",
    "test_predictions"
   ]
  },
  {
   "cell_type": "code",
   "execution_count": 26,
   "id": "ed0f3243-ed37-4fbc-989b-b345562426ef",
   "metadata": {},
   "outputs": [
    {
     "name": "stdout",
     "output_type": "stream",
     "text": [
      "MAE: 0.4667124113194288, RSME: 0.5945136671853409\n"
     ]
    }
   ],
   "source": [
    "MAE = mean_absolute_error(y_test,test_predictions)\n",
    "RSME = np.sqrt(mean_squared_error(y_test,test_predictions))\n",
    "print(f\"MAE: {MAE}, RSME: {RSME}\")"
   ]
  },
  {
   "cell_type": "code",
   "execution_count": 27,
   "id": "0519d11f-31f8-4e01-af92-f6b41f49025b",
   "metadata": {},
   "outputs": [
    {
     "data": {
      "image/png": "[encoded data removed]",
      "text/plain": [
       "<Figure size 640x480 with 1 Axes>"
      ]
     },
     "metadata": {},
     "output_type": "display_data"
    }
   ],
   "source": [
    "test_residuals = y_test - test_predictions\n",
    "sns.scatterplot(x=y_test,y=test_residuals)\n",
    "plt.show()"
   ]
  },
  {
   "cell_type": "code",
   "execution_count": 28,
   "id": "53ea25bf-05a4-4edc-8abe-f4d02224e2a6",
   "metadata": {},
   "outputs": [
    {
     "data": {
      "text/plain": [
       "array([[ 0.88171072,  0.97886508,  1.87892961, ...,  1.83705469,\n",
       "         2.27450699,  2.02592047],\n",
       "       [-1.33839407,  1.08172306,  0.71042123, ...,  1.07453814,\n",
       "         0.64171124,  0.14900798],\n",
       "       [-1.66495044,  1.53429816,  1.88377819, ...,  3.06687875,\n",
       "         2.91137552,  2.03718844],\n",
       "       ...,\n",
       "       [ 0.24654066, -0.97543648, -1.16598019, ..., -0.72880008,\n",
       "        -0.64346748, -0.56741817],\n",
       "       [ 1.5216655 ,  1.26686742,  1.73347213, ...,  2.30420814,\n",
       "         2.32380859,  1.70279176],\n",
       "       [ 0.90563427, -1.02343687, -1.05446279, ..., -0.7264536 ,\n",
       "        -0.63910568, -0.5643138 ]])"
      ]
     },
     "execution_count": 28,
     "metadata": {},
     "output_type": "execute_result"
    }
   ],
   "source": [
    "final_model = RidgeCV(alphas=(0.1,1.0,10),scoring='neg_mean_absolute_error')\n",
    "scaler = StandardScaler()\n",
    "scaler.fit(X_train)\n",
    "scalar_X = scaler.transform(poly_features)\n",
    "final_model.fit(scalar_X,y)\n",
    "scalar_X"
   ]
  },
  {
   "cell_type": "code",
   "execution_count": 29,
   "id": "994dfb32-1ec9-43b6-8699-f37b274fee3f",
   "metadata": {},
   "outputs": [
    {
     "data": {
      "text/plain": [
       "['models/advertising_ridge_modelCV.joblib']"
      ]
     },
     "execution_count": 29,
     "metadata": {},
     "output_type": "execute_result"
    }
   ],
   "source": [
    "from joblib import dump,load\n",
    "final_polynomial_converter = PolynomialFeatures(degree=3, include_bias=False)\n",
    "dump(scaler,'models/scalar.joblib')\n",
    "dump(final_polynomial_converter,'models/poly.joblib')\n",
    "dump(final_model,'models/advertising_ridge_modelCV.joblib')"
   ]
  },
  {
   "cell_type": "code",
   "execution_count": 31,
   "id": "d853e432-c5f7-4248-a088-0db1910b8d95",
   "metadata": {},
   "outputs": [
    {
     "data": {
      "text/plain": [
       "array([14.52692235])"
      ]
     },
     "execution_count": 31,
     "metadata": {},
     "output_type": "execute_result"
    }
   ],
   "source": [
    "loaded_poly = load('models/poly.joblib')\n",
    "loaded_scalar = load('models/scalar.joblib')\n",
    "loaded_model = load('models/advertising_ridge_modelCV.joblib')\n",
    "new_data = pd.DataFrame({'TV':[100],'radio':[100],'newspaper':[10]})\n",
    "poly_data = loaded_poly.fit_transform(new_data)\n",
    "final_data = loaded_scalar.fit_transform(poly_data)\n",
    "prediction = loaded_model.predict(final_data)\n",
    "prediction"
   ]
  }
 ],
 "metadata": {
  "kernelspec": {
   "display_name": "Python 3 (ipykernel)",
   "language": "python",
   "name": "python3"
  },
  "language_info": {
   "codemirror_mode": {
    "name": "ipython",
    "version": 3
   },
   "file_extension": ".py",
   "mimetype": "text/x-python",
   "name": "python",
   "nbconvert_exporter": "python",
   "pygments_lexer": "ipython3",
   "version": "3.12.4"
  }
 },
 "nbformat": 4,
 "nbformat_minor": 5
}
