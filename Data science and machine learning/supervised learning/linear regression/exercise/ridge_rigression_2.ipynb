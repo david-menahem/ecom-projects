{
 "cells": [
  {
   "cell_type": "code",
   "execution_count": 10,
   "id": "e34df901-9036-49ea-8d56-e2522e18a67d",
   "metadata": {},
   "outputs": [],
   "source": [
    "import numpy as np\n",
    "import pandas as pd\n",
    "import matplotlib.pyplot as plt\n",
    "import seaborn as sns"
   ]
  },
  {
   "cell_type": "code",
   "execution_count": 11,
   "id": "a23be92a-830a-4451-98b2-435650a74b22",
   "metadata": {},
   "outputs": [
    {
     "data": {
      "text/html": [
       "<div>\n",
       "<style scoped>\n",
       "    .dataframe tbody tr th:only-of-type {\n",
       "        vertical-align: middle;\n",
       "    }\n",
       "\n",
       "    .dataframe tbody tr th {\n",
       "        vertical-align: top;\n",
       "    }\n",
       "\n",
       "    .dataframe thead th {\n",
       "        text-align: right;\n",
       "    }\n",
       "</style>\n",
       "<table border=\"1\" class=\"dataframe\">\n",
       "  <thead>\n",
       "    <tr style=\"text-align: right;\">\n",
       "      <th></th>\n",
       "      <th>hours</th>\n",
       "      <th>money_earned</th>\n",
       "    </tr>\n",
       "  </thead>\n",
       "  <tbody>\n",
       "    <tr>\n",
       "      <th>0</th>\n",
       "      <td>2.0</td>\n",
       "      <td>50</td>\n",
       "    </tr>\n",
       "    <tr>\n",
       "      <th>1</th>\n",
       "      <td>3.0</td>\n",
       "      <td>70</td>\n",
       "    </tr>\n",
       "    <tr>\n",
       "      <th>2</th>\n",
       "      <td>4.0</td>\n",
       "      <td>90</td>\n",
       "    </tr>\n",
       "    <tr>\n",
       "      <th>3</th>\n",
       "      <td>5.0</td>\n",
       "      <td>100</td>\n",
       "    </tr>\n",
       "    <tr>\n",
       "      <th>4</th>\n",
       "      <td>6.0</td>\n",
       "      <td>110</td>\n",
       "    </tr>\n",
       "    <tr>\n",
       "      <th>5</th>\n",
       "      <td>1.5</td>\n",
       "      <td>40</td>\n",
       "    </tr>\n",
       "    <tr>\n",
       "      <th>6</th>\n",
       "      <td>5.0</td>\n",
       "      <td>110</td>\n",
       "    </tr>\n",
       "    <tr>\n",
       "      <th>7</th>\n",
       "      <td>7.0</td>\n",
       "      <td>130</td>\n",
       "    </tr>\n",
       "    <tr>\n",
       "      <th>8</th>\n",
       "      <td>8.0</td>\n",
       "      <td>145</td>\n",
       "    </tr>\n",
       "    <tr>\n",
       "      <th>9</th>\n",
       "      <td>10.0</td>\n",
       "      <td>180</td>\n",
       "    </tr>\n",
       "  </tbody>\n",
       "</table>\n",
       "</div>"
      ],
      "text/plain": [
       "   hours  money_earned\n",
       "0    2.0            50\n",
       "1    3.0            70\n",
       "2    4.0            90\n",
       "3    5.0           100\n",
       "4    6.0           110\n",
       "5    1.5            40\n",
       "6    5.0           110\n",
       "7    7.0           130\n",
       "8    8.0           145\n",
       "9   10.0           180"
      ]
     },
     "execution_count": 11,
     "metadata": {},
     "output_type": "execute_result"
    }
   ],
   "source": [
    "hours = [2, 3, 4, 5, 6, 1.5, 5, 7, 8, 10]\n",
    "money_earned =  [50, 70, 90, 100, 110, 40, 110, 130, 145, 180]\n",
    "call_center_df = pd.DataFrame({'hours':hours,'money_earned':money_earned})\n",
    "call_center_df"
   ]
  },
  {
   "cell_type": "code",
   "execution_count": 12,
   "id": "006114a4-f5f4-4acc-b37c-adeaa5c1a13e",
   "metadata": {},
   "outputs": [
    {
     "data": {
      "image/png": "[encoded data removed]",
      "text/plain": [
       "<Figure size 640x480 with 1 Axes>"
      ]
     },
     "metadata": {},
     "output_type": "display_data"
    }
   ],
   "source": [
    "sns.scatterplot(data=call_center_df,x='hours',y='money_earned')\n",
    "plt.show()"
   ]
  },
  {
   "cell_type": "code",
   "execution_count": 13,
   "id": "5fddf953-7054-4ed9-b738-bf48904f6b7e",
   "metadata": {},
   "outputs": [],
   "source": [
    "X = pd.DataFrame({'hours':call_center_df['hours']})\n",
    "y = call_center_df['money_earned']"
   ]
  },
  {
   "cell_type": "code",
   "execution_count": 14,
   "id": "820bd100-c706-4acf-9a75-8a91d8af5da0",
   "metadata": {},
   "outputs": [],
   "source": [
    "from sklearn.preprocessing import PolynomialFeatures\n",
    "poly_converter = PolynomialFeatures(degree=4,include_bias=False)\n",
    "poly_converter.fit(X)\n",
    "poly_features = poly_converter.transform(X)"
   ]
  },
  {
   "cell_type": "code",
   "execution_count": 15,
   "id": "97524811-39e1-4a29-91e2-d77a7156af8b",
   "metadata": {},
   "outputs": [],
   "source": [
    "from sklearn.model_selection import train_test_split\n",
    "X_train,X_test,y_train,y_test = train_test_split(poly_features,y,test_size=0.2,random_state=42)\n",
    "\n",
    "from sklearn.preprocessing import MinMaxScaler\n",
    "scalar = MinMaxScaler()\n",
    "scalar.fit(X_train)\n",
    "scaled_X_train = scalar.transform(X_train)\n",
    "scaled_X_test = scalar.transform(X_test)"
   ]
  },
  {
   "cell_type": "code",
   "execution_count": 16,
   "id": "e3aec77e-483e-43bc-81a0-e773bb9864f2",
   "metadata": {},
   "outputs": [
    {
     "data": {
      "text/plain": [
       "array([115.20693481,  90.89239013])"
      ]
     },
     "execution_count": 16,
     "metadata": {},
     "output_type": "execute_result"
    }
   ],
   "source": [
    "from sklearn.linear_model import Ridge\n",
    "ridge_model = Ridge(alpha=5)\n",
    "ridge_model.fit(scaled_X_train,y_train)\n",
    "test_predict = ridge_model.predict(scaled_X_test)\n",
    "test_predict"
   ]
  },
  {
   "cell_type": "code",
   "execution_count": 17,
   "id": "e14c962f-a4bd-48dc-a253-e44c8964ed33",
   "metadata": {},
   "outputs": [
    {
     "name": "stdout",
     "output_type": "stream",
     "text": [
      "MAE: 25.342727662857307, 24.724612354007128 percent\n",
      " RSME: 25.730513976752245, 25.102940465124142 percent\n"
     ]
    }
   ],
   "source": [
    "from sklearn.metrics import mean_absolute_error,mean_squared_error\n",
    "MAE = mean_absolute_error(y_test,test_predict)\n",
    "MSE = mean_squared_error(y_test,test_predict)\n",
    "RSME = np.sqrt(MSE)\n",
    "\n",
    "mae_percentage = MAE*100/y.mean()\n",
    "rsme_percentage = RSME*100/y.mean()\n",
    "\n",
    "print(f'MAE: {MAE}, {mae_percentage} percent\\n RSME: {RSME}, {rsme_percentage} percent')"
   ]
  },
  {
   "cell_type": "code",
   "execution_count": 18,
   "id": "cab896f0-096e-4767-99a2-4b8294d0e186",
   "metadata": {},
   "outputs": [
    {
     "name": "stdout",
     "output_type": "stream",
     "text": [
      "MAE: 0.9296145442632735, 0.9069410187934376 percent\n",
      " RSME: 0.9374952027112431, 0.9146294660597494 percent\n",
      "Alpha: 0.1\n",
      "Beta: [77.93716499 38.31603744 12.90767418 -1.35656765]\n"
     ]
    }
   ],
   "source": [
    "from sklearn.linear_model import RidgeCV\n",
    "ridge_cv_model = RidgeCV(alphas=(0.1,1.0,10.0),scoring='neg_mean_absolute_error')\n",
    "ridge_cv_model.fit(scaled_X_train,y_train)\n",
    "test_predict_cv = ridge_cv_model.predict(scaled_X_test)\n",
    "MAE = mean_absolute_error(y_test,test_predict_cv)\n",
    "MSE = mean_squared_error(y_test,test_predict_cv)\n",
    "RSME = np.sqrt(MSE)\n",
    "\n",
    "mae_percentage = MAE*100/y.mean()\n",
    "rsme_percentage = RSME*100/y.mean()\n",
    "\n",
    "print(f'MAE: {MAE}, {mae_percentage} percent\\n RSME: {RSME}, {rsme_percentage} percent')\n",
    "print(f'Alpha: {ridge_cv_model.alpha_}')\n",
    "print(f'Beta: {ridge_cv_model.coef_}')"
   ]
  },
  {
   "cell_type": "markdown",
   "id": "2be19d9d-42d0-494a-979b-3cfa541938f7",
   "metadata": {},
   "source": [
    "# The ridge cv model improved the model's accuracy"
   ]
  }
 ],
 "metadata": {
  "kernelspec": {
   "display_name": "Python 3 (ipykernel)",
   "language": "python",
   "name": "python3"
  },
  "language_info": {
   "codemirror_mode": {
    "name": "ipython",
    "version": 3
   },
   "file_extension": ".py",
   "mimetype": "text/x-python",
   "name": "python",
   "nbconvert_exporter": "python",
   "pygments_lexer": "ipython3",
   "version": "3.12.4"
  }
 },
 "nbformat": 4,
 "nbformat_minor": 5
}
