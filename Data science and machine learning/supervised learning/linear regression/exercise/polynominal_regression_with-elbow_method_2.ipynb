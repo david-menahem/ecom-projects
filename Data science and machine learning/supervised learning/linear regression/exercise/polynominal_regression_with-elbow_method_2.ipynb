{
 "cells": [
  {
   "cell_type": "code",
   "execution_count": 1,
   "id": "e020f1a9-879e-4ba3-b18d-2d8874d86b6f",
   "metadata": {},
   "outputs": [],
   "source": [
    "import numpy as np\n",
    "import pandas as pd\n",
    "import matplotlib.pyplot as plt\n",
    "import seaborn as sns\n",
    "import scipy\n",
    "import sklearn"
   ]
  },
  {
   "cell_type": "code",
   "execution_count": 2,
   "id": "a440e593-ac2c-42e1-a7f5-93460e712d8b",
   "metadata": {},
   "outputs": [
    {
     "data": {
      "text/html": [
       "<div>\n",
       "<style scoped>\n",
       "    .dataframe tbody tr th:only-of-type {\n",
       "        vertical-align: middle;\n",
       "    }\n",
       "\n",
       "    .dataframe tbody tr th {\n",
       "        vertical-align: top;\n",
       "    }\n",
       "\n",
       "    .dataframe thead th {\n",
       "        text-align: right;\n",
       "    }\n",
       "</style>\n",
       "<table border=\"1\" class=\"dataframe\">\n",
       "  <thead>\n",
       "    <tr style=\"text-align: right;\">\n",
       "      <th></th>\n",
       "      <th>hours</th>\n",
       "      <th>money_earned</th>\n",
       "    </tr>\n",
       "  </thead>\n",
       "  <tbody>\n",
       "    <tr>\n",
       "      <th>0</th>\n",
       "      <td>2.0</td>\n",
       "      <td>50</td>\n",
       "    </tr>\n",
       "    <tr>\n",
       "      <th>1</th>\n",
       "      <td>3.0</td>\n",
       "      <td>70</td>\n",
       "    </tr>\n",
       "    <tr>\n",
       "      <th>2</th>\n",
       "      <td>4.0</td>\n",
       "      <td>90</td>\n",
       "    </tr>\n",
       "    <tr>\n",
       "      <th>3</th>\n",
       "      <td>5.0</td>\n",
       "      <td>100</td>\n",
       "    </tr>\n",
       "    <tr>\n",
       "      <th>4</th>\n",
       "      <td>6.0</td>\n",
       "      <td>110</td>\n",
       "    </tr>\n",
       "    <tr>\n",
       "      <th>5</th>\n",
       "      <td>1.5</td>\n",
       "      <td>40</td>\n",
       "    </tr>\n",
       "    <tr>\n",
       "      <th>6</th>\n",
       "      <td>5.0</td>\n",
       "      <td>110</td>\n",
       "    </tr>\n",
       "    <tr>\n",
       "      <th>7</th>\n",
       "      <td>7.0</td>\n",
       "      <td>130</td>\n",
       "    </tr>\n",
       "    <tr>\n",
       "      <th>8</th>\n",
       "      <td>8.0</td>\n",
       "      <td>145</td>\n",
       "    </tr>\n",
       "    <tr>\n",
       "      <th>9</th>\n",
       "      <td>10.0</td>\n",
       "      <td>180</td>\n",
       "    </tr>\n",
       "  </tbody>\n",
       "</table>\n",
       "</div>"
      ],
      "text/plain": [
       "   hours  money_earned\n",
       "0    2.0            50\n",
       "1    3.0            70\n",
       "2    4.0            90\n",
       "3    5.0           100\n",
       "4    6.0           110\n",
       "5    1.5            40\n",
       "6    5.0           110\n",
       "7    7.0           130\n",
       "8    8.0           145\n",
       "9   10.0           180"
      ]
     },
     "execution_count": 2,
     "metadata": {},
     "output_type": "execute_result"
    }
   ],
   "source": [
    "hours =  [2, 3, 4, 5, 6, 1.5, 5, 7, 8, 10]\n",
    "money_earned = [50, 70, 90, 100, 110, 40, 110, 130, 145, 180]\n",
    "call_center_df = pd.DataFrame({'hours':hours,'money_earned':money_earned})\n",
    "call_center_df"
   ]
  },
  {
   "cell_type": "code",
   "execution_count": 3,
   "id": "e95dfdbf-c1be-491b-9673-8ef3bc147312",
   "metadata": {},
   "outputs": [
    {
     "data": {
      "text/html": [
       "<div>\n",
       "<style scoped>\n",
       "    .dataframe tbody tr th:only-of-type {\n",
       "        vertical-align: middle;\n",
       "    }\n",
       "\n",
       "    .dataframe tbody tr th {\n",
       "        vertical-align: top;\n",
       "    }\n",
       "\n",
       "    .dataframe thead th {\n",
       "        text-align: right;\n",
       "    }\n",
       "</style>\n",
       "<table border=\"1\" class=\"dataframe\">\n",
       "  <thead>\n",
       "    <tr style=\"text-align: right;\">\n",
       "      <th></th>\n",
       "      <th>money_earned</th>\n",
       "    </tr>\n",
       "  </thead>\n",
       "  <tbody>\n",
       "    <tr>\n",
       "      <th>0</th>\n",
       "      <td>50</td>\n",
       "    </tr>\n",
       "    <tr>\n",
       "      <th>1</th>\n",
       "      <td>70</td>\n",
       "    </tr>\n",
       "    <tr>\n",
       "      <th>2</th>\n",
       "      <td>90</td>\n",
       "    </tr>\n",
       "    <tr>\n",
       "      <th>3</th>\n",
       "      <td>100</td>\n",
       "    </tr>\n",
       "    <tr>\n",
       "      <th>4</th>\n",
       "      <td>110</td>\n",
       "    </tr>\n",
       "    <tr>\n",
       "      <th>5</th>\n",
       "      <td>40</td>\n",
       "    </tr>\n",
       "    <tr>\n",
       "      <th>6</th>\n",
       "      <td>110</td>\n",
       "    </tr>\n",
       "    <tr>\n",
       "      <th>7</th>\n",
       "      <td>130</td>\n",
       "    </tr>\n",
       "    <tr>\n",
       "      <th>8</th>\n",
       "      <td>145</td>\n",
       "    </tr>\n",
       "    <tr>\n",
       "      <th>9</th>\n",
       "      <td>180</td>\n",
       "    </tr>\n",
       "  </tbody>\n",
       "</table>\n",
       "</div>"
      ],
      "text/plain": [
       "   money_earned\n",
       "0            50\n",
       "1            70\n",
       "2            90\n",
       "3           100\n",
       "4           110\n",
       "5            40\n",
       "6           110\n",
       "7           130\n",
       "8           145\n",
       "9           180"
      ]
     },
     "execution_count": 3,
     "metadata": {},
     "output_type": "execute_result"
    }
   ],
   "source": [
    "X = call_center_df.drop('money_earned',axis=1)\n",
    "y = call_center_df.drop('hours',axis=1)\n",
    "y"
   ]
  },
  {
   "cell_type": "code",
   "execution_count": 4,
   "id": "73a0b756-ed65-49d0-bebe-c3fd5c213805",
   "metadata": {},
   "outputs": [],
   "source": [
    "from sklearn.preprocessing import PolynomialFeatures\n",
    "from sklearn.model_selection import train_test_split\n",
    "from sklearn.linear_model import LinearRegression\n",
    "from sklearn.metrics import mean_absolute_error,mean_squared_error\n",
    "train_rsme_errors = []\n",
    "test_rsme_errors = []\n",
    "\n",
    "for degree in range(1,7):\n",
    "    poly_converter = PolynomialFeatures(degree=degree,include_bias=False)\n",
    "    poly_features = poly_converter.fit_transform(X)\n",
    "    \n",
    "    X_train, X_test, y_train, y_test = train_test_split(poly_features,y,test_size=0.3,random_state=10)\n",
    "    \n",
    "    model = LinearRegression()\n",
    "    model.fit(X_train,y_train)\n",
    "    \n",
    "    train_predictions = model.predict(X_train)\n",
    "    test_predictions = model.predict(X_test)\n",
    "    \n",
    "    train_rsme = np.sqrt(mean_squared_error(y_train,train_predictions))\n",
    "    test_rmse = np.sqrt(mean_squared_error(y_test,test_predictions))\n",
    "    train_rsme_errors.append(train_rsme)\n",
    "    test_rsme_errors.append(test_rmse)\n"
   ]
  },
  {
   "cell_type": "code",
   "execution_count": 5,
   "id": "ebe0d752-48c7-4b90-b108-067e1097181d",
   "metadata": {},
   "outputs": [
    {
     "data": {
      "image/png": "[encoded data removed]",
      "text/plain": [
       "<Figure size 640x480 with 1 Axes>"
      ]
     },
     "metadata": {},
     "output_type": "display_data"
    }
   ],
   "source": [
    "degrees = np.linspace(1,6,6)\n",
    "plt.plot(degrees,train_rsme_errors,label='train')\n",
    "plt.plot(degrees,test_rsme_errors,label='test')\n",
    "plt.legend()\n",
    "plt.show()"
   ]
  },
  {
   "cell_type": "code",
   "execution_count": 6,
   "id": "718d2b04-b41f-4a56-9193-3cafea580178",
   "metadata": {},
   "outputs": [
    {
     "name": "stdout",
     "output_type": "stream",
     "text": [
      "Train\n",
      "[4.559886358318898, 4.541802849684084, 3.687882546301265, 3.687741332989108, 2.6726124191242437, 2.6726124191242437]\n",
      "Test\n",
      "[4.582487397553141, 4.259544425904053, 2.9635617756230497, 2.9854289147495217, 20.886914211777214, 22.085147465967623]\n"
     ]
    }
   ],
   "source": [
    "print(f\"Train\\n{train_rsme_errors}\")\n",
    "print(f\"Test\\n{test_rsme_errors}\")"
   ]
  },
  {
   "cell_type": "code",
   "execution_count": 7,
   "id": "dcb39c7b-c236-4cb4-b319-bf53605d4f2a",
   "metadata": {},
   "outputs": [],
   "source": [
    "from sklearn.linear_model import Ridge\n",
    "poly_converter = PolynomialFeatures(degree=3,include_bias=False)\n",
    "poly_features = poly_converter.fit_transform(X)\n",
    "ridge_model = Ridge(alpha=3)\n",
    "ridge_model.fit(poly_features,y)\n",
    "predictions =  ridge_model.predict(poly_features)"
   ]
  },
  {
   "cell_type": "code",
   "execution_count": 8,
   "id": "202a8cca-81c6-42cd-bc55-eee2d61d53b5",
   "metadata": {},
   "outputs": [
    {
     "data": {
      "text/plain": [
       "array([[ 3.36347738,  2.47686429, -0.14265962]])"
      ]
     },
     "execution_count": 8,
     "metadata": {},
     "output_type": "execute_result"
    }
   ],
   "source": [
    "ridge_model.coef_"
   ]
  },
  {
   "cell_type": "code",
   "execution_count": 10,
   "id": "518f7bf0-cd9d-4a7b-9df4-77c08e24d75b",
   "metadata": {},
   "outputs": [
    {
     "data": {
      "text/plain": [
       "array([[107.64069971]])"
      ]
     },
     "execution_count": 10,
     "metadata": {},
     "output_type": "execute_result"
    }
   ],
   "source": [
    "from joblib import dump,load\n",
    "poly_converter = PolynomialFeatures(degree=3,include_bias=False)\n",
    "dump(poly_converter,'models/call_center_poly_converter')\n",
    "dump(ridge_model,'models/poly_call_center_model')\n",
    "\n",
    "loaded_converter = load('models/call_center_poly_converter')\n",
    "loaded_model = load('models/poly_call_center_model')\n",
    "\n",
    "new_data = pd.DataFrame({'hours':[5.5]})\n",
    "poly_new_data = loaded_converter.fit_transform(new_data)\n",
    "prediction = loaded_model.predict(poly_new_data)\n",
    "prediction"
   ]
  }
 ],
 "metadata": {
  "kernelspec": {
   "display_name": "Python 3 (ipykernel)",
   "language": "python",
   "name": "python3"
  },
  "language_info": {
   "codemirror_mode": {
    "name": "ipython",
    "version": 3
   },
   "file_extension": ".py",
   "mimetype": "text/x-python",
   "name": "python",
   "nbconvert_exporter": "python",
   "pygments_lexer": "ipython3",
   "version": "3.12.4"
  }
 },
 "nbformat": 4,
 "nbformat_minor": 5
}
