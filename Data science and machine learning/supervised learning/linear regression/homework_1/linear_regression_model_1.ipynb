{
 "cells": [
  {
   "cell_type": "code",
   "execution_count": 14,
   "id": "985b2af8-8172-42b2-909c-17a020fac688",
   "metadata": {},
   "outputs": [],
   "source": [
    "import numpy as np\n",
    "import pandas as pd\n",
    "import matplotlib.pyplot as plt\n",
    "import seaborn as sns\n",
    "import scipy\n",
    "import sklearn"
   ]
  },
  {
   "cell_type": "code",
   "execution_count": 15,
   "id": "5a54e511-89fb-426a-9340-a210f9a4d47d",
   "metadata": {},
   "outputs": [],
   "source": [
    "ads_df = pd.read_csv('../data/Advertising.csv')\n",
    "ads_df.head()\n",
    "ads_df_copy = ads_df.copy()"
   ]
  },
  {
   "cell_type": "code",
   "execution_count": 16,
   "id": "d546c61f-1955-4cf2-af39-46043ead5d12",
   "metadata": {},
   "outputs": [],
   "source": [
    "X = ads_df_copy.drop('sales',axis=1)\n",
    "y = ads_df_copy['sales']"
   ]
  },
  {
   "cell_type": "code",
   "execution_count": 17,
   "id": "b42e1644-5be0-42b5-8437-82df0b0d3e34",
   "metadata": {},
   "outputs": [],
   "source": [
    "from sklearn.model_selection import train_test_split\n",
    "X_train, X_test, y_train, y_test = train_test_split(X,y,test_size=0.3,random_state=100)"
   ]
  },
  {
   "cell_type": "code",
   "execution_count": 18,
   "id": "36de1a0a-4fd1-4169-ae29-10b1c95383f8",
   "metadata": {},
   "outputs": [
    {
     "data": {
      "text/plain": [
       "array([10.62160072, 20.00625302, 16.91850882, 19.17040746, 20.94974131,\n",
       "       13.12284284, 11.80740696, 12.32019766, 20.57806782, 20.95662688,\n",
       "       10.79096475, 19.54868702,  6.42403866, 15.23133391,  8.97226257,\n",
       "        7.89897862, 16.23599497, 12.02636477, 17.09702178, 11.26080277,\n",
       "       16.97826292,  9.75655721, 20.82389762, 17.20916742, 15.13816239,\n",
       "       21.97290698, 19.20181841, 10.07501899, 19.39017185, 14.8673761 ,\n",
       "       14.36798893,  7.55604543,  9.96742165, 14.76342565,  7.20995576,\n",
       "       13.60003295,  7.49088656, 11.70865932, 13.46091883, 15.2229793 ,\n",
       "       17.18088277, 13.56738329, 14.30942267, 13.72909849, 11.88559349,\n",
       "        8.77039705, 12.1244102 , 19.20252289,  9.08376601,  5.15367352,\n",
       "       16.22852749, 18.14111213, 12.94835466, 16.86274503, 17.86462435,\n",
       "       12.33930625,  4.3575739 , 11.25904494, 16.11560622, 13.56602169])"
      ]
     },
     "execution_count": 18,
     "metadata": {},
     "output_type": "execute_result"
    }
   ],
   "source": [
    "from sklearn.linear_model import LinearRegression\n",
    "model = LinearRegression()\n",
    "model.fit(X_train,y_train)\n",
    "predict = model.predict(X_test)\n",
    "predict"
   ]
  },
  {
   "cell_type": "code",
   "execution_count": 19,
   "id": "02a94b81-c7cf-4aaf-88c5-8936d47cf563",
   "metadata": {},
   "outputs": [
    {
     "data": {
      "text/plain": [
       "array([ 0.04576465,  0.18853002, -0.00103749])"
      ]
     },
     "execution_count": 19,
     "metadata": {},
     "output_type": "execute_result"
    }
   ],
   "source": [
    "final_model = LinearRegression()\n",
    "final_model.fit(X,y)\n",
    "final_model.coef_"
   ]
  },
  {
   "cell_type": "code",
   "execution_count": 20,
   "id": "7ef5571c-5c50-4936-b69e-bc10c064457a",
   "metadata": {},
   "outputs": [
    {
     "data": {
      "text/plain": [
       "['models/sales_model']"
      ]
     },
     "execution_count": 20,
     "metadata": {},
     "output_type": "execute_result"
    }
   ],
   "source": [
    "from joblib import dump,load\n",
    "dump(final_model,'models/sales_model')"
   ]
  },
  {
   "cell_type": "code",
   "execution_count": 21,
   "id": "a3b31436-bc60-45cd-9059-7760dbceebce",
   "metadata": {},
   "outputs": [
    {
     "data": {
      "text/plain": [
       "array([ 0.04576465,  0.18853002, -0.00103749])"
      ]
     },
     "execution_count": 21,
     "metadata": {},
     "output_type": "execute_result"
    }
   ],
   "source": [
    "loaded_model = load('models/sales_model')\n",
    "loaded_model.coef_"
   ]
  },
  {
   "cell_type": "code",
   "execution_count": 22,
   "id": "89f73c04-1cb7-480a-bbea-116a46ef32e4",
   "metadata": {},
   "outputs": [
    {
     "data": {
      "text/plain": [
       "array([13.893032])"
      ]
     },
     "execution_count": 22,
     "metadata": {},
     "output_type": "execute_result"
    }
   ],
   "source": [
    "new_capaign = pd.DataFrame(columns=['TV','radio','newspaper'], data=[[149,22,12]])\n",
    "loaded_model.predict(new_capaign)"
   ]
  }
 ],
 "metadata": {
  "kernelspec": {
   "display_name": "Python 3 (ipykernel)",
   "language": "python",
   "name": "python3"
  },
  "language_info": {
   "codemirror_mode": {
    "name": "ipython",
    "version": 3
   },
   "file_extension": ".py",
   "mimetype": "text/x-python",
   "name": "python",
   "nbconvert_exporter": "python",
   "pygments_lexer": "ipython3",
   "version": "3.12.4"
  }
 },
 "nbformat": 4,
 "nbformat_minor": 5
}
