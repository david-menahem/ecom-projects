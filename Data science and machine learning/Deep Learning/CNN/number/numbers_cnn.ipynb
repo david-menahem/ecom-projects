{
 "cells": [
  {
   "cell_type": "code",
   "execution_count": null,
   "id": "1a451ad6-cfc8-425d-8c0c-29f3795f3a13",
   "metadata": {},
   "outputs": [],
   "source": [
    "# from google.colab import drive\n",
    "# drive.mount('/content/drive')"
   ]
  },
  {
   "cell_type": "code",
   "execution_count": 3,
   "id": "5b617420-a2ed-4bb2-bcbb-59cac18bd543",
   "metadata": {},
   "outputs": [],
   "source": [
    "import zipfile\n",
    "zip_file = 'C:/Users/yaelg/AI Live/Machine Learning/Deep Learning/CNN/number/Numbers_Images_Dataset.zip'\n",
    "with zipfile.ZipFile(zip_file,'r') as zip_ref:\n",
    "    zip_ref.extractall('images')"
   ]
  },
  {
   "cell_type": "code",
   "execution_count": 11,
   "id": "f83e73a6-0283-408f-b73d-4090f5ddab34",
   "metadata": {},
   "outputs": [],
   "source": [
    "from pathlib import Path\n",
    "\n",
    "def list_folders_in_directory(directory_path):\n",
    "    # List only directories\n",
    "    folders = [f.name for f in Path(directory_path).iterdir() if f.is_dir()]\n",
    "    return folders\n",
    "\n",
    "def create_directory(directory_path):\n",
    "    # Create a directory if it doesn't exist\n",
    "    try:\n",
    "        Path(directory_path).mkdir(parents=True, exist_ok=True)\n",
    "        print(f\"Directory '{directory_path}' created successfully.\")\n",
    "    except OSError as e:\n",
    "        print(f\"Error creating directory: {e}\")\n",
    "\n",
    "def list_files_in_directory(directory_path):\n",
    "    # List only files\n",
    "    files = [f.name for f in Path(directory_path).iterdir() if f.is_file()]\n",
    "    return files\n",
    "\n",
    "import shutil\n",
    "\n",
    "def move_file(source_path, destination_path):\n",
    "    try:\n",
    "        shutil.move(source_path, destination_path)\n",
    "        print(f\"File moved from '{source_path}' to '{destination_path}' successfully.\")\n",
    "    except Exception as e:\n",
    "        print(f\"Error moving file: {e}\")"
   ]
  },
  {
   "cell_type": "code",
   "execution_count": 22,
   "id": "ffa1f2f1-1f1b-4436-9040-1f6e9de75d53",
   "metadata": {
    "scrolled": true
   },
   "outputs": [],
   "source": [
    "directory_path = \"C:/Users/yaelg/AI Live/Machine Learning/Deep Learning/CNN/number/images\""
   ]
  },
  {
   "cell_type": "code",
   "execution_count": 24,
   "id": "586a5761-31ff-4196-b691-9db928093d4b",
   "metadata": {},
   "outputs": [
    {
     "name": "stdout",
     "output_type": "stream",
     "text": [
      "Directory 'C:/Users/yaelg/AI Live/Machine Learning/Deep Learning/CNN/number/images/test' created successfully.\n",
      "Directory 'C:/Users/yaelg/AI Live/Machine Learning/Deep Learning/CNN/number/images/train' created successfully.\n",
      "Directory 'C:/Users/yaelg/AI Live/Machine Learning/Deep Learning/CNN/number/images/train/sample0' created successfully.\n",
      "Directory 'C:/Users/yaelg/AI Live/Machine Learning/Deep Learning/CNN/number/images/test/sample0' created successfully.\n",
      "Directory 'C:/Users/yaelg/AI Live/Machine Learning/Deep Learning/CNN/number/images/train/sample1' created successfully.\n",
      "Directory 'C:/Users/yaelg/AI Live/Machine Learning/Deep Learning/CNN/number/images/test/sample1' created successfully.\n",
      "Directory 'C:/Users/yaelg/AI Live/Machine Learning/Deep Learning/CNN/number/images/train/sample2' created successfully.\n",
      "Directory 'C:/Users/yaelg/AI Live/Machine Learning/Deep Learning/CNN/number/images/test/sample2' created successfully.\n",
      "Directory 'C:/Users/yaelg/AI Live/Machine Learning/Deep Learning/CNN/number/images/train/sample3' created successfully.\n",
      "Directory 'C:/Users/yaelg/AI Live/Machine Learning/Deep Learning/CNN/number/images/test/sample3' created successfully.\n",
      "Directory 'C:/Users/yaelg/AI Live/Machine Learning/Deep Learning/CNN/number/images/train/sample4' created successfully.\n",
      "Directory 'C:/Users/yaelg/AI Live/Machine Learning/Deep Learning/CNN/number/images/test/sample4' created successfully.\n",
      "Directory 'C:/Users/yaelg/AI Live/Machine Learning/Deep Learning/CNN/number/images/train/sample5' created successfully.\n",
      "Directory 'C:/Users/yaelg/AI Live/Machine Learning/Deep Learning/CNN/number/images/test/sample5' created successfully.\n",
      "Directory 'C:/Users/yaelg/AI Live/Machine Learning/Deep Learning/CNN/number/images/train/sample6' created successfully.\n",
      "Directory 'C:/Users/yaelg/AI Live/Machine Learning/Deep Learning/CNN/number/images/test/sample6' created successfully.\n",
      "Directory 'C:/Users/yaelg/AI Live/Machine Learning/Deep Learning/CNN/number/images/train/sample7' created successfully.\n",
      "Directory 'C:/Users/yaelg/AI Live/Machine Learning/Deep Learning/CNN/number/images/test/sample7' created successfully.\n",
      "Directory 'C:/Users/yaelg/AI Live/Machine Learning/Deep Learning/CNN/number/images/train/sample8' created successfully.\n",
      "Directory 'C:/Users/yaelg/AI Live/Machine Learning/Deep Learning/CNN/number/images/test/sample8' created successfully.\n",
      "Directory 'C:/Users/yaelg/AI Live/Machine Learning/Deep Learning/CNN/number/images/train/sample9' created successfully.\n",
      "Directory 'C:/Users/yaelg/AI Live/Machine Learning/Deep Learning/CNN/number/images/test/sample9' created successfully.\n"
     ]
    }
   ],
   "source": [
    "create_directory(directory_path + \"/\" + \"test\")\n",
    "create_directory(directory_path + \"/\" + \"train\")\n",
    "for i in range(0,10):\n",
    "    create_directory(f'{directory_path}/train/sample{i}')\n",
    "    create_directory(f'{directory_path}/test/sample{i}')"
   ]
  },
  {
   "cell_type": "code",
   "execution_count": 26,
   "id": "96482949-da76-4cd7-80d0-ac0db251bd65",
   "metadata": {},
   "outputs": [
    {
     "ename": "IndentationError",
     "evalue": "unindent does not match any outer indentation level (<string>, line 19)",
     "output_type": "error",
     "traceback": [
      "\u001b[1;36m  File \u001b[1;32m<string>:19\u001b[1;36m\u001b[0m\n\u001b[1;33m    dest = directory_path + \"/\"  + \"train\" + \"/\" +  folder + \"/\" + images[i]\u001b[0m\n\u001b[1;37m                                                                            ^\u001b[0m\n\u001b[1;31mIndentationError\u001b[0m\u001b[1;31m:\u001b[0m unindent does not match any outer indentation level\n"
     ]
    }
   ],
   "source": [
    "path_1 = 'numbers/chars74k_png/BadImag'\n",
    "path_2 = 'numbers/chars74k_png/Fnt'\n",
    "path_3 = 'numbers/chars74k_png/GoodImg'\n",
    "path_4 = 'numbers/chars74k_png/Hnd'\n",
    "path_5 = 'numbers/mnist_png/Hnd'\n",
    "paths = [path_1,path_2,path_3,path_4,path_5]\n",
    "for path in paths:\n",
    "    folders = list_folders_in_directory(directory_path + \"/\" + path)\n",
    "    for folder in folders:\n",
    "        images = list_files_in_directory(directory_path + \"/\" + path + \"/\" + folder)\n",
    "        ten_percent = int(len(images)/10)\n",
    "        ten_percent\n",
    "        for i in range(0,ten_percent):\n",
    "            source = directory_path + \"/\" + path + \"/\" +  folder + \"/\" + images[i]\n",
    "            dest = directory_path + \"/\"  + \"test\" + \"/\" +  folder + \"/\" + images[i]\n",
    "            move_file(source,dest)\n",
    "        for i in range(ten_percent,len(images)):\n",
    "                        source = directory_path + \"/\" + path + \"/\" +  folder + \"/\" + images[i]\n",
    "            dest = directory_path + \"/\"  + \"train\" + \"/\" +  folder + \"/\" + images[i]\n",
    "            move_file(source,dest)"
   ]
  },
  {
   "cell_type": "code",
   "execution_count": null,
   "id": "037fbc75-fc92-4ece-8adc-d538b6914ffe",
   "metadata": {},
   "outputs": [],
   "source": [
    "import numpy as np\n",
    "import pandas as pd\n",
    "import matplotlib.pyplot as plt\n",
    "import seaborn as sns\n",
    "import tensorflow as tf"
   ]
  },
  {
   "cell_type": "code",
   "execution_count": null,
   "id": "8f2b558c-e28b-4cbc-8457-d41e95b5b422",
   "metadata": {},
   "outputs": [],
   "source": [
    "tf.config.set_visible_devices([],'GPU')\n",
    "print('Available GPU cores ', len(tf.config.experimental.list_physical_devices('GPU')))"
   ]
  },
  {
   "cell_type": "code",
   "execution_count": null,
   "id": "4cacca9e-c508-4ab1-be9a-7ec0aa00b664",
   "metadata": {},
   "outputs": [],
   "source": [
    "from tensorflow.keras.preprocessing.image import ImageDataGenerator\n",
    "train_data_genarator = ImageDataGenerator(\n",
    "    rescale=1./255,\n",
    "    shear_range=0.2,\n",
    "    zoom_range=0.2,\n",
    "    horizontal_flip=True,\n",
    "    )\n",
    "\n",
    "test_data_generator = ImageDataGenerator(\n",
    "    rescale=1./255\n",
    "    )"
   ]
  },
  {
   "cell_type": "code",
   "execution_count": null,
   "id": "3d706d9a-266f-473f-aaf3-cd80afa22319",
   "metadata": {},
   "outputs": [],
   "source": [
    "train_data = train_data_genarator.flow_from_directory(\n",
    "    directory_path + \"/\" + train',\n",
    "    target_size=(64,64),\n",
    "    batch_size=32,\n",
    "    class_mode='categorical'\n",
    ")\n",
    "\n",
    "test_data = test_data_generator.flow_from_directory(\n",
    "        directory_path + \"/\" + test',\n",
    "    target_size=(64,64),\n",
    "    batch_size=32,\n",
    "    class_mode='categorical'\n",
    ")"
   ]
  },
  {
   "cell_type": "code",
   "execution_count": null,
   "id": "eb3a2436-abb1-4482-abd2-144fc0eaeae2",
   "metadata": {},
   "outputs": [],
   "source": [
    "cnn = tf.keras.models.Sequential()\n",
    "# First convolutional layer\n",
    "\n",
    "cnn.add(tf.keras.layers.Conv2D(\n",
    "          filters=32,\n",
    "          kernel_size=3,\n",
    "          activation='relu',\n",
    "          input_shape=[64,64,3]\n",
    "          )\n",
    ")\n",
    "\n",
    "cnn.add(tf.keras.layers.MaxPool2D(\n",
    "    pool_size=(2,2),\n",
    "    strides=(2,2),\n",
    "    padding='valid'\n",
    "    )\n",
    ")\n",
    "\n",
    "# hidden convolutional layer\n",
    "\n",
    "cnn.add(tf.keras.layers.Conv2D(\n",
    "          filters=32,\n",
    "          kernel_size=3,\n",
    "          activation='relu'\n",
    "          )\n",
    ")\n",
    "\n",
    "cnn.add(tf.keras.layers.MaxPool2D(\n",
    "    pool_size=(2,2),\n",
    "    strides=(2,2),\n",
    "    padding='valid'\n",
    "    )\n",
    ")"
   ]
  },
  {
   "cell_type": "code",
   "execution_count": null,
   "id": "c568eb1d-1af7-469d-90d0-917e469c0aa5",
   "metadata": {},
   "outputs": [],
   "source": [
    "cnn.add(tf.keras.layers.Flatten())"
   ]
  },
  {
   "cell_type": "code",
   "execution_count": null,
   "id": "2a80a791-4fae-453f-91d8-43dcf6597e33",
   "metadata": {},
   "outputs": [],
   "source": [
    "cnn.add(tf.keras.layers.Dense(128,activation='relu'))\n",
    "# Output layer\n",
    "cnn.add(tf.keras.layers.Dense(1,activation='relu'))"
   ]
  },
  {
   "cell_type": "code",
   "execution_count": null,
   "id": "4d1fa326-5c02-4b88-845f-12ea5a4b8988",
   "metadata": {},
   "outputs": [],
   "source": [
    "cnn.compile(optimizer='adam',loss='binary_crossentropy',metrics=['accuracy'])\n",
    "cnn.fit(train_data,validation_data=test_data,epochs=89,batch_size=32)"
   ]
  },
  {
   "cell_type": "code",
   "execution_count": null,
   "id": "f6fa7620-8b57-4400-a824-5d605a13598d",
   "metadata": {},
   "outputs": [],
   "source": [
    "from joblib import dump\n",
    "dump(cnn, directory_path + \"/model/\" + 'numbers.joblib')"
   ]
  },
  {
   "cell_type": "code",
   "execution_count": null,
   "id": "8bc7453f-e344-4c39-8c65-10e4587ebb0b",
   "metadata": {},
   "outputs": [],
   "source": [
    "from joblib import load\n",
    "cnn = load(directory_path + \"/model/\" + 'numbers.joblib')\n",
    "from tensorflow.keras.preprocessing import image\n",
    "directory_path = \"drive/MyDrive/AI/CNN/numbers/images/new_data\"\n",
    "images = list_files_in_directory(directory_path)\n",
    "\n",
    "results = []\n",
    "for image in images:\n",
    "    test_img = image.load_img(directory_path + \"/new_data/\" + images[i])]\n",
    "    test_image = image.img_to_array(test_img)\n",
    "    test_image = test_image/255\n",
    "    test_image = np.expand_dims(test_image,axis=0)\n",
    "    result = cnn.predict(test_image)\n",
    "    results.append(result)\n",
    "print(results)"
   ]
  }
 ],
 "metadata": {
  "kernelspec": {
   "display_name": "Python 3 (ipykernel)",
   "language": "python",
   "name": "python3"
  },
  "language_info": {
   "codemirror_mode": {
    "name": "ipython",
    "version": 3
   },
   "file_extension": ".py",
   "mimetype": "text/x-python",
   "name": "python",
   "nbconvert_exporter": "python",
   "pygments_lexer": "ipython3",
   "version": "3.12.3"
  }
 },
 "nbformat": 4,
 "nbformat_minor": 5
}
