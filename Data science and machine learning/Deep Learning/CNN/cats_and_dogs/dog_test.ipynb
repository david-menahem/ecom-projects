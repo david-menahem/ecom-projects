{
 "cells": [
  {
   "cell_type": "code",
   "execution_count": 4,
   "id": "58c2cc47-2594-4337-893b-2f24f1ff0400",
   "metadata": {},
   "outputs": [],
   "source": [
    "import numpy as np\n",
    "import pandas as pd\n",
    "import matplotlib.pyplot as plt\n",
    "import seaborn as sns\n",
    "import tensorflow as tf"
   ]
  },
  {
   "cell_type": "code",
   "execution_count": 6,
   "id": "eec95c90-e362-4728-a578-ac5a60b782d0",
   "metadata": {},
   "outputs": [],
   "source": [
    "from joblib import load\n",
    "cnn = load('cats_and_dogs.joblib')"
   ]
  },
  {
   "cell_type": "code",
   "execution_count": 40,
   "id": "9be8677c-d8a3-4a03-a0ce-8519ed93dfb3",
   "metadata": {},
   "outputs": [],
   "source": [
    "from tensorflow.keras.preprocessing import image\n",
    "image2 = image.load_img('images/dog2.jpg',target_size=(64,64))\n",
    "image3 = image.load_img('images/dog3.jpg',target_size=(64,64))\n",
    "image4 = image.load_img('images/dog4.jpg',target_size=(64,64))\n",
    "image5 = image.load_img('images/cat_or_dog_1.jpg',target_size=(64,64))"
   ]
  },
  {
   "cell_type": "code",
   "execution_count": 45,
   "id": "36af948c-ae65-4a69-9097-9cd9ba3c93f7",
   "metadata": {},
   "outputs": [
    {
     "name": "stdout",
     "output_type": "stream",
     "text": [
      "\u001b[1m1/1\u001b[0m \u001b[32m━━━━━━━━━━━━━━━━━━━━\u001b[0m\u001b[37m\u001b[0m \u001b[1m0s\u001b[0m 24ms/step\n",
      "[[0.49914643]]\n",
      "\u001b[1m1/1\u001b[0m \u001b[32m━━━━━━━━━━━━━━━━━━━━\u001b[0m\u001b[37m\u001b[0m \u001b[1m0s\u001b[0m 23ms/step\n",
      "[[0.49914643]]\n",
      "\u001b[1m1/1\u001b[0m \u001b[32m━━━━━━━━━━━━━━━━━━━━\u001b[0m\u001b[37m\u001b[0m \u001b[1m0s\u001b[0m 31ms/step\n",
      "[[0.49914643]]\n",
      "\u001b[1m1/1\u001b[0m \u001b[32m━━━━━━━━━━━━━━━━━━━━\u001b[0m\u001b[37m\u001b[0m \u001b[1m0s\u001b[0m 32ms/step\n",
      "[[0.49914643]]\n",
      "[array([[0.49914643]], dtype=float32), array([[0.49914643]], dtype=float32), array([[0.49914643]], dtype=float32), array([[0.49914643]], dtype=float32)]\n",
      "\u001b[1m1/1\u001b[0m \u001b[32m━━━━━━━━━━━━━━━━━━━━\u001b[0m\u001b[37m\u001b[0m \u001b[1m0s\u001b[0m 32ms/step\n"
     ]
    }
   ],
   "source": [
    "from tensorflow.keras.preprocessing import image\n",
    "images = [image2,image3,image4,image5]\n",
    "\n",
    "results = []\n",
    "for test_image in images:\n",
    "    test_image = image.img_to_array(test_image)\n",
    "    test_image = test_image/255\n",
    "    test_image = np.expand_dims(test_image,axis=0)\n",
    "    result = cnn.predict(test_image)\n",
    "    print(result)\n",
    "    results.append(result)\n",
    "predictions = []\n",
    "print(results)\n",
    "for y in results:\n",
    "    if  y > 0.5:\n",
    "        predictions.append('dog')\n",
    "    else:\n",
    "        predictions.append('not dog')\n",
    "predictions\n",
    "\n",
    "test_image = image5\n",
    "test_image = image.img_to_array(test_image)\n",
    "test_image = test_image/255\n",
    "test_image = np.expand_dims(test_image,axis=0)\n",
    "result = cnn.predict(test_image)"
   ]
  }
 ],
 "metadata": {
  "kernelspec": {
   "display_name": "Python 3 (ipykernel)",
   "language": "python",
   "name": "python3"
  },
  "language_info": {
   "codemirror_mode": {
    "name": "ipython",
    "version": 3
   },
   "file_extension": ".py",
   "mimetype": "text/x-python",
   "name": "python",
   "nbconvert_exporter": "python",
   "pygments_lexer": "ipython3",
   "version": "3.12.3"
  }
 },
 "nbformat": 4,
 "nbformat_minor": 5
}
