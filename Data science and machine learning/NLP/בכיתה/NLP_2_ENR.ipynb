{
 "cells": [
  {
   "cell_type": "code",
   "execution_count": 1,
   "id": "e13a07c0",
   "metadata": {},
   "outputs": [],
   "source": [
    "import numpy as np\n",
    "import pandas as pd \n",
    "import matplotlib.pyplot as plt\n",
    "import seaborn as sns"
   ]
  },
  {
   "cell_type": "code",
   "execution_count": 2,
   "id": "62a5644a",
   "metadata": {},
   "outputs": [],
   "source": [
    "import spacy \n",
    "\n",
    "nlp = spacy.load('en_core_web_sm')"
   ]
  },
  {
   "cell_type": "code",
   "execution_count": 4,
   "id": "d95a48f6",
   "metadata": {},
   "outputs": [
    {
     "name": "stdout",
     "output_type": "stream",
     "text": [
      "jumped VERB VBD verb, past tense\n"
     ]
    }
   ],
   "source": [
    "doc = nlp(\"The quick brown fox jumped over the lazy dog's back.\")\n",
    "\n",
    "print(doc[4].text, doc[4].pos_, doc[4].tag_, spacy.explain(doc[4].tag_))"
   ]
  },
  {
   "cell_type": "code",
   "execution_count": 5,
   "id": "09497b47",
   "metadata": {},
   "outputs": [
    {
     "name": "stdout",
     "output_type": "stream",
     "text": [
      "read       VERB     VBP    verb, non-3rd person singular present\n",
      "\n",
      "read       VERB     VBD    verb, past tense\n"
     ]
    }
   ],
   "source": [
    "doc2 = nlp('I read books on NLP.')\n",
    "doc3 = nlp('I read a book on NLP.')\n",
    "\n",
    "print(f'{doc2[1].text:{10}} {doc2[1].pos_:{8}} {doc2[1].tag_:{6}} {spacy.explain(doc2[1].tag_)}')\n",
    "print()\n",
    "print(f'{doc3[1].text:{10}} {doc3[1].pos_:{8}} {doc3[1].tag_:{6}} {spacy.explain(doc3[1].tag_)}')"
   ]
  },
  {
   "cell_type": "code",
   "execution_count": 8,
   "id": "3ab39ce1",
   "metadata": {},
   "outputs": [],
   "source": [
    "def show_ents(doc):\n",
    "    if doc.ents:\n",
    "        for entity in doc.ents:\n",
    "            print(entity.text+' - '+entity.label_+' - '+str(spacy.explain(entity.label_)))\n",
    "    else:\n",
    "        print('No named entities found.')"
   ]
  },
  {
   "cell_type": "code",
   "execution_count": 9,
   "id": "dbee4711",
   "metadata": {},
   "outputs": [
    {
     "name": "stdout",
     "output_type": "stream",
     "text": [
      "doc1 entities:\n",
      "No named entities found.\n",
      "\n",
      "doc2 entities:\n",
      "Washington, DC - GPE - Countries, cities, states\n",
      "next May - DATE - Absolute or relative dates or periods\n",
      "the Washington Monument - ORG - Companies, agencies, institutions, etc.\n"
     ]
    }
   ],
   "source": [
    "doc1 = nlp('Hello, where are you from?')\n",
    "doc2 = nlp('May I go to Washington, DC next May to see the Washington Monument?')\n",
    "\n",
    "print('doc1 entities:')\n",
    "show_ents(doc1)\n",
    "print()\n",
    "print('doc2 entities:')\n",
    "show_ents(doc2)"
   ]
  },
  {
   "cell_type": "code",
   "execution_count": 45,
   "id": "f769ec24",
   "metadata": {
    "scrolled": true
   },
   "outputs": [
    {
     "name": "stdout",
     "output_type": "stream",
     "text": [
      "Ipad - ORG - Companies, agencies, institutions, etc.\n"
     ]
    }
   ],
   "source": [
    "doc = nlp('I played with my Ipad')\n",
    "\n",
    "show_ents(doc)"
   ]
  },
  {
   "cell_type": "code",
   "execution_count": 36,
   "id": "7e79efea",
   "metadata": {},
   "outputs": [],
   "source": [
    "from spacy.tokens import Span\n",
    "\n",
    "hash_org = doc.vocab.strings['ORG']\n",
    "\n",
    "new_entity = Span(doc, 0, 1, label=hash_org)\n",
    "\n",
    "doc.ents = list(doc.ents) + [new_entity]"
   ]
  },
  {
   "cell_type": "code",
   "execution_count": 37,
   "id": "56e74106",
   "metadata": {},
   "outputs": [
    {
     "name": "stdout",
     "output_type": "stream",
     "text": [
      "Tesla - ORG - Companies, agencies, institutions, etc.\n",
      "U.K. - GPE - Countries, cities, states\n",
      "$6 million - MONEY - Monetary values, including unit\n"
     ]
    }
   ],
   "source": [
    "show_ents(doc)"
   ]
  }
 ],
 "metadata": {
  "kernelspec": {
   "display_name": "Python (spacy_env_2)",
   "language": "python",
   "name": "spacy_env_2"
  },
  "language_info": {
   "codemirror_mode": {
    "name": "ipython",
    "version": 3
   },
   "file_extension": ".py",
   "mimetype": "text/x-python",
   "name": "python",
   "nbconvert_exporter": "python",
   "pygments_lexer": "ipython3",
   "version": "3.12.6"
  }
 },
 "nbformat": 4,
 "nbformat_minor": 5
}
