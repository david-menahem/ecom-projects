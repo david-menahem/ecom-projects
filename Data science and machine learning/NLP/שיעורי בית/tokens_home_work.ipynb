{
 "cells": [
  {
   "cell_type": "code",
   "execution_count": 1,
   "id": "e734a592-81f8-41bc-836c-d59ce325e264",
   "metadata": {},
   "outputs": [],
   "source": [
    "import spacy\n",
    "nlp = spacy.load('en_core_web_sm')"
   ]
  },
  {
   "cell_type": "code",
   "execution_count": 2,
   "id": "0f30a546-531f-4207-8553-b8dcec125054",
   "metadata": {},
   "outputs": [
    {
     "name": "stdout",
     "output_type": "stream",
     "text": [
      "Tokyo|PROPN|NNP|noun, proper singular\n",
      ",|PUNCT|,|punctuation mark, comma\n",
      "officially|ADV|RB|adverb\n",
      "Tokyo|PROPN|NNP|noun, proper singular\n",
      "Metropolis|PROPN|NNP|noun, proper singular\n",
      ",|PUNCT|,|punctuation mark, comma\n",
      "is|AUX|VBZ|verb, 3rd person singular present\n",
      "the|DET|DT|determiner\n",
      "capital|NOUN|NN|noun, singular or mass\n",
      "city|NOUN|NN|noun, singular or mass\n",
      "of|ADP|IN|conjunction, subordinating or preposition\n",
      "Japan|PROPN|NNP|noun, proper singular\n",
      ".|PUNCT|.|punctuation mark, sentence closer\n",
      "\n",
      "Entities\n",
      "Tokyo|GPE|Countries, cities, states\n",
      "Tokyo|GPE|Countries, cities, states\n",
      "Metropolis|PERSON|People, including fictional\n",
      "Japan|GPE|Countries, cities, states\n"
     ]
    }
   ],
   "source": [
    "doc1 = nlp(\"Tokyo, officially Tokyo Metropolis, is the capital city of Japan.\")\n",
    "\n",
    "for token in doc1:\n",
    "    print(f'{token.text}|{token.pos_}|{token.tag_}|{spacy.explain(token.tag_)}')\n",
    "print()\n",
    "print('Entities')\n",
    "for entity in doc1.ents:\n",
    "    print(f'{entity}|{entity.label_}|{spacy.explain(entity.label_)}')"
   ]
  },
  {
   "cell_type": "code",
   "execution_count": 3,
   "id": "bfc24681-957a-439c-9c8a-baf66269d3ca",
   "metadata": {},
   "outputs": [
    {
     "name": "stdout",
     "output_type": "stream",
     "text": [
      "The twelve-year-old cat\n",
      "the mouse\n",
      "the back yard\n"
     ]
    }
   ],
   "source": [
    "doc2 = nlp(\"The twelve-year-old cat chased the mouse across the back yard.\")\n",
    "for chunk in doc2.noun_chunks:\n",
    "    print(chunk)"
   ]
  },
  {
   "cell_type": "code",
   "execution_count": 4,
   "id": "b083cae4-5357-4edb-92de-50b641c0e784",
   "metadata": {},
   "outputs": [
    {
     "data": {
      "text/html": [
       "<span class=\"tex2jax_ignore\"><div class=\"entities\" style=\"line-height: 2.5; direction: ltr\">\n",
       "<mark class=\"entity\" style=\"background: #7aecec; padding: 0.45em 0.6em; margin: 0 0.25em; line-height: 1; border-radius: 0.35em;\">\n",
       "    Apple Inc.\n",
       "    <span style=\"font-size: 0.8em; font-weight: bold; line-height: 1; border-radius: 0.35em; vertical-align: middle; margin-left: 0.5rem\">ORG</span>\n",
       "</mark>\n",
       " is planning to buy a \n",
       "<mark class=\"entity\" style=\"background: #feca74; padding: 0.45em 0.6em; margin: 0 0.25em; line-height: 1; border-radius: 0.35em;\">\n",
       "    UK\n",
       "    <span style=\"font-size: 0.8em; font-weight: bold; line-height: 1; border-radius: 0.35em; vertical-align: middle; margin-left: 0.5rem\">GPE</span>\n",
       "</mark>\n",
       " startup for \n",
       "<mark class=\"entity\" style=\"background: #e4e7d2; padding: 0.45em 0.6em; margin: 0 0.25em; line-height: 1; border-radius: 0.35em;\">\n",
       "    $1 billion\n",
       "    <span style=\"font-size: 0.8em; font-weight: bold; line-height: 1; border-radius: 0.35em; vertical-align: middle; margin-left: 0.5rem\">MONEY</span>\n",
       "</mark>\n",
       ".</div></span>"
      ],
      "text/plain": [
       "<IPython.core.display.HTML object>"
      ]
     },
     "metadata": {},
     "output_type": "display_data"
    }
   ],
   "source": [
    "from spacy import displacy\n",
    "doc3 = nlp(\"Apple Inc. is planning to buy a UK startup for $1 billion.\")\n",
    "displacy.render(doc3,style=\"ent\",jupyter=True)"
   ]
  },
  {
   "cell_type": "code",
   "execution_count": 5,
   "id": "39db809d-5090-4695-95fc-8cd45e6cb658",
   "metadata": {},
   "outputs": [
    {
     "name": "stdout",
     "output_type": "stream",
     "text": [
      "I be run. he run. we will be run a marathon.\n"
     ]
    }
   ],
   "source": [
    "doc4 = nlp(\"I am running. He runs. We will be running a marathon.\")\n",
    "new_sentence = \"\"\n",
    "length = len(doc4)\n",
    "for i,token in enumerate(doc4):\n",
    "    if(i != length - 1):\n",
    "        if(doc4[i+1].text == \".\"):\n",
    "            new_sentence += token.lemma_\n",
    "        else:\n",
    "            new_sentence += token.lemma_ + \" \"\n",
    "new_sentence += doc4[length - 1].lemma_\n",
    "new_doc4 = nlp(new_sentence)\n",
    "print(new_doc4)"
   ]
  },
  {
   "cell_type": "code",
   "execution_count": 6,
   "id": "2fd4de1c-fdc1-47fa-b5fa-19fd707b1729",
   "metadata": {},
   "outputs": [],
   "source": [
    "def mark_changes_between_docs(old_sentence,new_sentence):\n",
    "    changed_tokens = []\n",
    "    for i,token in enumerate(old_sentence):\n",
    "        if old_sentence[i].text == new_sentence[i].text:\n",
    "            continue\n",
    "        else:\n",
    "            changed_tokens.append(new_sentence[i].text)\n",
    "    print(f'Changed tokens: {changed_tokens}')"
   ]
  },
  {
   "cell_type": "code",
   "execution_count": 7,
   "id": "26dc1b46-639c-4663-9250-51c4d9a3c22e",
   "metadata": {},
   "outputs": [
    {
     "name": "stdout",
     "output_type": "stream",
     "text": [
      "Changed tokens: ['be', 'run', 'he', 'run', 'we', 'run']\n"
     ]
    }
   ],
   "source": [
    "mark_changes_between_docs(doc4,new_doc4)"
   ]
  },
  {
   "cell_type": "code",
   "execution_count": 8,
   "id": "d5cc0c83-7623-4a12-b1c8-ec2999fc26db",
   "metadata": {},
   "outputs": [
    {
     "name": "stdout",
     "output_type": "stream",
     "text": [
      "Number of stop words: 13\n",
      "Text without stop words: truth universally acknowledged , single man possession good fortune , want wife . \n"
     ]
    }
   ],
   "source": [
    "doc5 = nlp(\"It is a truth universally acknowledged, that a single man in possession of a good fortune, must be in want of a wife.\")\n",
    "count_stop_words = 0\n",
    "new_sentence = \"\"\n",
    "for token in doc5:\n",
    "    if nlp.vocab[token.text].is_stop:\n",
    "        count_stop_words += 1\n",
    "    else:\n",
    "        new_sentence += token.text + \" \"\n",
    "print(f'Number of stop words: {count_stop_words}')\n",
    "print(f'Text without stop words: {new_sentence}')"
   ]
  },
  {
   "cell_type": "code",
   "execution_count": 9,
   "id": "c0790361-a1bc-42c1-95fe-8c195d6b1d6b",
   "metadata": {},
   "outputs": [
    {
     "name": "stdout",
     "output_type": "stream",
     "text": [
      "nlp is recognizing \"I\" as stop word\n",
      "nlp is recognizing \"will\" as stop word\n",
      "nlp is recognizing \"brb\" as stop word\n"
     ]
    }
   ],
   "source": [
    "stop_word = \"brb\"\n",
    "nlp.Defaults.stop_words.add(stop_word)\n",
    "nlp.vocab[stop_word].is_stop = True\n",
    "doc6 = nlp(\"I will brb\")\n",
    "for token in doc6:\n",
    "    if nlp.vocab[token.text].is_stop:\n",
    "        print(f'nlp is recognizing \"{token.text}\" as stop word')"
   ]
  },
  {
   "cell_type": "code",
   "execution_count": 10,
   "id": "b287d693-3d91-48e9-92f9-53acd432411d",
   "metadata": {},
   "outputs": [],
   "source": [
    "from spacy.matcher import Matcher\n",
    "matcher = Matcher(nlp.vocab)\n",
    "pattern_1 = [{\"LEMMA\": \"pat\"},{\"IS_PUNCT\":True, \"OP\": \"*\"},{\"LEMMA\":\"cat\"}]\n",
    "pattern_2 = [{\"LOWER\": \"pat_cat\"}]\n",
    "matcher.add(\"Cat\",[pattern_1,pattern_2])"
   ]
  },
  {
   "cell_type": "code",
   "execution_count": 11,
   "id": "8797fa16-e711-42d5-a438-7559e5fda4ef",
   "metadata": {},
   "outputs": [
    {
     "name": "stdout",
     "output_type": "stream",
     "text": [
      "\n",
      "pat-cat\n",
      "pat_cat\n",
      "\n",
      "Pat cats\n"
     ]
    }
   ],
   "source": [
    "doc7 = nlp(\"My grandmother has a pet cat.\")\n",
    "doc8 = nlp(\"Many people enjoy having pets. They calling them pat-cat or pat_cat\")\n",
    "doc9 = nlp(\"Do you think a cat makes a good pet? Pat cats are the best!\")\n",
    "\n",
    "matches_doc7 = matcher(doc7)\n",
    "matches_doc8 = matcher(doc8)\n",
    "matches_doc9 = matcher(doc9)\n",
    "\n",
    "def print_matches(matches,doc):\n",
    "    for match_id, start, end in matches:\n",
    "        print(doc[start:end])\n",
    "\n",
    "print_matches(matches_doc7,doc7)\n",
    "print()\n",
    "print_matches(matches_doc8,doc8)\n",
    "print()\n",
    "print_matches(matches_doc9,doc9)"
   ]
  },
  {
   "cell_type": "code",
   "execution_count": 12,
   "id": "741bf5b3-3557-4212-85af-2d3095ad87b0",
   "metadata": {},
   "outputs": [],
   "source": [
    "#class exercise"
   ]
  },
  {
   "cell_type": "code",
   "execution_count": 13,
   "id": "e3c32942-da1b-47c4-ac90-7af0e4590f09",
   "metadata": {},
   "outputs": [
    {
     "name": "stdout",
     "output_type": "stream",
     "text": [
      "Barack Obama: People, including fictional Hash: 380\n",
      "August 4, 1961: Absolute or relative dates or periods Hash: 391\n",
      "Honolulu: Countries, cities, states Hash: 384\n",
      "Hawaii: Countries, cities, states Hash: 384\n"
     ]
    }
   ],
   "source": [
    "doc1 = nlp(\"Barack Obama was born on August 4, 1961, in Honolulu, Hawaii\")\n",
    "for ent in doc1.ents:\n",
    "    print(f'{ent}: {spacy.explain(ent.label_)} Hash: {ent.label}')"
   ]
  },
  {
   "cell_type": "code",
   "execution_count": 14,
   "id": "0803e121-0f90-4a3a-bd54-2cc4b66c562e",
   "metadata": {},
   "outputs": [
    {
     "name": "stdout",
     "output_type": "stream",
     "text": [
      "Maccabi Tel Aviv\n",
      "Hapoel Tel Aviv\n",
      "the National Basketball League\n"
     ]
    }
   ],
   "source": [
    "text = \"Maccabi Tel Aviv played against Hapoel Tel Aviv in the finals of the National Basketball League\"\n",
    "\n",
    "from spacy.matcher import PhraseMatcher\n",
    "matcher = PhraseMatcher(nlp.vocab)\n",
    "pharse_list = [\"Maccabi Tel Aviv\",\"Hapoel Tel Aviv\"]\n",
    "pharses = [nlp(text) for text in pharse_list]\n",
    "matcher.add(\"sport_teams\",pharses)\n",
    "doc2 = nlp(text)\n",
    "matches = matcher(doc2)\n",
    "\n",
    "doc2 = nlp(text)\n",
    "doc2.ents = [ent for ent in doc2.ents if ent.text not in ['Tel Aviv','Hapoel Tel Aviv']]\n",
    "\n",
    "from spacy.tokens import Span\n",
    "hash_org = nlp.vocab.strings['ORG']\n",
    "new_ent = [Span(doc2,match[1],match[2],label=hash_org) for match in matches]\n",
    "doc2.ents = list(doc2.ents) + new_ent\n",
    "\n",
    "for ent in doc2.ents:\n",
    "    print(ent)"
   ]
  },
  {
   "cell_type": "code",
   "execution_count": 15,
   "id": "dafb4ace-54b0-4f7f-93b4-7bc704878a64",
   "metadata": {},
   "outputs": [
    {
     "name": "stdout",
     "output_type": "stream",
     "text": [
      "Google: Start: 0, End: 1\n",
      "Google: Start: 13, End: 14\n",
      "Apple: Start: 20, End: 21\n",
      "MacBook Pro: Start: 26, End: 28\n",
      "Microsoft: Start: 33, End: 34\n",
      "the Surface Pro: Start: 38, End: 41\n",
      "Amazon: Start: 45, End: 46\n",
      "Meta: Start: 62, End: 63\n",
      "Samsung: Start: 64, End: 65\n",
      "Galaxy S21: Start: 69, End: 71\n",
      "Galaxy Buds Pro: Start: 72, End: 75\n",
      "8 0\n"
     ]
    }
   ],
   "source": [
    "text = \"\"\"Google announced new features for its product line including the Pixel 5 and Google\"\n",
    "Home. Meanwhile, Apple released the iPhone 13 and MacBook Pro in a recent event. Microsoft\n",
    "introduced updates to the Surface Pro and Windows 11. Amazon continues to expand its\n",
    "services, and Facebook is planning to rebrand its products to Meta. Samsung unveiled the\n",
    "\"Galaxy S21 and Galaxy Buds Pro.\"\"\"\n",
    "doc3 = nlp(text)\n",
    "org_count = 0\n",
    "prod_count = 0\n",
    "for ent in doc3.ents:\n",
    "    if ent.label_ == \"ORG\":\n",
    "        org_count += 1\n",
    "\n",
    "    elif ent.label_ == \"PRODUCT\":\n",
    "        prod_count += 1\n",
    "    print(f'{ent}: Start: {ent.start}, End: {ent.end}')\n",
    "print(org_count,prod_count)"
   ]
  },
  {
   "cell_type": "code",
   "execution_count": 16,
   "id": "120b355e-a505-40ba-afb6-a76c1a5d03fd",
   "metadata": {},
   "outputs": [
    {
     "data": {
      "text/html": [
       "<span class=\"tex2jax_ignore\"><div class=\"entities\" style=\"line-height: 2.5; direction: ltr\">\n",
       "<mark class=\"entity\" style=\"background: #7aecec; padding: 0.45em 0.6em; margin: 0 0.25em; line-height: 1; border-radius: 0.35em;\">\n",
       "    Google\n",
       "    <span style=\"font-size: 0.8em; font-weight: bold; line-height: 1; border-radius: 0.35em; vertical-align: middle; margin-left: 0.5rem\">ORG</span>\n",
       "</mark>\n",
       " announced new features for its product line including the Pixel 5 and \n",
       "<mark class=\"entity\" style=\"background: #7aecec; padding: 0.45em 0.6em; margin: 0 0.25em; line-height: 1; border-radius: 0.35em;\">\n",
       "    Google\n",
       "    <span style=\"font-size: 0.8em; font-weight: bold; line-height: 1; border-radius: 0.35em; vertical-align: middle; margin-left: 0.5rem\">ORG</span>\n",
       "</mark>\n",
       "&quot;<br>Home. Meanwhile, \n",
       "<mark class=\"entity\" style=\"background: #7aecec; padding: 0.45em 0.6em; margin: 0 0.25em; line-height: 1; border-radius: 0.35em;\">\n",
       "    Apple\n",
       "    <span style=\"font-size: 0.8em; font-weight: bold; line-height: 1; border-radius: 0.35em; vertical-align: middle; margin-left: 0.5rem\">ORG</span>\n",
       "</mark>\n",
       " released the iPhone 13 and MacBook Pro in a recent event. \n",
       "<mark class=\"entity\" style=\"background: #7aecec; padding: 0.45em 0.6em; margin: 0 0.25em; line-height: 1; border-radius: 0.35em;\">\n",
       "    Microsoft\n",
       "    <span style=\"font-size: 0.8em; font-weight: bold; line-height: 1; border-radius: 0.35em; vertical-align: middle; margin-left: 0.5rem\">ORG</span>\n",
       "</mark>\n",
       "<br>introduced updates to \n",
       "<mark class=\"entity\" style=\"background: #7aecec; padding: 0.45em 0.6em; margin: 0 0.25em; line-height: 1; border-radius: 0.35em;\">\n",
       "    the Surface Pro\n",
       "    <span style=\"font-size: 0.8em; font-weight: bold; line-height: 1; border-radius: 0.35em; vertical-align: middle; margin-left: 0.5rem\">ORG</span>\n",
       "</mark>\n",
       " and Windows 11. \n",
       "<mark class=\"entity\" style=\"background: #7aecec; padding: 0.45em 0.6em; margin: 0 0.25em; line-height: 1; border-radius: 0.35em;\">\n",
       "    Amazon\n",
       "    <span style=\"font-size: 0.8em; font-weight: bold; line-height: 1; border-radius: 0.35em; vertical-align: middle; margin-left: 0.5rem\">ORG</span>\n",
       "</mark>\n",
       " continues to expand its<br>services, and Facebook is planning to rebrand its products to \n",
       "<mark class=\"entity\" style=\"background: #7aecec; padding: 0.45em 0.6em; margin: 0 0.25em; line-height: 1; border-radius: 0.35em;\">\n",
       "    Meta\n",
       "    <span style=\"font-size: 0.8em; font-weight: bold; line-height: 1; border-radius: 0.35em; vertical-align: middle; margin-left: 0.5rem\">ORG</span>\n",
       "</mark>\n",
       ". \n",
       "<mark class=\"entity\" style=\"background: #7aecec; padding: 0.45em 0.6em; margin: 0 0.25em; line-height: 1; border-radius: 0.35em;\">\n",
       "    Samsung\n",
       "    <span style=\"font-size: 0.8em; font-weight: bold; line-height: 1; border-radius: 0.35em; vertical-align: middle; margin-left: 0.5rem\">ORG</span>\n",
       "</mark>\n",
       " unveiled the<br>&quot;Galaxy S21 and Galaxy Buds Pro.</div></span>"
      ],
      "text/plain": [
       "<IPython.core.display.HTML object>"
      ]
     },
     "metadata": {},
     "output_type": "display_data"
    }
   ],
   "source": [
    "from spacy import displacy\n",
    "displacy.render(doc3, style=\"ent\", jupyter=True,options={\"ents\":[\"ORG\"]})"
   ]
  },
  {
   "cell_type": "code",
   "execution_count": 19,
   "id": "3b62ce79-c95e-4c7e-9399-c302076bbf12",
   "metadata": {},
   "outputs": [
    {
     "data": {
      "text/plain": [
       "<function __main__.custom_sentaece_boundries(doc)>"
      ]
     },
     "execution_count": 19,
     "metadata": {},
     "output_type": "execute_result"
    }
   ],
   "source": [
    "text = \"\"\"User1: hello User2: Hey how are you? User1: I'm good how are you? User2: I'm good as\n",
    "well, thanks\".\"\"\"\n",
    "doc5 = nlp(text)\n",
    "# nlp.remove_pipe(\"custom_sentence_boundries\")\n",
    "from spacy.language import Language\n",
    "@Language.component(\"custom_sentence_boundries\")\n",
    "def custom_sentaece_boundries(doc):\n",
    "    for token in doc[:-1]:\n",
    "        if token == \":\":\n",
    "            doc[token.i + 1].is_sent_start = True\n",
    "    return doc\n",
    "\n",
    "\n",
    "nlp.add_pipe(\"custom_sentence_boundries\", before=\"parser\")"
   ]
  },
  {
   "cell_type": "code",
   "execution_count": 20,
   "id": "ba7fd70d-4391-4a7f-afc8-c428366d610c",
   "metadata": {},
   "outputs": [
    {
     "name": "stdout",
     "output_type": "stream",
     "text": [
      "User1: hello User2:\n",
      "Hey how are you?\n",
      "User1:\n",
      "I'm good how are you?\n",
      "User2:\n",
      "I'm good as\n",
      "well, thanks\".\n"
     ]
    }
   ],
   "source": [
    "doc4 = nlp(text)\n",
    "for sent in doc4.sents:\n",
    "    print(sent)"
   ]
  }
 ],
 "metadata": {
  "kernelspec": {
   "display_name": "Python (spacy_env)",
   "language": "python",
   "name": "spacy_env"
  },
  "language_info": {
   "codemirror_mode": {
    "name": "ipython",
    "version": 3
   },
   "file_extension": ".py",
   "mimetype": "text/x-python",
   "name": "python",
   "nbconvert_exporter": "python",
   "pygments_lexer": "ipython3",
   "version": "3.12.4"
  }
 },
 "nbformat": 4,
 "nbformat_minor": 5
}
