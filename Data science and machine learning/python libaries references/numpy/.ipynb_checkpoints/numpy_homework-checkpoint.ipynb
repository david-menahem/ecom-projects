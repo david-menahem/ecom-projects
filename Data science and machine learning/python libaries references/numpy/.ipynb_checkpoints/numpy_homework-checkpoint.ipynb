{
 "cells": [
  {
   "cell_type": "code",
   "execution_count": 1,
   "id": "aa162dad",
   "metadata": {},
   "outputs": [],
   "source": [
    "import numpy as np\n",
    "np.random.seed(100)"
   ]
  },
  {
   "cell_type": "markdown",
   "id": "c29b1e06",
   "metadata": {},
   "source": [
    "#Excercise 1\n",
    "+ Make a random array from 1 to 98\n",
    "+ Calculate:\n",
    "    - The sum of all elements\n",
    "    - The sum of each row\n",
    "    - The sum of each column"
   ]
  },
  {
   "cell_type": "code",
   "execution_count": 2,
   "id": "0bde9ba1",
   "metadata": {},
   "outputs": [],
   "source": [
    "random_array = np.random.randint(10,99,(4,3))"
   ]
  },
  {
   "cell_type": "code",
   "execution_count": 3,
   "id": "161f7ca8",
   "metadata": {},
   "outputs": [
    {
     "name": "stdout",
     "output_type": "stream",
     "text": [
      "Random array: \n",
      "[[18 34 77]\n",
      " [97 89 58]\n",
      " [20 62 63]\n",
      " [76 24 44]]\n"
     ]
    }
   ],
   "source": [
    "print(f\"Random array: \\n{random_array}\")"
   ]
  },
  {
   "cell_type": "code",
   "execution_count": 4,
   "id": "c75c2c66",
   "metadata": {},
   "outputs": [
    {
     "name": "stdout",
     "output_type": "stream",
     "text": [
      "Sum all elements: \n",
      "662\n"
     ]
    }
   ],
   "source": [
    "sum_all_elements = random_array.sum()\n",
    "print(f\"Sum all elements: \\n{sum_all_elements}\")"
   ]
  },
  {
   "cell_type": "code",
   "execution_count": 5,
   "id": "941017ec",
   "metadata": {},
   "outputs": [
    {
     "name": "stdout",
     "output_type": "stream",
     "text": [
      "Sum each row \n",
      "\n",
      "Row 1: sum = 129\n",
      "Row 2: sum = 244\n",
      "Row 3: sum = 145\n",
      "Row 4: sum = 144\n"
     ]
    }
   ],
   "source": [
    "sum_each_row = random_array.sum(axis=1)\n",
    "print(f\"Sum each row \\n\")\n",
    "for i in range(len(sum_each_row)):\n",
    "    print(f\"Row {i + 1}: sum = {sum_each_row[i]}\")"
   ]
  },
  {
   "cell_type": "code",
   "execution_count": 6,
   "id": "c5a86b8b",
   "metadata": {},
   "outputs": [
    {
     "name": "stdout",
     "output_type": "stream",
     "text": [
      "Sum each column: \n",
      "\n",
      "Column 1: sum = 211\n",
      "Column 2: sum = 209\n",
      "Column 3: sum = 242\n"
     ]
    }
   ],
   "source": [
    "sum_each_col = random_array.sum(axis=0)\n",
    "print(f\"Sum each column: \\n\")\n",
    "for i in range (len(sum_each_col)):\n",
    "    print(f\"Column {i + 1}: sum = {sum_each_col[i]}\")"
   ]
  },
  {
   "cell_type": "markdown",
   "id": "140629ce",
   "metadata": {},
   "source": [
    "#Excercise 2\n",
    "* Create an array with 10 random numbers between 0 to 10\n",
    "    - Count how many of them are even numbers"
   ]
  },
  {
   "cell_type": "code",
   "execution_count": 7,
   "id": "33dbadd6",
   "metadata": {},
   "outputs": [],
   "source": [
    "random_array_size_10 = np.random.randint(0,10,10)"
   ]
  },
  {
   "cell_type": "code",
   "execution_count": 8,
   "id": "0b3b5a3f",
   "metadata": {},
   "outputs": [
    {
     "name": "stdout",
     "output_type": "stream",
     "text": [
      "[1 0 8 4 0 9 6 2 4 1]\n"
     ]
    }
   ],
   "source": [
    "print(random_array_size_10) "
   ]
  },
  {
   "cell_type": "code",
   "execution_count": 9,
   "id": "26be2d89",
   "metadata": {},
   "outputs": [
    {
     "name": "stdout",
     "output_type": "stream",
     "text": [
      "There are 7 even numbers in this array\n"
     ]
    }
   ],
   "source": [
    "count = 0\n",
    "for element in random_array_size_10:\n",
    "    if element % 2 == 0:\n",
    "        count += 1\n",
    "print(f\"There are {count} even numbers in this array\")"
   ]
  },
  {
   "cell_type": "markdown",
   "id": "9e9fa745",
   "metadata": {},
   "source": [
    "#Excercise 3\n",
    "* Create an array with a sequence of numbers from 0 to 99\n",
    "    - Reshape the array into a 2 dimentional array 10x10\n",
    "    - Replace all values above 50 with -1\n",
    "    - Calculate the sum of all elements\n",
    "    - Calculate the mean of all elements"
   ]
  },
  {
   "cell_type": "code",
   "execution_count": 10,
   "id": "67c81369",
   "metadata": {},
   "outputs": [],
   "source": [
    "seq_arr = np.arange(0,100,1)"
   ]
  },
  {
   "cell_type": "code",
   "execution_count": 11,
   "id": "8bf91402",
   "metadata": {},
   "outputs": [
    {
     "name": "stdout",
     "output_type": "stream",
     "text": [
      "[ 0  1  2  3  4  5  6  7  8  9 10 11 12 13 14 15 16 17 18 19 20 21 22 23\n",
      " 24 25 26 27 28 29 30 31 32 33 34 35 36 37 38 39 40 41 42 43 44 45 46 47\n",
      " 48 49 50 51 52 53 54 55 56 57 58 59 60 61 62 63 64 65 66 67 68 69 70 71\n",
      " 72 73 74 75 76 77 78 79 80 81 82 83 84 85 86 87 88 89 90 91 92 93 94 95\n",
      " 96 97 98 99]\n"
     ]
    }
   ],
   "source": [
    "print(seq_arr)"
   ]
  },
  {
   "cell_type": "code",
   "execution_count": 12,
   "id": "7a1f8773",
   "metadata": {},
   "outputs": [
    {
     "name": "stdout",
     "output_type": "stream",
     "text": [
      "Reshaped array 10 x 10: \n",
      "[[ 0  1  2  3  4  5  6  7  8  9]\n",
      " [10 11 12 13 14 15 16 17 18 19]\n",
      " [20 21 22 23 24 25 26 27 28 29]\n",
      " [30 31 32 33 34 35 36 37 38 39]\n",
      " [40 41 42 43 44 45 46 47 48 49]\n",
      " [50 51 52 53 54 55 56 57 58 59]\n",
      " [60 61 62 63 64 65 66 67 68 69]\n",
      " [70 71 72 73 74 75 76 77 78 79]\n",
      " [80 81 82 83 84 85 86 87 88 89]\n",
      " [90 91 92 93 94 95 96 97 98 99]]\n"
     ]
    }
   ],
   "source": [
    "seq_arr_reshape = seq_arr.reshape(10,10)\n",
    "print(f\"Reshaped array 10 x 10: \\n{seq_arr_reshape}\")"
   ]
  },
  {
   "cell_type": "code",
   "execution_count": 13,
   "id": "5b7fa19a",
   "metadata": {},
   "outputs": [
    {
     "name": "stdout",
     "output_type": "stream",
     "text": [
      "Replaced values over 50 with -1:\n",
      "[[ 0  1  2  3  4  5  6  7  8  9]\n",
      " [10 11 12 13 14 15 16 17 18 19]\n",
      " [20 21 22 23 24 25 26 27 28 29]\n",
      " [30 31 32 33 34 35 36 37 38 39]\n",
      " [40 41 42 43 44 45 46 47 48 49]\n",
      " [50 -1 -1 -1 -1 -1 -1 -1 -1 -1]\n",
      " [-1 -1 -1 -1 -1 -1 -1 -1 -1 -1]\n",
      " [-1 -1 -1 -1 -1 -1 -1 -1 -1 -1]\n",
      " [-1 -1 -1 -1 -1 -1 -1 -1 -1 -1]\n",
      " [-1 -1 -1 -1 -1 -1 -1 -1 -1 -1]]\n"
     ]
    }
   ],
   "source": [
    "seq_arr_reshape_replaced = seq_arr_reshape.copy()\n",
    "seq_arr_reshape_replaced[seq_arr_reshape_replaced > 50] = -1\n",
    "print(f\"Replaced values over 50 with -1:\\n{seq_arr_reshape_replaced}\")"
   ]
  },
  {
   "cell_type": "code",
   "execution_count": 14,
   "id": "3607f89f",
   "metadata": {},
   "outputs": [
    {
     "name": "stdout",
     "output_type": "stream",
     "text": [
      "Sum all elements: 1226\n"
     ]
    }
   ],
   "source": [
    "sum_all_elements = seq_arr_reshape_replaced.sum()\n",
    "print(f\"Sum all elements: {sum_all_elements}\")"
   ]
  },
  {
   "cell_type": "code",
   "execution_count": 15,
   "id": "29599461",
   "metadata": {},
   "outputs": [
    {
     "name": "stdout",
     "output_type": "stream",
     "text": [
      "The average of all elements is: 12.26\n"
     ]
    }
   ],
   "source": [
    "avg_all_elements = seq_arr_reshape_replaced.mean()\n",
    "print(f\"The average of all elements is: {avg_all_elements}\")"
   ]
  },
  {
   "cell_type": "markdown",
   "id": "c5355a7e",
   "metadata": {},
   "source": [
    "# Exercise 4\n",
    "* Create an array with 10 elaments from 0 - 100 with even spaces bewtween them\n",
    "    - Make a new array that contains the values from this array that are greater than 50 or lower than 20\n",
    "    - Reshape the array to a possible matrix\n",
    " "
   ]
  },
  {
   "cell_type": "code",
   "execution_count": 16,
   "id": "d34a1bd4",
   "metadata": {},
   "outputs": [
    {
     "name": "stdout",
     "output_type": "stream",
     "text": [
      "An array with 10 elements and even spaces: \n",
      " [  0.          11.11111111  22.22222222  33.33333333  44.44444444\n",
      "  55.55555556  66.66666667  77.77777778  88.88888889 100.        ]\n"
     ]
    }
   ],
   "source": [
    "even_spaced_arr = np.linspace(0,100,10)\n",
    "print(f\"An array with 10 elements and even spaces: \\n {even_spaced_arr}\")"
   ]
  },
  {
   "cell_type": "code",
   "execution_count": 17,
   "id": "d2eb6d4d",
   "metadata": {},
   "outputs": [
    {
     "name": "stdout",
     "output_type": "stream",
     "text": [
      "Filtered array with element lower that 20 or higher than 50: \n",
      " [  0.          11.11111111  55.55555556  66.66666667  77.77777778\n",
      "  88.88888889 100.        ]\n"
     ]
    }
   ],
   "source": [
    "filtered_arr = even_spaced_arr[(even_spaced_arr > 50) | (even_spaced_arr < 20)]\n",
    "print(f\"Filtered array with element lower that 20 or higher than 50: \\n {filtered_arr}\")"
   ]
  },
  {
   "cell_type": "code",
   "execution_count": 18,
   "id": "ceb6a4ed",
   "metadata": {},
   "outputs": [
    {
     "name": "stdout",
     "output_type": "stream",
     "text": [
      "7\n"
     ]
    }
   ],
   "source": [
    "size = filtered_arr.size\n",
    "print(size)"
   ]
  },
  {
   "cell_type": "code",
   "execution_count": 19,
   "id": "9ff89262",
   "metadata": {},
   "outputs": [
    {
     "name": "stdout",
     "output_type": "stream",
     "text": [
      "The array cannot be reshaped to a two dimentional array\n"
     ]
    }
   ],
   "source": [
    "x_axis = 0\n",
    "y_axis = 0\n",
    "for i in range(size):\n",
    "    if i == 0 or i == 1:\n",
    "        continue\n",
    "    if size % i == 0:\n",
    "        x_axis = i\n",
    "        y_axis = int(size / i)\n",
    "if x_axis > 0:\n",
    "    reshaped_arr = filtered_arr.reshape(x_axis,y_axis)\n",
    "    print(f\"The reshaped array is : \\n {reshaped_arr}\")\n",
    "else:\n",
    "    print(\"The array cannot be reshaped to a two dimentional array\")\n",
    "        "
   ]
  },
  {
   "cell_type": "markdown",
   "id": "1c8e7664",
   "metadata": {},
   "source": [
    "# Exercise 5\n",
    "    - Generate an array with 4x4 elements filled with zeros of type int\n",
    "    - change the first last and center element to a value between 10 and 100"
   ]
  },
  {
   "cell_type": "code",
   "execution_count": 30,
   "id": "c2b22558",
   "metadata": {},
   "outputs": [
    {
     "name": "stdout",
     "output_type": "stream",
     "text": [
      " The updated matrix is: \n",
      " [[63  0  0  0]\n",
      " [ 0 27  0  0]\n",
      " [ 0  0  0  0]\n",
      " [ 0  0  0 84]]\n"
     ]
    }
   ],
   "source": [
    "matrix = np.zeros((4,4), dtype = int)\n",
    "random_numbers = np.random.randint(10,101,3)\n",
    "matrix_shape = matrix.shape\n",
    "matrix[0,0] = random_numbers[0]\n",
    "matrix[matrix_shape[0] - 1, matrix_shape[1] - 1] = random_numbers[1]\n",
    "matrix[int(matrix_shape[0]/2 - 1),int(matrix_shape[1]/2 - 1)] = random_numbers[2]\n",
    "print(f\" The updated matrix is: \\n {matrix}\")"
   ]
  }
 ],
 "metadata": {
  "kernelspec": {
   "display_name": "Python 3 (ipykernel)",
   "language": "python",
   "name": "python3"
  },
  "language_info": {
   "codemirror_mode": {
    "name": "ipython",
    "version": 3
   },
   "file_extension": ".py",
   "mimetype": "text/x-python",
   "name": "python",
   "nbconvert_exporter": "python",
   "pygments_lexer": "ipython3",
   "version": "3.12.4"
  }
 },
 "nbformat": 4,
 "nbformat_minor": 5
}
