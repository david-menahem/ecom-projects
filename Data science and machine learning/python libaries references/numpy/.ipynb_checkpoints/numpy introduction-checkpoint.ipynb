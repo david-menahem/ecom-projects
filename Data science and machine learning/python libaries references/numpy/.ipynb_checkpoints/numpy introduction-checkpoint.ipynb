{
 "cells": [
  {
   "cell_type": "code",
   "execution_count": 101,
   "id": "f79144b4",
   "metadata": {},
   "outputs": [],
   "source": [
    "import numpy as np"
   ]
  },
  {
   "cell_type": "code",
   "execution_count": 102,
   "id": "f9f8a07e",
   "metadata": {},
   "outputs": [],
   "source": [
    "list = [1,2,3]"
   ]
  },
  {
   "cell_type": "code",
   "execution_count": 103,
   "id": "e478cf80",
   "metadata": {},
   "outputs": [],
   "source": [
    "list_2 = [4,5,6]"
   ]
  },
  {
   "cell_type": "code",
   "execution_count": 104,
   "id": "244ac5e6",
   "metadata": {},
   "outputs": [],
   "source": [
    "my_numpy_list = np.array(list)"
   ]
  },
  {
   "cell_type": "code",
   "execution_count": 105,
   "id": "5adf12b3",
   "metadata": {},
   "outputs": [],
   "source": [
    "my_numpy_list_2 = np.array(list_2)"
   ]
  },
  {
   "cell_type": "code",
   "execution_count": 106,
   "id": "2c54b5b5",
   "metadata": {},
   "outputs": [
    {
     "name": "stdout",
     "output_type": "stream",
     "text": [
      "[1 2 3]\n"
     ]
    }
   ],
   "source": [
    "print(my_numpy_list)"
   ]
  },
  {
   "cell_type": "code",
   "execution_count": 107,
   "id": "56ad00b1",
   "metadata": {},
   "outputs": [
    {
     "name": "stdout",
     "output_type": "stream",
     "text": [
      "<class 'numpy.ndarray'>\n"
     ]
    }
   ],
   "source": [
    "print(type(my_numpy_list))"
   ]
  },
  {
   "cell_type": "code",
   "execution_count": 108,
   "id": "26005b7c",
   "metadata": {},
   "outputs": [],
   "source": [
    "my_numpy_list_3 = np.add(my_numpy_list,my_numpy_list_2)"
   ]
  },
  {
   "cell_type": "code",
   "execution_count": 109,
   "id": "f810682f",
   "metadata": {},
   "outputs": [
    {
     "name": "stdout",
     "output_type": "stream",
     "text": [
      "[5 7 9]\n"
     ]
    }
   ],
   "source": [
    "print(my_numpy_list_3)"
   ]
  },
  {
   "cell_type": "code",
   "execution_count": 110,
   "id": "fa3285bc",
   "metadata": {},
   "outputs": [],
   "source": [
    "matrix = [[1,2,3],[4,5,6],[7,8,9]]"
   ]
  },
  {
   "cell_type": "code",
   "execution_count": 111,
   "id": "22a658de",
   "metadata": {},
   "outputs": [],
   "source": [
    "numpy_matrix = np.array(matrix)"
   ]
  },
  {
   "cell_type": "code",
   "execution_count": 112,
   "id": "21aa29bf",
   "metadata": {},
   "outputs": [
    {
     "name": "stdout",
     "output_type": "stream",
     "text": [
      "[[1 2 3]\n",
      " [4 5 6]\n",
      " [7 8 9]]\n"
     ]
    }
   ],
   "source": [
    "print(numpy_matrix)"
   ]
  },
  {
   "cell_type": "code",
   "execution_count": 113,
   "id": "9e7f0c54",
   "metadata": {},
   "outputs": [
    {
     "name": "stdout",
     "output_type": "stream",
     "text": [
      "<class 'numpy.ndarray'>\n"
     ]
    }
   ],
   "source": [
    "print(type(numpy_matrix))"
   ]
  },
  {
   "cell_type": "code",
   "execution_count": 114,
   "id": "f337a7b4",
   "metadata": {},
   "outputs": [],
   "source": [
    "my_range = np.arange(0,10,2)"
   ]
  },
  {
   "cell_type": "code",
   "execution_count": 115,
   "id": "b43ba0c0",
   "metadata": {},
   "outputs": [
    {
     "name": "stdout",
     "output_type": "stream",
     "text": [
      "[0 2 4 6 8]\n"
     ]
    }
   ],
   "source": [
    "print(my_range)"
   ]
  },
  {
   "cell_type": "code",
   "execution_count": 116,
   "id": "df01fcb2",
   "metadata": {},
   "outputs": [],
   "source": [
    "zeros = np.zeros((4,3),dtype=int)"
   ]
  },
  {
   "cell_type": "code",
   "execution_count": 117,
   "id": "0d70c76d",
   "metadata": {},
   "outputs": [
    {
     "name": "stdout",
     "output_type": "stream",
     "text": [
      "[[0 0 0]\n",
      " [0 0 0]\n",
      " [0 0 0]\n",
      " [0 0 0]]\n"
     ]
    }
   ],
   "source": [
    "print(zeros)"
   ]
  },
  {
   "cell_type": "code",
   "execution_count": 118,
   "id": "8902ead3",
   "metadata": {},
   "outputs": [],
   "source": [
    "spaced_numbers = np.linspace(2,100,200)"
   ]
  },
  {
   "cell_type": "code",
   "execution_count": 119,
   "id": "a284b0c0",
   "metadata": {},
   "outputs": [
    {
     "name": "stdout",
     "output_type": "stream",
     "text": [
      "[  2.           2.49246231   2.98492462   3.47738693   3.96984925\n",
      "   4.46231156   4.95477387   5.44723618   5.93969849   6.4321608\n",
      "   6.92462312   7.41708543   7.90954774   8.40201005   8.89447236\n",
      "   9.38693467   9.87939698  10.3718593   10.86432161  11.35678392\n",
      "  11.84924623  12.34170854  12.83417085  13.32663317  13.81909548\n",
      "  14.31155779  14.8040201   15.29648241  15.78894472  16.28140704\n",
      "  16.77386935  17.26633166  17.75879397  18.25125628  18.74371859\n",
      "  19.2361809   19.72864322  20.22110553  20.71356784  21.20603015\n",
      "  21.69849246  22.19095477  22.68341709  23.1758794   23.66834171\n",
      "  24.16080402  24.65326633  25.14572864  25.63819095  26.13065327\n",
      "  26.62311558  27.11557789  27.6080402   28.10050251  28.59296482\n",
      "  29.08542714  29.57788945  30.07035176  30.56281407  31.05527638\n",
      "  31.54773869  32.04020101  32.53266332  33.02512563  33.51758794\n",
      "  34.01005025  34.50251256  34.99497487  35.48743719  35.9798995\n",
      "  36.47236181  36.96482412  37.45728643  37.94974874  38.44221106\n",
      "  38.93467337  39.42713568  39.91959799  40.4120603   40.90452261\n",
      "  41.39698492  41.88944724  42.38190955  42.87437186  43.36683417\n",
      "  43.85929648  44.35175879  44.84422111  45.33668342  45.82914573\n",
      "  46.32160804  46.81407035  47.30653266  47.79899497  48.29145729\n",
      "  48.7839196   49.27638191  49.76884422  50.26130653  50.75376884\n",
      "  51.24623116  51.73869347  52.23115578  52.72361809  53.2160804\n",
      "  53.70854271  54.20100503  54.69346734  55.18592965  55.67839196\n",
      "  56.17085427  56.66331658  57.15577889  57.64824121  58.14070352\n",
      "  58.63316583  59.12562814  59.61809045  60.11055276  60.60301508\n",
      "  61.09547739  61.5879397   62.08040201  62.57286432  63.06532663\n",
      "  63.55778894  64.05025126  64.54271357  65.03517588  65.52763819\n",
      "  66.0201005   66.51256281  67.00502513  67.49748744  67.98994975\n",
      "  68.48241206  68.97487437  69.46733668  69.95979899  70.45226131\n",
      "  70.94472362  71.43718593  71.92964824  72.42211055  72.91457286\n",
      "  73.40703518  73.89949749  74.3919598   74.88442211  75.37688442\n",
      "  75.86934673  76.36180905  76.85427136  77.34673367  77.83919598\n",
      "  78.33165829  78.8241206   79.31658291  79.80904523  80.30150754\n",
      "  80.79396985  81.28643216  81.77889447  82.27135678  82.7638191\n",
      "  83.25628141  83.74874372  84.24120603  84.73366834  85.22613065\n",
      "  85.71859296  86.21105528  86.70351759  87.1959799   87.68844221\n",
      "  88.18090452  88.67336683  89.16582915  89.65829146  90.15075377\n",
      "  90.64321608  91.13567839  91.6281407   92.12060302  92.61306533\n",
      "  93.10552764  93.59798995  94.09045226  94.58291457  95.07537688\n",
      "  95.5678392   96.06030151  96.55276382  97.04522613  97.53768844\n",
      "  98.03015075  98.52261307  99.01507538  99.50753769 100.        ]\n"
     ]
    }
   ],
   "source": [
    "print(spaced_numbers)"
   ]
  },
  {
   "cell_type": "code",
   "execution_count": 120,
   "id": "ed3b7d16",
   "metadata": {},
   "outputs": [],
   "source": [
    "random_numbers = np.random.rand(2,5)"
   ]
  },
  {
   "cell_type": "code",
   "execution_count": 121,
   "id": "58b510e7",
   "metadata": {},
   "outputs": [
    {
     "name": "stdout",
     "output_type": "stream",
     "text": [
      "[[0.22464881 0.67969926 0.71259758 0.65379441 0.83946332]\n",
      " [0.14036042 0.01519447 0.33555828 0.79725836 0.86253135]]\n"
     ]
    }
   ],
   "source": [
    "print(random_numbers)"
   ]
  },
  {
   "cell_type": "code",
   "execution_count": 122,
   "id": "b5ec0424",
   "metadata": {},
   "outputs": [],
   "source": [
    "random_numbers = np.random.randint(0,101,(2,5))"
   ]
  },
  {
   "cell_type": "code",
   "execution_count": 123,
   "id": "9cef60cc",
   "metadata": {},
   "outputs": [
    {
     "name": "stdout",
     "output_type": "stream",
     "text": [
      "[[63 19 35 30 10]\n",
      " [60 20 27  8 86]]\n"
     ]
    }
   ],
   "source": [
    "print(random_numbers)"
   ]
  },
  {
   "cell_type": "code",
   "execution_count": 124,
   "id": "51024d3c",
   "metadata": {},
   "outputs": [
    {
     "data": {
      "text/plain": [
       "array([[51, 92, 14, 71, 60],\n",
       "       [20, 82, 86, 74, 74]])"
      ]
     },
     "execution_count": 124,
     "metadata": {},
     "output_type": "execute_result"
    }
   ],
   "source": [
    "np.random.seed(42)\n",
    "np.random.randint(0,101,(2,5))"
   ]
  },
  {
   "cell_type": "code",
   "execution_count": 125,
   "id": "31274c4b",
   "metadata": {},
   "outputs": [
    {
     "name": "stdout",
     "output_type": "stream",
     "text": [
      "[[1. 0. 0. 0. 0. 0.]\n",
      " [0. 1. 0. 0. 0. 0.]\n",
      " [0. 0. 1. 0. 0. 0.]\n",
      " [0. 0. 0. 1. 0. 0.]\n",
      " [0. 0. 0. 0. 1. 0.]\n",
      " [0. 0. 0. 0. 0. 1.]]\n"
     ]
    }
   ],
   "source": [
    "identity_matrix = np.eye(6)  # size\n",
    "print(identity_matrix)\n"
   ]
  },
  {
   "cell_type": "code",
   "execution_count": 126,
   "id": "42e34f18",
   "metadata": {},
   "outputs": [
    {
     "name": "stdout",
     "output_type": "stream",
     "text": [
      "(2, 4)\n"
     ]
    }
   ],
   "source": [
    "arr = np.array([[1, 2, 3, 4], [4, 5, 6, 7]])\n",
    "shape = np.shape(arr)\n",
    "print(shape)\n"
   ]
  },
  {
   "cell_type": "code",
   "execution_count": 127,
   "id": "0ac40a98",
   "metadata": {},
   "outputs": [
    {
     "name": "stdout",
     "output_type": "stream",
     "text": [
      "[1 2 3 4 5 6]\n",
      "[[1 2 3]\n",
      " [4 5 6]]\n"
     ]
    }
   ],
   "source": [
    "arr = np.arange(1, 7)\n",
    "print(arr)\n",
    "reshaped_arr = arr.reshape(2, 3)\n",
    "print(reshaped_arr)\n"
   ]
  },
  {
   "cell_type": "code",
   "execution_count": 128,
   "id": "a1670b10",
   "metadata": {},
   "outputs": [
    {
     "name": "stdout",
     "output_type": "stream",
     "text": [
      "10.5 1.75 0.6922186552431729\n"
     ]
    }
   ],
   "source": [
    "arr = np.array([[1, 1.5, 2], [3, 1, 2]])\n",
    "total_sum = np.sum(arr)\n",
    "mean_val = np.mean(arr)\n",
    "std_dev = np.std(arr)\n",
    "\n",
    "print(total_sum, mean_val, std_dev)\n"
   ]
  },
  {
   "cell_type": "code",
   "execution_count": 129,
   "id": "dd59b422",
   "metadata": {},
   "outputs": [
    {
     "name": "stdout",
     "output_type": "stream",
     "text": [
      "[[1 4]\n",
      " [2 5]\n",
      " [3 6]]\n"
     ]
    }
   ],
   "source": [
    "arr = np.array([[1, 2, 3], [4, 5, 6]])\n",
    "transposed_arr = np.transpose(arr)\n",
    "print(transposed_arr)"
   ]
  },
  {
   "cell_type": "code",
   "execution_count": 130,
   "id": "1fd3468a",
   "metadata": {},
   "outputs": [
    {
     "name": "stdout",
     "output_type": "stream",
     "text": [
      "32\n"
     ]
    }
   ],
   "source": [
    "arr1 = np.array([1, 2, 3])\n",
    "arr2 = np.array([4, 5, 6])\n",
    "dot_product = np.dot(arr1, arr2)\n",
    "print(dot_product)\n"
   ]
  },
  {
   "cell_type": "code",
   "execution_count": 131,
   "id": "f37c8c30",
   "metadata": {},
   "outputs": [
    {
     "name": "stdout",
     "output_type": "stream",
     "text": [
      "[-3  6 -3]\n"
     ]
    }
   ],
   "source": [
    "arr1 = np.array([1, 2, 3])\n",
    "arr2 = np.array([4, 5, 6])\n",
    "cross_product = np.cross(arr1, arr2)\n",
    "print(cross_product)\n"
   ]
  },
  {
   "cell_type": "code",
   "execution_count": 132,
   "id": "1d29e156",
   "metadata": {},
   "outputs": [
    {
     "name": "stdout",
     "output_type": "stream",
     "text": [
      "1 9\n"
     ]
    }
   ],
   "source": [
    "arr = np.array([3, 1, 4, 1, 5, 9, 2])\n",
    "min_val = np.min(arr)\n",
    "max_val = np.max(arr)\n",
    "\n",
    "print(min_val, max_val)\n"
   ]
  },
  {
   "cell_type": "code",
   "execution_count": 133,
   "id": "9c4fac76",
   "metadata": {},
   "outputs": [
    {
     "name": "stdout",
     "output_type": "stream",
     "text": [
      "[1 2 3 4 5]\n"
     ]
    }
   ],
   "source": [
    "arr = np.array([1, 2, 2, 3, 4, 4, 5])\n",
    "unique_values = np.unique(arr)\n",
    "print(unique_values)"
   ]
  },
  {
   "cell_type": "code",
   "execution_count": 134,
   "id": "f8e2b695",
   "metadata": {},
   "outputs": [
    {
     "name": "stdout",
     "output_type": "stream",
     "text": [
      "[3 3 3]\n",
      "[1.         2.33333333 3.66666667 5.        ]\n"
     ]
    }
   ],
   "source": [
    "data = np.array([1, 2, 2, 3, 3, 3, 4, 4, 5])\n",
    "hist, edges = np.histogram(data, bins=3)\n",
    "print(hist)\n",
    "print(edges)"
   ]
  },
  {
   "cell_type": "code",
   "execution_count": 135,
   "id": "f18f240f",
   "metadata": {},
   "outputs": [
    {
     "data": {
      "image/png": "[encoded data removed]",
      "text/plain": [
       "<Figure size 640x480 with 1 Axes>"
      ]
     },
     "metadata": {},
     "output_type": "display_data"
    }
   ],
   "source": [
    "import matplotlib.pyplot as plt\n",
    "\n",
    "# Plotting the histogram\n",
    "plt.bar(edges[:-1], hist, width=np.diff(edges), edgecolor='black')\n",
    "plt.title('Histogram of Data')\n",
    "plt.xlabel('Values')\n",
    "plt.ylabel('Frequency')\n",
    "plt.show()\n"
   ]
  },
  {
   "cell_type": "code",
   "execution_count": 136,
   "id": "26c7421a",
   "metadata": {},
   "outputs": [],
   "source": [
    "arr = np.random.randint(0,101,(5,5))\n",
    "arr_reshape = arr.copy()"
   ]
  },
  {
   "cell_type": "code",
   "execution_count": 137,
   "id": "a845c19b",
   "metadata": {},
   "outputs": [
    {
     "name": "stdout",
     "output_type": "stream",
     "text": [
      "Array arr reshape:\n",
      "[[87 99 23  2 21]\n",
      " [52  1 87 29 37]\n",
      " [ 1 63 59 20 32]\n",
      " [75 57 21 88 48]\n",
      " [90 58 41 91 59]]\n",
      "1\n",
      "99\n",
      "1\n",
      "6\n",
      "(5, 5)\n",
      "59\n",
      "[90 58 41 91 59]\n",
      "[[87 99 23  2 21]\n",
      " [52  1 87 29 37]\n",
      " [ 1 63 59 20 32]\n",
      " [75 57 21 88 48]\n",
      " [90 58 41 91 59]]\n",
      "[]\n",
      "[]\n",
      "Array arr:\n",
      "[[87 99 23  2 21]\n",
      " [52  1 87 29 37]\n",
      " [ 1 63 59 20 32]\n",
      " [75 57 21 88 48]\n",
      " [90 58 41 91 59]]\n",
      "2\n",
      "[[1000 1000 1000 1000 1000]\n",
      " [  52    1   87   29   37]\n",
      " [   1   63   59   20   32]\n",
      " [  75   57   21   88   48]\n",
      " [  90   58   41   91   59]]\n",
      "[[   87    99    23     2    21]\n",
      " [20000 20000 20000 20000 20000]\n",
      " [    1    63    59    20    32]\n",
      " [   75    57    21    88    48]\n",
      " [   90    58    41    91    59]]\n",
      "[87 99 63 59 75 57 88 90 58 91 59]\n",
      "[   87    99     2 20000 20000 20000 20000 20000     1    63    59    75\n",
      "    57    88    90    58    91    59]\n",
      "[   232 100000    175    289    339]\n",
      "[[   87    99    23     2    21]\n",
      " [20000 20000 20000 20000 20000]\n",
      " [    1    63    59    20    32]\n",
      " [   75    57    21    88    48]\n",
      " [   90    58    41    91    59]\n",
      " [   87    99    23     2    21]\n",
      " [   52     1    87    29    37]\n",
      " [    1    63    59    20    32]\n",
      " [   75    57    21    88    48]\n",
      " [   90    58    41    91    59]]\n"
     ]
    }
   ],
   "source": [
    "print(f'Array arr reshape:\\n{arr_reshape}')\n",
    "print(arr_reshape.min())\n",
    "print(arr_reshape.max())\n",
    "print(arr_reshape.argmax())\n",
    "print(arr_reshape.argmin())\n",
    "print(arr_reshape.shape)\n",
    "print(arr_reshape[4,4])\n",
    "print(arr_reshape[arr_reshape.shape[0]-1])\n",
    "print(arr[:7])\n",
    "print(arr[7:])\n",
    "print(arr[6:9])\n",
    "arr[6:9] = 100\n",
    "print(f'Array arr:\\n{arr}')\n",
    "print(arr_reshape[0][3])\n",
    "copy_arr = arr.copy()\n",
    "copy_arr[0] = 1000\n",
    "arr[1] = 20000\n",
    "print(copy_arr)\n",
    "print(arr)\n",
    "print(arr[(arr > 50) & (arr < 1000)])\n",
    "print(arr[(arr > 50) | (arr < 10)])\n",
    "print(arr.sum(axis=1))\n",
    "new_array = np.concatenate((arr,arr_reshape))\n",
    "print(new_array)"
   ]
  },
  {
   "cell_type": "code",
   "execution_count": 138,
   "id": "51ae4264",
   "metadata": {},
   "outputs": [],
   "source": [
    "np.random.seed(101)\n",
    "my_array = np.random.randint(0,101,(5,5))\n",
    "second_array = np.random.randint(0,201,(5,5))"
   ]
  },
  {
   "cell_type": "code",
   "execution_count": 139,
   "id": "69a870be",
   "metadata": {},
   "outputs": [
    {
     "name": "stdout",
     "output_type": "stream",
     "text": [
      "[[95 11 81 70 63]\n",
      " [87 75  9 77 40]\n",
      " [ 4 63 40 60 92]\n",
      " [64  5 12 93 40]\n",
      " [49 83  8 29 59]]\n",
      "[320 288 259 214 228]\n",
      "[11  9  4  5  8]\n",
      "[95 87 92 93 83]\n",
      "[64.  57.6 51.8 42.8 45.6]\n",
      "median [70. 75. 60. 40. 49.]\n",
      "[95 11 81 70 63 87 75 77 40 63 40 60 92 64 12 93 40 49 83 29 59]\n",
      "21\n",
      "[[ 95  11  81  70  63]\n",
      " [ 87  75   9  77  40]\n",
      " [  4  63  40  60  92]\n",
      " [ 64   5  12  93  40]\n",
      " [ 49  83   8  29  59]\n",
      " [162  44  72  19 126]\n",
      " [138  76 107  87 128]\n",
      " [105   8  62 164  99]\n",
      " [ 28  63   7 138 180]\n",
      " [184 103  38  73 180]]\n"
     ]
    }
   ],
   "source": [
    "print(my_array)\n",
    "print(my_array.sum(axis=1))\n",
    "print(my_array.min(axis=1))\n",
    "print(my_array.max(axis=1))\n",
    "print(my_array.mean(axis=1))\n",
    "median = np.median(my_array,axis=1)\n",
    "print(f\"median {median}\")\n",
    "new_array = my_array[my_array > 10]\n",
    "print(new_array)\n",
    "print(len(new_array))\n",
    "concantinated = np.concatenate((my_array,second_array))\n",
    "print(concantinated)"
   ]
  }
 ],
 "metadata": {
  "kernelspec": {
   "display_name": "Python 3 (ipykernel)",
   "language": "python",
   "name": "python3"
  },
  "language_info": {
   "codemirror_mode": {
    "name": "ipython",
    "version": 3
   },
   "file_extension": ".py",
   "mimetype": "text/x-python",
   "name": "python",
   "nbconvert_exporter": "python",
   "pygments_lexer": "ipython3",
   "version": "3.12.4"
  }
 },
 "nbformat": 4,
 "nbformat_minor": 5
}
