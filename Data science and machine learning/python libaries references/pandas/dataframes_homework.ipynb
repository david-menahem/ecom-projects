{
 "cells": [
  {
   "cell_type": "code",
   "execution_count": 7,
   "id": "ed56156e",
   "metadata": {},
   "outputs": [],
   "source": [
    "import numpy as np\n",
    "import pandas as pd"
   ]
  },
  {
   "cell_type": "markdown",
   "id": "a060ad49",
   "metadata": {},
   "source": [
    "# Exercise 1"
   ]
  },
  {
   "cell_type": "code",
   "execution_count": 8,
   "id": "092d7df7",
   "metadata": {},
   "outputs": [
    {
     "name": "stdout",
     "output_type": "stream",
     "text": [
      "      Name  Age  Gender        Occupation\n",
      "0    David   38    Male      AI developer\n",
      "1      Avi   39    Male            Laywer\n",
      "2     Yael   37  Female  Graphic designer\n",
      "3  Shachar   29    Male          Salesmen\n",
      "4     Elad   40    Male            Writer\n"
     ]
    }
   ],
   "source": [
    "person = pd.DataFrame({\n",
    "    \"Name\": [\"David\",\"Avi\",\"Yael\",\"Shachar\",\"Elad\"],\n",
    "    \"Age\": [38,39,37,29,40],\n",
    "    \"Gender\": [\"Male\",\"Male\",\"Female\",\"Male\",\"Male\"],\n",
    "    \"Occupation\": [\"AI developer\",\"Laywer\",\"Graphic designer\",\"Salesmen\",\"Writer\"]\n",
    "})\n",
    "print(person)"
   ]
  },
  {
   "cell_type": "code",
   "execution_count": 9,
   "id": "d01e38cc",
   "metadata": {},
   "outputs": [
    {
     "name": "stdout",
     "output_type": "stream",
     "text": [
      "36.6\n"
     ]
    }
   ],
   "source": [
    "avg_age = person['Age'].mean()\n",
    "print(avg_age)"
   ]
  },
  {
   "cell_type": "code",
   "execution_count": 10,
   "id": "6533266c",
   "metadata": {},
   "outputs": [
    {
     "name": "stdout",
     "output_type": "stream",
     "text": [
      "      Name  Age  Gender        Occupation  Salary\n",
      "0    David   38    Male      AI developer   15000\n",
      "1      Avi   39    Male            Laywer   20000\n",
      "2     Yael   37  Female  Graphic designer   17000\n",
      "3  Shachar   29    Male          Salesmen   12000\n",
      "4     Elad   40    Male            Writer   30000\n"
     ]
    }
   ],
   "source": [
    "salaries = [15000,20000,17000,12000,30000]\n",
    "person[\"Salary\"] = salaries\n",
    "print(person)"
   ]
  },
  {
   "cell_type": "code",
   "execution_count": 11,
   "id": "4e203af6",
   "metadata": {},
   "outputs": [
    {
     "name": "stdout",
     "output_type": "stream",
     "text": [
      "      Name  Age  Gender  Salary\n",
      "0    David   38    Male   15000\n",
      "1      Avi   39    Male   20000\n",
      "2     Yael   37  Female   17000\n",
      "3  Shachar   29    Male   12000\n",
      "4     Elad   40    Male   30000\n"
     ]
    }
   ],
   "source": [
    "person.drop('Occupation',axis=1,inplace=True)\n",
    "print(person)"
   ]
  },
  {
   "cell_type": "markdown",
   "id": "e64c406d",
   "metadata": {},
   "source": [
    "# Execise 2"
   ]
  },
  {
   "cell_type": "code",
   "execution_count": 12,
   "id": "480ca289",
   "metadata": {},
   "outputs": [
    {
     "name": "stdout",
     "output_type": "stream",
     "text": [
      "            total_bill   tip     sex smoker   day    time  size  \\\n",
      "Payment ID                                                        \n",
      "Sun2959          16.99  1.01  Female     No   Sun  Dinner     2   \n",
      "Sun4608          10.34  1.66    Male     No   Sun  Dinner     3   \n",
      "Sun4458          21.01  3.50    Male     No   Sun  Dinner     3   \n",
      "Sun5260          23.68  3.31    Male     No   Sun  Dinner     2   \n",
      "Sun2251          24.59  3.61  Female     No   Sun  Dinner     4   \n",
      "...                ...   ...     ...    ...   ...     ...   ...   \n",
      "Sat2657          29.03  5.92    Male     No   Sat  Dinner     3   \n",
      "Sat1766          27.18  2.00  Female    Yes   Sat  Dinner     2   \n",
      "Sat3880          22.67  2.00    Male    Yes   Sat  Dinner     2   \n",
      "Sat17            17.82  1.75    Male     No   Sat  Dinner     2   \n",
      "Thur672          18.78  3.00  Female     No  Thur  Dinner     2   \n",
      "\n",
      "            price_per_person          Payer Name         CC Number  \n",
      "Payment ID                                                          \n",
      "Sun2959                 8.49  Christy Cunningham  3560325168603410  \n",
      "Sun4608                 3.45      Douglas Tucker  4478071379779230  \n",
      "Sun4458                 7.00      Travis Walters  6011812112971322  \n",
      "Sun5260                11.84    Nathaniel Harris  4676137647685994  \n",
      "Sun2251                 6.15        Tonya Carter  4832732618637221  \n",
      "...                      ...                 ...               ...  \n",
      "Sat2657                 9.68       Michael Avila  5296068606052842  \n",
      "Sat1766                13.59      Monica Sanders  3506806155565404  \n",
      "Sat3880                11.34          Keith Wong  6011891618747196  \n",
      "Sat17                   8.91        Dennis Dixon     4375220550950  \n",
      "Thur672                 9.39     Michelle Hardin  3511451626698139  \n",
      "\n",
      "[244 rows x 10 columns]\n"
     ]
    }
   ],
   "source": [
    "tips_df = pd.read_csv(\"csv/tips.csv\")\n",
    "tips_df.set_index(\"Payment ID\",inplace=True)\n",
    "print(tips_df)"
   ]
  },
  {
   "cell_type": "code",
   "execution_count": 13,
   "id": "d213c5c8",
   "metadata": {},
   "outputs": [
    {
     "name": "stdout",
     "output_type": "stream",
     "text": [
      "            total_bill   tip     sex smoker   day    time  size  \\\n",
      "Payment ID                                                        \n",
      "Sun4608          10.34  1.66    Male     No   Sun  Dinner     3   \n",
      "Sun4608          10.34  1.66    Male     No   Sun  Dinner     3   \n",
      "Sat17            17.82  1.75    Male     No   Sat  Dinner     2   \n",
      "Sun4458          21.01  3.50    Male     No   Sun  Dinner     3   \n",
      "Thur672          18.78  3.00  Female     No  Thur  Dinner     2   \n",
      "\n",
      "            price_per_person       Payer Name         CC Number  \n",
      "Payment ID                                                       \n",
      "Sun4608                 3.45   Douglas Tucker  4478071379779230  \n",
      "Sun4608                 3.45   Douglas Tucker  4478071379779230  \n",
      "Sat17                   8.91     Dennis Dixon     4375220550950  \n",
      "Sun4458                 7.00   Travis Walters  6011812112971322  \n",
      "Thur672                 9.39  Michelle Hardin  3511451626698139  \n"
     ]
    }
   ],
   "source": [
    "tips_df_short = tips_df.loc[['Sun4608','Sun4608','Sat17','Sun4458','Thur672']]\n",
    "print(tips_df_short)"
   ]
  },
  {
   "cell_type": "code",
   "execution_count": 14,
   "id": "a03f8866",
   "metadata": {},
   "outputs": [
    {
     "name": "stdout",
     "output_type": "stream",
     "text": [
      "            total_bill   tip     sex smoker   day    time  size  \\\n",
      "Payment ID                                                        \n",
      "Sun2959          16.99  1.01  Female     No   Sun  Dinner     2   \n",
      "Sun4608          10.34  1.66    Male     No   Sun  Dinner     3   \n",
      "Sun4458          21.01  3.50    Male     No   Sun  Dinner     3   \n",
      "Sun5260          23.68  3.31    Male     No   Sun  Dinner     2   \n",
      "Sun2251          24.59  3.61  Female     No   Sun  Dinner     4   \n",
      "...                ...   ...     ...    ...   ...     ...   ...   \n",
      "Sat2657          29.03  5.92    Male     No   Sat  Dinner     3   \n",
      "Sat1766          27.18  2.00  Female    Yes   Sat  Dinner     2   \n",
      "Sat3880          22.67  2.00    Male    Yes   Sat  Dinner     2   \n",
      "Sat17            17.82  1.75    Male     No   Sat  Dinner     2   \n",
      "Thur672          18.78  3.00  Female     No  Thur  Dinner     2   \n",
      "\n",
      "            price_per_person          Payer Name         CC Number  \\\n",
      "Payment ID                                                           \n",
      "Sun2959                 8.49  Christy Cunningham  3560325168603410   \n",
      "Sun4608                 3.45      Douglas Tucker  4478071379779230   \n",
      "Sun4458                 7.00      Travis Walters  6011812112971322   \n",
      "Sun5260                11.84    Nathaniel Harris  4676137647685994   \n",
      "Sun2251                 6.15        Tonya Carter  4832732618637221   \n",
      "...                      ...                 ...               ...   \n",
      "Sat2657                 9.68       Michael Avila  5296068606052842   \n",
      "Sat1766                13.59      Monica Sanders  3506806155565404   \n",
      "Sat3880                11.34          Keith Wong  6011891618747196   \n",
      "Sat17                   8.91        Dennis Dixon     4375220550950   \n",
      "Thur672                 9.39     Michelle Hardin  3511451626698139   \n",
      "\n",
      "            total_payment_per_person  \n",
      "Payment ID                            \n",
      "Sun2959                        18.00  \n",
      "Sun4608                        12.00  \n",
      "Sun4458                        24.51  \n",
      "Sun5260                        26.99  \n",
      "Sun2251                        28.20  \n",
      "...                              ...  \n",
      "Sat2657                        34.95  \n",
      "Sat1766                        29.18  \n",
      "Sat3880                        24.67  \n",
      "Sat17                          19.57  \n",
      "Thur672                        21.78  \n",
      "\n",
      "[244 rows x 11 columns]\n"
     ]
    }
   ],
   "source": [
    "tips_df[\"total_payment_per_person\"] = tips_df[\"total_bill\"] + tips_df['tip']\n",
    "print(tips_df)"
   ]
  },
  {
   "cell_type": "code",
   "execution_count": 15,
   "id": "90865d76",
   "metadata": {},
   "outputs": [
    {
     "name": "stdout",
     "output_type": "stream",
     "text": [
      "            total_bill   tip     sex smoker   day    time  size  \\\n",
      "Payment ID                                                        \n",
      "Sat1967          26.86  3.14  Female    Yes   Sat  Dinner     2   \n",
      "Sat6065          25.28  5.00  Female    Yes   Sat  Dinner     2   \n",
      "Fri6963          16.32  4.30  Female    Yes   Fri  Dinner     2   \n",
      "Sat1015          22.42  3.48  Female    Yes   Sat  Dinner     2   \n",
      "Sat2614          14.31  4.00  Female    Yes   Sat  Dinner     2   \n",
      "Sun4598           9.60  4.00  Female    Yes   Sun  Dinner     2   \n",
      "Sun4254          20.90  3.50  Female    Yes   Sun  Dinner     3   \n",
      "Sun430           18.15  3.50  Female    Yes   Sun  Dinner     3   \n",
      "Thur967          19.81  4.19  Female    Yes  Thur   Lunch     2   \n",
      "Thur9313         43.11  5.00  Female    Yes  Thur   Lunch     4   \n",
      "Thur8084         16.47  3.23  Female    Yes  Thur   Lunch     3   \n",
      "Sat3374          28.17  6.50  Female    Yes   Sat  Dinner     3   \n",
      "Sat8863          30.14  3.09  Female    Yes   Sat  Dinner     4   \n",
      "Fri7511          13.42  3.48  Female    Yes   Fri   Lunch     2   \n",
      "\n",
      "            price_per_person          Payer Name         CC Number  \\\n",
      "Payment ID                                                           \n",
      "Sat1967                13.43  Victoria Obrien MD     4216245673726   \n",
      "Sat6065                12.64        Julie Holmes  5418689346409571   \n",
      "Fri6963                 8.16      Natalie Nguyen  5181236182893396   \n",
      "Sat1015                11.21    Kathleen Hawkins   348009865484721   \n",
      "Sat2614                 7.16     Amanda Anderson   375638820334211   \n",
      "Sun4598                 4.80        Melanie Gray     4211808859168   \n",
      "Sun4254                 6.97      Heidi Atkinson  4422858423131187   \n",
      "Sun430                  6.05      Glenda Wiggins      578329325307   \n",
      "Thur967                 9.90         Kristy Boyd  4317015327600068   \n",
      "Thur9313               10.78         Brooke Soto  5544902205760175   \n",
      "Thur8084                5.49         Carly Reyes     4787787236486   \n",
      "Sat3374                 9.39     Marissa Jackson  4922302538691962   \n",
      "Sat8863                 7.54        Shelby House      502097403252   \n",
      "Fri7511                 6.71      Leslie Kaufman   379437981958785   \n",
      "\n",
      "            total_payment_per_person  \n",
      "Payment ID                            \n",
      "Sat1967                        30.00  \n",
      "Sat6065                        30.28  \n",
      "Fri6963                        20.62  \n",
      "Sat1015                        25.90  \n",
      "Sat2614                        18.31  \n",
      "Sun4598                        13.60  \n",
      "Sun4254                        24.40  \n",
      "Sun430                         21.65  \n",
      "Thur967                        24.00  \n",
      "Thur9313                       48.11  \n",
      "Thur8084                       19.70  \n",
      "Sat3374                        34.67  \n",
      "Sat8863                        33.23  \n",
      "Fri7511                        16.90  \n"
     ]
    }
   ],
   "source": [
    "filtered_tips_df = tips_df.loc[(tips_df['sex'] == 'Female') & (tips_df['smoker'] == 'Yes') & (tips_df['tip'] > 3)]\n",
    "print(filtered_tips_df)"
   ]
  },
  {
   "cell_type": "code",
   "execution_count": 16,
   "id": "ca9d295f",
   "metadata": {},
   "outputs": [],
   "source": [
    "np.random.seed(100)"
   ]
  },
  {
   "cell_type": "markdown",
   "id": "70553a5a",
   "metadata": {},
   "source": [
    "# Exercise 3"
   ]
  },
  {
   "cell_type": "code",
   "execution_count": 17,
   "id": "f73f549c",
   "metadata": {},
   "outputs": [
    {
     "name": "stdout",
     "output_type": "stream",
     "text": [
      "    0   1   2   3   4   5\n",
      "0   8  24  67  87  79  48\n",
      "1  10  94  52  98  53  66\n",
      "2  98  14  34  24  15  60\n",
      "3  58  16   9  93  86   2\n"
     ]
    }
   ],
   "source": [
    "random_df = pd.DataFrame(np.random.randint(0,100,(4,6)))\n",
    "print(random_df)"
   ]
  },
  {
   "cell_type": "code",
   "execution_count": 18,
   "id": "ba632082",
   "metadata": {},
   "outputs": [
    {
     "name": "stdout",
     "output_type": "stream",
     "text": [
      "   Africa  America  Asia  Europe  Australia  South America\n",
      "0       8       24    67      87         79             48\n",
      "1      10       94    52      98         53             66\n",
      "2      98       14    34      24         15             60\n",
      "3      58       16     9      93         86              2\n"
     ]
    }
   ],
   "source": [
    "cols = ['Africa','America','Asia','Europe','Australia','South America']\n",
    "random_df.columns = cols\n",
    "\n",
    "print(random_df)"
   ]
  },
  {
   "cell_type": "code",
   "execution_count": 19,
   "id": "f830cf66",
   "metadata": {},
   "outputs": [
    {
     "name": "stdout",
     "output_type": "stream",
     "text": [
      "   Africa  America  Asia  Europe  Australia  South America  sum\n",
      "0       8       24    67      87         79             48  313\n",
      "1      10       94    52      98         53             66  373\n",
      "2      98       14    34      24         15             60  245\n",
      "3      58       16     9      93         86              2  264\n"
     ]
    }
   ],
   "source": [
    "sums = random_df.sum(axis=1)\n",
    "if 'sum' not in random_df.columns:\n",
    "    random_df['sum'] = sums.round(1)\n",
    "print(random_df)"
   ]
  },
  {
   "cell_type": "code",
   "execution_count": 20,
   "id": "50bb875e",
   "metadata": {},
   "outputs": [
    {
     "name": "stdout",
     "output_type": "stream",
     "text": [
      "     Africa  America  Asia  Europe  Australia  South America   sum\n",
      "0         8       24    67      87         79             48   313\n",
      "1        10       94    52      98         53             66   373\n",
      "2        98       14    34      24         15             60   245\n",
      "3        58       16     9      93         86              2   264\n",
      "sum     174      148   162     302        233            176  1195\n"
     ]
    }
   ],
   "source": [
    "random_df.loc['sum'] = random_df.sum(axis=0)\n",
    "print(random_df)"
   ]
  },
  {
   "cell_type": "code",
   "execution_count": 21,
   "id": "d37a3107",
   "metadata": {},
   "outputs": [
    {
     "name": "stdout",
     "output_type": "stream",
     "text": [
      "   Africa  America  Asia  Europe  Australia  South America  min  max\n",
      "0       8       24    67      87         79             48    8   87\n",
      "1      10       94    52      98         53             66   10   98\n",
      "2      98       14    34      24         15             60   14   98\n",
      "3      58       16     9      93         86              2    2   93\n"
     ]
    }
   ],
   "source": [
    "if 'sum' in random_df.index:\n",
    "    random_df.drop('sum',axis=0,inplace=True)\n",
    "if 'sum' in random_df.columns:\n",
    "    random_df.drop('sum',axis=1,inplace=True)\n",
    "random_df['min'] = random_df.min(axis=1)\n",
    "random_df['max'] = random_df.max(axis=1)\n",
    "print(random_df)"
   ]
  },
  {
   "cell_type": "code",
   "execution_count": 22,
   "id": "f34c97d4",
   "metadata": {},
   "outputs": [
    {
     "name": "stdout",
     "output_type": "stream",
     "text": [
      "     Africa  America  Asia  Europe  Australia  South America  min  max\n",
      "0         8       24    67      87         79             48    8   87\n",
      "1        10       94    52      98         53             66   10   98\n",
      "2        98       14    34      24         15             60   14   98\n",
      "3        58       16     9      93         86              2    2   93\n",
      "min       8       14     9      24         15              2    2   87\n",
      "max      98       94    67      98         86             66   14   98\n"
     ]
    }
   ],
   "source": [
    "random_df.loc['min'] = random_df.min(axis=0)\n",
    "random_df.loc['max'] = random_df.max(axis=0)\n",
    "print(random_df)"
   ]
  },
  {
   "cell_type": "code",
   "execution_count": 23,
   "id": "8addba88",
   "metadata": {},
   "outputs": [],
   "source": [
    "random_df_copy = random_df.copy()"
   ]
  },
  {
   "cell_type": "code",
   "execution_count": 24,
   "id": "61b2ba2f",
   "metadata": {},
   "outputs": [
    {
     "name": "stdout",
     "output_type": "stream",
     "text": [
      "     Africa  America  Asia  Europe  Australia  South America  min  max\n",
      "0        -1       -1    67      87         79             -1   -1   87\n",
      "1        -1       -1    -1      -1         53             -1   -1   -1\n",
      "2        -1       -1    -1      -1         15             -1   -1   -1\n",
      "3        -1       -1     9      93         -1             -1   -1   93\n",
      "min      -1       -1     9      -1         15             -1   -1   87\n",
      "max      -1       -1    67      -1         -1             -1   -1   -1\n"
     ]
    }
   ],
   "source": [
    "random_df_copy[random_df_copy % 2 == 0] = -1\n",
    "print(random_df_copy)"
   ]
  },
  {
   "cell_type": "markdown",
   "id": "bbca93f1",
   "metadata": {},
   "source": [
    "# Exercise 4"
   ]
  },
  {
   "cell_type": "code",
   "execution_count": 25,
   "id": "c79530b3",
   "metadata": {},
   "outputs": [
    {
     "name": "stdout",
     "output_type": "stream",
     "text": [
      "                                                   A  \\\n",
      "0  {'suzuki': 5, 'honda': 10, 'mustang': 20, 'mer...   \n",
      "\n",
      "                                                   B  \\\n",
      "0  {'ford': 10, 'mitsubishi': 40, 'honda': 4, 'su...   \n",
      "\n",
      "                                                   C  \n",
      "0  {'subaro': 31, 'honda': 15, 'kia': 14, 'porshe...  \n"
     ]
    }
   ],
   "source": [
    "a = {\"suzuki\": 5,\n",
    "      \"honda\": 10,\n",
    "      \"mustang\": 20,\n",
    "      \"mercedes\": 3,\n",
    "      \"nisan\": 6\n",
    "     }\n",
    "b = {\"ford\": 10,\n",
    "      \"mitsubishi\": 40,\n",
    "      \"honda\": 4,\n",
    "      \"subaro\": 12,\n",
    "      \"mercedes\": 20\n",
    "    }\n",
    "c = {\"subaro\": 31,\n",
    "      \"honda\": 15,\n",
    "      \"kia\": 14,\n",
    "      \"porshe\": 1,\n",
    "      \"nisan\": 3\n",
    "     }\n",
    "dealerships = pd.DataFrame([{\"A\": a, \"B\": b, \"C\":c}])\n",
    "print(dealerships)"
   ]
  },
  {
   "cell_type": "code",
   "execution_count": 26,
   "id": "476292d3",
   "metadata": {},
   "outputs": [],
   "source": [
    "def order_car(dealarships, order):\n",
    "    order_summary = {}\n",
    "    for car in order:\n",
    "        available_in_stock = []\n",
    "        car_ordered = False\n",
    "        for dealership, cars in dealerships.items():\n",
    "            inventory = cars.iloc[0]\n",
    "            if car in inventory and inventory[car] > 0:\n",
    "                if car_ordered == False:\n",
    "                    cars.iloc[0][car] -= 1\n",
    "                    car_ordered = True\n",
    "                available_in_stock.append(dealership)\n",
    "            if car_ordered:\n",
    "                order_summary[car] = available_in_stock\n",
    "            else:\n",
    "                order_summary[car] = \"None\"\n",
    "    return order_summary    "
   ]
  },
  {
   "cell_type": "code",
   "execution_count": 27,
   "id": "c0554369",
   "metadata": {},
   "outputs": [
    {
     "name": "stdout",
     "output_type": "stream",
     "text": [
      "{'suzuki': ['A'], 'honda': ['A', 'B', 'C'], 'subaro': ['B', 'C'], 'mercedes': ['A', 'B'], 'lambourgini': 'None'}\n"
     ]
    }
   ],
   "source": [
    "order_sum = order_car(dealerships,[\"suzuki\",\"honda\",\"subaro\",\"mercedes\",\"lambourgini\"])\n",
    "print(order_sum)"
   ]
  }
 ],
 "metadata": {
  "kernelspec": {
   "display_name": "Python 3 (ipykernel)",
   "language": "python",
   "name": "python3"
  },
  "language_info": {
   "codemirror_mode": {
    "name": "ipython",
    "version": 3
   },
   "file_extension": ".py",
   "mimetype": "text/x-python",
   "name": "python",
   "nbconvert_exporter": "python",
   "pygments_lexer": "ipython3",
   "version": "3.12.4"
  }
 },
 "nbformat": 4,
 "nbformat_minor": 5
}
