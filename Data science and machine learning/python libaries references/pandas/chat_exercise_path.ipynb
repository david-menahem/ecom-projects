{
 "cells": [
  {
   "cell_type": "code",
   "execution_count": 9,
   "id": "eb211342",
   "metadata": {},
   "outputs": [],
   "source": [
    "import pandas as pd\n",
    "import os"
   ]
  },
  {
   "cell_type": "code",
   "execution_count": 10,
   "id": "0e64761b",
   "metadata": {},
   "outputs": [
    {
     "name": "stdout",
     "output_type": "stream",
     "text": [
      "   TransactionID Product  Quantity  Price        Date\n",
      "0              1       A        10   20.5  2024-01-01\n",
      "1              2       B         5   15.0  2024-01-02\n",
      "2              3       A         8   20.5  2024-01-03\n",
      "3              4       C        12   10.0  2024-01-04\n",
      "4              5       B         6   18.0  2024-01-05\n"
     ]
    }
   ],
   "source": [
    "data = {\n",
    "    'TransactionID': [1, 2, 3, 4, 5],\n",
    "    'Product': ['A', 'B', 'A', 'C', 'B'],\n",
    "    'Quantity': [10, 5, 8, 12, 6],\n",
    "    'Price': [20.5, 15.0, 20.5, 10.0, 18.0],\n",
    "    'Date': ['2024-01-01', '2024-01-02', '2024-01-03', '2024-01-04', '2024-01-05']\n",
    "}\n",
    "\n",
    "df = pd.DataFrame(data)\n",
    "print(df)"
   ]
  },
  {
   "cell_type": "code",
   "execution_count": 11,
   "id": "52c88b66",
   "metadata": {},
   "outputs": [
    {
     "name": "stdout",
     "output_type": "stream",
     "text": [
      "   TransactionID Product  Quantity  Price        Date  Total sales\n",
      "0              1       A        10   20.5  2024-01-01        205.0\n",
      "1              2       B         5   15.0  2024-01-02         75.0\n",
      "2              3       A         8   20.5  2024-01-03        164.0\n",
      "3              4       C        12   10.0  2024-01-04        120.0\n",
      "4              5       B         6   18.0  2024-01-05        108.0\n"
     ]
    }
   ],
   "source": [
    "df[\"Total sales\"] = df[\"Quantity\"]*df[\"Price\"]\n",
    "print(df)"
   ]
  },
  {
   "cell_type": "code",
   "execution_count": 12,
   "id": "8dbc7c4f",
   "metadata": {},
   "outputs": [
    {
     "name": "stdout",
     "output_type": "stream",
     "text": [
      "   TransactionID Product  Quantity  Price        Date  Total sales\n",
      "0              1       A        10   20.5  2024-01-01        205.0\n",
      "2              3       A         8   20.5  2024-01-03        164.0\n",
      "3              4       C        12   10.0  2024-01-04        120.0\n",
      "4              5       B         6   18.0  2024-01-05        108.0\n"
     ]
    }
   ],
   "source": [
    "filtered_df = df[df[\"Quantity\"] > 5]\n",
    "print(filtered_df)"
   ]
  },
  {
   "cell_type": "code",
   "execution_count": 13,
   "id": "7cd3f896",
   "metadata": {},
   "outputs": [
    {
     "name": "stdout",
     "output_type": "stream",
     "text": [
      "  Product  Quantity  Total sales\n",
      "0       A        18        369.0\n",
      "1       B         6        108.0\n",
      "2       C        12        120.0\n"
     ]
    }
   ],
   "source": [
    "grouped_df = filtered_df.groupby(\"Product\").agg({\n",
    "    'Quantity': 'sum',\n",
    "    'Total sales': 'sum'\n",
    "}).reset_index()\n",
    "print(grouped_df)"
   ]
  },
  {
   "cell_type": "code",
   "execution_count": 14,
   "id": "363a18c4",
   "metadata": {},
   "outputs": [
    {
     "name": "stdout",
     "output_type": "stream",
     "text": [
      "TransactionID             1\n",
      "Product                   A\n",
      "Quantity                 10\n",
      "Price                  20.5\n",
      "Date             2024-01-01\n",
      "Total sales           205.0\n",
      "Name: 0, dtype: object\n"
     ]
    }
   ],
   "source": [
    "max_price = df.loc[df[\"Price\"].idxmax()]\n",
    "print(max_price)"
   ]
  },
  {
   "cell_type": "code",
   "execution_count": 15,
   "id": "e0350d6c",
   "metadata": {},
   "outputs": [],
   "source": [
    "current_directory = os.getcwd()\n",
    "df.to_csv(os.path.join(current_directory,\"csv/exercise.csv\"),index=False)"
   ]
  },
  {
   "cell_type": "code",
   "execution_count": 16,
   "id": "2fcabb9e",
   "metadata": {},
   "outputs": [
    {
     "name": "stdout",
     "output_type": "stream",
     "text": [
      "   TransactionID Product  Quantity  Price        Date  Total sales\n",
      "0              1       A        10   20.5  2024-01-01        205.0\n",
      "1              2       B         5   15.0  2024-01-02         75.0\n",
      "2              3       A         8   20.5  2024-01-03        164.0\n",
      "3              4       C        12   10.0  2024-01-04        120.0\n",
      "4              5       B         6   18.0  2024-01-05        108.0\n"
     ]
    }
   ],
   "source": [
    "data = pd.read_csv(os.path.join(current_directory,\"csv/exercise.csv\"))\n",
    "print(data)"
   ]
  },
  {
   "cell_type": "code",
   "execution_count": 17,
   "id": "cbf429fa",
   "metadata": {},
   "outputs": [
    {
     "name": "stdout",
     "output_type": "stream",
     "text": [
      "Initial DataFrame:\n",
      "      Name  Age           City  Salary\n",
      "0    Alice   25       New York   60000\n",
      "1      Bob   30  San Francisco   80000\n",
      "2  Charlie   22    Los Angeles   55000\n",
      "3    David   35        Chicago   90000\n",
      "4      Eva   28         Boston   70000\n",
      "5  someone   30         Boston  100000\n"
     ]
    }
   ],
   "source": [
    "import pandas as pd\n",
    "\n",
    "# Sample DataFrame\n",
    "data = {\n",
    "    'Name': ['Alice', 'Bob', 'Charlie', 'David', 'Eva','someone'],\n",
    "    'Age': [25, 30, 22, 35, 28,30],\n",
    "    'City': ['New York', 'San Francisco', 'Los Angeles', 'Chicago', 'Boston','Boston'],\n",
    "    'Salary': [60000, 80000, 55000, 90000, 70000,100000]\n",
    "}\n",
    "\n",
    "df = pd.DataFrame(data)\n",
    "\n",
    "# Display the initial DataFrame\n",
    "print(\"Initial DataFrame:\")\n",
    "print(df)\n"
   ]
  },
  {
   "cell_type": "code",
   "execution_count": 18,
   "id": "3c3c8e7c",
   "metadata": {},
   "outputs": [
    {
     "name": "stdout",
     "output_type": "stream",
     "text": [
      "      Name  Age           City  Salary\n",
      "1      Bob   30  San Francisco   80000\n",
      "3    David   35        Chicago   90000\n",
      "4      Eva   28         Boston   70000\n",
      "5  someone   30         Boston  100000\n"
     ]
    }
   ],
   "source": [
    "df_filtered = df[df['Age'] > 25]\n",
    "print(df_filtered)"
   ]
  },
  {
   "cell_type": "code",
   "execution_count": 19,
   "id": "7313065a",
   "metadata": {},
   "outputs": [
    {
     "name": "stdout",
     "output_type": "stream",
     "text": [
      "      Name  Age           City  Salary\n",
      "5  someone   30         Boston  100000\n",
      "3    David   35        Chicago   90000\n",
      "1      Bob   30  San Francisco   80000\n",
      "4      Eva   28         Boston   70000\n",
      "0    Alice   25       New York   60000\n",
      "2  Charlie   22    Los Angeles   55000\n"
     ]
    }
   ],
   "source": [
    "df_sorted = df.sort_values(by='Salary',ascending=False)\n",
    "print(df_sorted)"
   ]
  },
  {
   "cell_type": "code",
   "execution_count": 20,
   "id": "2ef148f3",
   "metadata": {},
   "outputs": [
    {
     "name": "stdout",
     "output_type": "stream",
     "text": [
      "                Age   Salary\n",
      "City                        \n",
      "Boston         29.0  85000.0\n",
      "Chicago        35.0  90000.0\n",
      "Los Angeles    22.0  55000.0\n",
      "New York       25.0  60000.0\n",
      "San Francisco  30.0  80000.0\n"
     ]
    }
   ],
   "source": [
    "new_data = {\n",
    "    'Name':\"Yael\",\n",
    "    'Age':37,\n",
    "    'City':\"Chicago\",\n",
    "    'Salary':10000\n",
    "}\n",
    "\n",
    "# print(type(df))\n",
    "# print(df)\n",
    "# df = df.append(new_data,ignore_index= True)\n",
    "\n",
    "df_grouped = df.groupby(\"City\")['Salary'].mean()\n",
    "df_grouped = df.groupby(\"City\").mean(\"City\")\n",
    "print(df_grouped)"
   ]
  },
  {
   "cell_type": "code",
   "execution_count": 21,
   "id": "f0400bb8",
   "metadata": {},
   "outputs": [
    {
     "name": "stdout",
     "output_type": "stream",
     "text": [
      "\n",
      "DataFrame with the new row:\n",
      "      Name  Age           City  Salary\n",
      "0    Alice   25       New York   60000\n",
      "1      Bob   30  San Francisco   80000\n",
      "2  Charlie   22    Los Angeles   55000\n",
      "3    David   35        Chicago   90000\n",
      "4      Eva   28         Boston   70000\n",
      "5  someone   30         Boston  100000\n",
      "<class 'pandas.core.frame.DataFrame'>\n"
     ]
    }
   ],
   "source": [
    "if hasattr(df, 'loc'):\n",
    "    # Appending the new row to the original DataFrame\n",
    "\n",
    "    print(\"\\nDataFrame with the new row:\")\n",
    "    print(df)\n",
    "else:\n",
    "    print(\"\\n'append' method not found in 'df'. Please check the type of 'df'.\")\n",
    "\n",
    "print(type(df))\n"
   ]
  }
 ],
 "metadata": {
  "kernelspec": {
   "display_name": "Python 3 (ipykernel)",
   "language": "python",
   "name": "python3"
  },
  "language_info": {
   "codemirror_mode": {
    "name": "ipython",
    "version": 3
   },
   "file_extension": ".py",
   "mimetype": "text/x-python",
   "name": "python",
   "nbconvert_exporter": "python",
   "pygments_lexer": "ipython3",
   "version": "3.12.4"
  }
 },
 "nbformat": 4,
 "nbformat_minor": 5
}
