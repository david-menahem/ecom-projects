{
 "cells": [
  {
   "cell_type": "code",
   "execution_count": 11,
   "id": "a08346e2",
   "metadata": {},
   "outputs": [],
   "source": [
    "import numpy as np\n",
    "import pandas as pd"
   ]
  },
  {
   "cell_type": "code",
   "execution_count": 12,
   "id": "94e1c24d",
   "metadata": {},
   "outputs": [
    {
     "name": "stdout",
     "output_type": "stream",
     "text": [
      "   Product_ID Product_Name  Product_Price\n",
      "0           1    iPhone 12            999\n",
      "1           2  Samsung S21            899\n",
      "2           3      Pixel 5            699\n",
      "   Sale_ID  Sale_Date  Customer_ID  Product_ID\n",
      "0        1 2021-01-01            1           1\n",
      "1        2 2021-02-01            2           1\n",
      "2        3 2021-02-15            3           2\n",
      "3        4 2020-03-01            2           2\n",
      "4        5 2020-04-01            3           3\n",
      "5        6 2020-02-15            4           3\n",
      "6        7 2020-01-01            4           1\n",
      "   Customer_ID Customer_Name  Customer_Age  Customer_Email\n",
      "0            1      John Doe            25    john@doe.com\n",
      "1            2      Jane Doe            30    jane@doe.com\n",
      "2            3     Jim Brown            35   jim@brown.com\n",
      "3            4    Jake Smith            20  jake@smith.com\n"
     ]
    }
   ],
   "source": [
    "products_df = pd.DataFrame({ 'Product_ID': [1, 2, 3], 'Product_Name': ['iPhone 12', 'Samsung S21', 'Pixel 5'], 'Product_Price': [999, 899, 699], })\n",
    "\n",
    "sales_df = pd.DataFrame({ 'Sale_ID': [1, 2, 3, 4, 5, 6, 7], 'Sale_Date': pd.to_datetime(['2021-01-01', '2021-02-01', '2021-02-15', '2020-03-01', '2020-04-01', '2020-02-15', '2020-01-01']), 'Customer_ID': [1, 2, 3, 2, 3, 4, 4], 'Product_ID': [1, 1, 2, 2, 3, 3, 1], })\n",
    "\n",
    "customers_df = pd.DataFrame({ 'Customer_ID': [1, 2, 3, 4], 'Customer_Name': ['John Doe', 'Jane Doe', 'Jim Brown', 'Jake Smith'], 'Customer_Age': [25, 30, 35, 20], 'Customer_Email': ['john@doe.com', 'jane@doe.com', 'jim@brown.com', 'jake@smith.com'], })\n",
    "print(products_df)\n",
    "print(sales_df)\n",
    "print(customers_df)"
   ]
  },
  {
   "cell_type": "markdown",
   "id": "36c2a8b6",
   "metadata": {},
   "source": [
    "# Exercise 2\n"
   ]
  },
  {
   "cell_type": "code",
   "execution_count": 13,
   "id": "1f792efb",
   "metadata": {},
   "outputs": [
    {
     "name": "stdout",
     "output_type": "stream",
     "text": [
      "   Sale_ID Product_Name  Product_Price\n",
      "0        1    iPhone 12            999\n",
      "1        2    iPhone 12            999\n",
      "2        3  Samsung S21            899\n",
      "3        4  Samsung S21            899\n",
      "4        5      Pixel 5            699\n",
      "5        6      Pixel 5            699\n",
      "6        7    iPhone 12            999\n"
     ]
    }
   ],
   "source": [
    "sales_products_df = pd.merge(sales_df,products_df, on='Product_ID',how='inner')\n",
    "print(sales_products_df[['Sale_ID','Product_Name','Product_Price']])"
   ]
  },
  {
   "cell_type": "markdown",
   "id": "833104ae",
   "metadata": {},
   "source": [
    "# Exercise 3"
   ]
  },
  {
   "cell_type": "code",
   "execution_count": 14,
   "id": "ea9079d0",
   "metadata": {},
   "outputs": [
    {
     "data": {
      "text/html": [
       "<div>\n",
       "<style scoped>\n",
       "    .dataframe tbody tr th:only-of-type {\n",
       "        vertical-align: middle;\n",
       "    }\n",
       "\n",
       "    .dataframe tbody tr th {\n",
       "        vertical-align: top;\n",
       "    }\n",
       "\n",
       "    .dataframe thead th {\n",
       "        text-align: right;\n",
       "    }\n",
       "</style>\n",
       "<table border=\"1\" class=\"dataframe\">\n",
       "  <thead>\n",
       "    <tr style=\"text-align: right;\">\n",
       "      <th></th>\n",
       "      <th>index</th>\n",
       "      <th>Product_ID</th>\n",
       "      <th>Product_Name</th>\n",
       "      <th>Product_Price</th>\n",
       "    </tr>\n",
       "  </thead>\n",
       "  <tbody>\n",
       "    <tr>\n",
       "      <th>0</th>\n",
       "      <td>0</td>\n",
       "      <td>1</td>\n",
       "      <td>iPhone 12</td>\n",
       "      <td>999</td>\n",
       "    </tr>\n",
       "    <tr>\n",
       "      <th>1</th>\n",
       "      <td>1</td>\n",
       "      <td>2</td>\n",
       "      <td>Samsung S21</td>\n",
       "      <td>899</td>\n",
       "    </tr>\n",
       "    <tr>\n",
       "      <th>2</th>\n",
       "      <td>2</td>\n",
       "      <td>3</td>\n",
       "      <td>Pixel 5</td>\n",
       "      <td>699</td>\n",
       "    </tr>\n",
       "    <tr>\n",
       "      <th>3</th>\n",
       "      <td>0</td>\n",
       "      <td>4</td>\n",
       "      <td>iPhone 13</td>\n",
       "      <td>999</td>\n",
       "    </tr>\n",
       "    <tr>\n",
       "      <th>4</th>\n",
       "      <td>1</td>\n",
       "      <td>5</td>\n",
       "      <td>Apple Watch Series 6</td>\n",
       "      <td>399</td>\n",
       "    </tr>\n",
       "    <tr>\n",
       "      <th>5</th>\n",
       "      <td>0</td>\n",
       "      <td>6</td>\n",
       "      <td>Samsung S22</td>\n",
       "      <td>999</td>\n",
       "    </tr>\n",
       "    <tr>\n",
       "      <th>6</th>\n",
       "      <td>1</td>\n",
       "      <td>7</td>\n",
       "      <td>Galaxy Watch 4</td>\n",
       "      <td>250</td>\n",
       "    </tr>\n",
       "  </tbody>\n",
       "</table>\n",
       "</div>"
      ],
      "text/plain": [
       "   index  Product_ID          Product_Name  Product_Price\n",
       "0      0           1             iPhone 12            999\n",
       "1      1           2           Samsung S21            899\n",
       "2      2           3               Pixel 5            699\n",
       "3      0           4             iPhone 13            999\n",
       "4      1           5  Apple Watch Series 6            399\n",
       "5      0           6           Samsung S22            999\n",
       "6      1           7        Galaxy Watch 4            250"
      ]
     },
     "execution_count": 14,
     "metadata": {},
     "output_type": "execute_result"
    }
   ],
   "source": [
    "apple_products_df = pd.DataFrame({\n",
    "'Product_ID': [4, 5],\n",
    "'Product_Name': ['iPhone 13', 'Apple Watch Series 6'],\n",
    "'Product_Price': [999, 399],\n",
    "})\n",
    "samsung_products_df = pd.DataFrame({\n",
    "'Product_ID': [6, 7],\n",
    "'Product_Name': ['Samsung S22', 'Galaxy Watch 4'],\n",
    "'Product_Price': [999, 250],\n",
    "})\n",
    "products_df_copy = products_df.copy()\n",
    "combined_products_df = pd.concat([products_df_copy,apple_products_df,samsung_products_df]).reset_index()\n",
    "combined_products_df"
   ]
  },
  {
   "cell_type": "markdown",
   "id": "54fb9c3e",
   "metadata": {},
   "source": [
    "# Exercise 4"
   ]
  },
  {
   "cell_type": "code",
   "execution_count": 15,
   "id": "9cf21a50",
   "metadata": {},
   "outputs": [
    {
     "data": {
      "text/html": [
       "<div>\n",
       "<style scoped>\n",
       "    .dataframe tbody tr th:only-of-type {\n",
       "        vertical-align: middle;\n",
       "    }\n",
       "\n",
       "    .dataframe tbody tr th {\n",
       "        vertical-align: top;\n",
       "    }\n",
       "\n",
       "    .dataframe thead th {\n",
       "        text-align: right;\n",
       "    }\n",
       "</style>\n",
       "<table border=\"1\" class=\"dataframe\">\n",
       "  <thead>\n",
       "    <tr style=\"text-align: right;\">\n",
       "      <th></th>\n",
       "      <th>Total Sales</th>\n",
       "    </tr>\n",
       "    <tr>\n",
       "      <th>Product_Name</th>\n",
       "      <th></th>\n",
       "    </tr>\n",
       "  </thead>\n",
       "  <tbody>\n",
       "    <tr>\n",
       "      <th>Pixel 5</th>\n",
       "      <td>1398</td>\n",
       "    </tr>\n",
       "    <tr>\n",
       "      <th>Samsung S21</th>\n",
       "      <td>1798</td>\n",
       "    </tr>\n",
       "    <tr>\n",
       "      <th>iPhone 12</th>\n",
       "      <td>2997</td>\n",
       "    </tr>\n",
       "  </tbody>\n",
       "</table>\n",
       "</div>"
      ],
      "text/plain": [
       "              Total Sales\n",
       "Product_Name             \n",
       "Pixel 5              1398\n",
       "Samsung S21          1798\n",
       "iPhone 12            2997"
      ]
     },
     "execution_count": 15,
     "metadata": {},
     "output_type": "execute_result"
    }
   ],
   "source": [
    "total_price_by_product = sales_products_df.groupby('Product_Name').agg({'Product_Price':'sum'})\n",
    "total_price_by_product.rename(columns={'Product_Price':'Total Sales'})"
   ]
  },
  {
   "cell_type": "markdown",
   "id": "80f0bb9e",
   "metadata": {},
   "source": [
    "# Exercise 5"
   ]
  },
  {
   "cell_type": "code",
   "execution_count": 16,
   "id": "a2660edd",
   "metadata": {},
   "outputs": [
    {
     "name": "stdout",
     "output_type": "stream",
     "text": [
      "                           Customer_Name  Customer_Age\n",
      "Customer_ID Customer_Email                            \n",
      "1           john@doe.com        John Doe            25\n",
      "2           jane@doe.com        Jane Doe            30\n"
     ]
    }
   ],
   "source": [
    "reindexed_customers_df = customers_df.set_index(['Customer_ID','Customer_Email'])\n",
    "customers_with_id_under_3 = customers_df[customers_df['Customer_ID'] < 3]\n",
    "keys = customers_with_id_under_3['Customer_ID']\n",
    "keys = keys.values\n",
    "print(reindexed_customers_df.loc[keys])"
   ]
  },
  {
   "cell_type": "markdown",
   "id": "80a557e5",
   "metadata": {},
   "source": [
    "# Exercise 6"
   ]
  },
  {
   "cell_type": "markdown",
   "id": "21979afa",
   "metadata": {},
   "source": [
    "# A"
   ]
  },
  {
   "cell_type": "code",
   "execution_count": 17,
   "id": "74df5c7f",
   "metadata": {},
   "outputs": [
    {
     "name": "stdout",
     "output_type": "stream",
     "text": [
      "0      John Doe\n",
      "1      Jane Doe\n",
      "6    Jake Smith\n",
      "Name: Customer_Name, dtype: object\n"
     ]
    }
   ],
   "source": [
    "merged_df = pd.merge(customers_df,sales_df,on='Customer_ID',how='inner').merge(products_df,on='Product_ID',how='inner')\n",
    "max_price = merged_df['Product_Price'].max()\n",
    "high_paying_customers = merged_df[merged_df['Product_Price'] == max_price]\n",
    "print(high_paying_customers['Customer_Name'])"
   ]
  },
  {
   "cell_type": "markdown",
   "id": "d133a3cf",
   "metadata": {},
   "source": [
    "# B"
   ]
  },
  {
   "cell_type": "code",
   "execution_count": 18,
   "id": "d19d804a",
   "metadata": {},
   "outputs": [
    {
     "name": "stdout",
     "output_type": "stream",
     "text": [
      "            Number_of_Sales\n",
      "Sale_Date                  \n",
      "2020-01-01                1\n",
      "2020-02-15                1\n",
      "2020-03-01                1\n",
      "2020-04-01                1\n",
      "2021-01-01                1\n",
      "2021-02-01                1\n",
      "2021-02-15                1\n"
     ]
    }
   ],
   "source": [
    "sales_df_copy = sales_df.copy()\n",
    "grouped_sales = sales_df_copy.groupby('Sale_Date').size()\n",
    "grouped_sales_df = pd.DataFrame(grouped_sales)\n",
    "grouped_sales_df.rename(columns={0:'Number_of_Sales'},inplace=True)\n",
    "print(grouped_sales_df)\n"
   ]
  },
  {
   "cell_type": "markdown",
   "id": "469b404e",
   "metadata": {},
   "source": [
    "# C"
   ]
  },
  {
   "cell_type": "code",
   "execution_count": 19,
   "id": "c1cdb0ba",
   "metadata": {},
   "outputs": [
    {
     "name": "stdout",
     "output_type": "stream",
     "text": [
      "               Product_Price\n",
      "Customer_Name               \n",
      "Jake Smith             849.0\n",
      "Jane Doe               949.0\n",
      "Jim Brown              799.0\n",
      "John Doe               999.0\n"
     ]
    }
   ],
   "source": [
    "avg_price = merged_df.groupby('Customer_Name').agg({'Product_Price':'mean'})\n",
    "print(avg_price)"
   ]
  }
 ],
 "metadata": {
  "kernelspec": {
   "display_name": "Python 3 (ipykernel)",
   "language": "python",
   "name": "python3"
  },
  "language_info": {
   "codemirror_mode": {
    "name": "ipython",
    "version": 3
   },
   "file_extension": ".py",
   "mimetype": "text/x-python",
   "name": "python",
   "nbconvert_exporter": "python",
   "pygments_lexer": "ipython3",
   "version": "3.12.4"
  }
 },
 "nbformat": 4,
 "nbformat_minor": 5
}
