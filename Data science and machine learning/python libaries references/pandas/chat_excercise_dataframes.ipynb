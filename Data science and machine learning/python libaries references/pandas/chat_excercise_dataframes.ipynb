{
 "cells": [
  {
   "cell_type": "code",
   "execution_count": 1,
   "id": "6850d70e",
   "metadata": {},
   "outputs": [],
   "source": [
    "import numpy as np\n",
    "import pandas as pd"
   ]
  },
  {
   "cell_type": "code",
   "execution_count": 2,
   "id": "077e83d3",
   "metadata": {},
   "outputs": [],
   "source": [
    "data = {\n",
    "    'Title': ['Movie1', 'Movie2', 'Movie3', 'Movie4', 'Movie5'],\n",
    "    'Genre': ['Action', 'Comedy', 'Drama', 'Action', 'Thriller'],\n",
    "    'Release Year': [1998, 2005, 2012, 2008, 2015],\n",
    "    'Rating': [8.5, 7.2, 6.8, 9.0, 5.5],\n",
    "    'Revenue (Millions)': [150, 80, 120, '', \"NaN\"],\n",
    "    'Director': ['Director1', 'Director2', 'Director3', 'Director1', 'Director4']\n",
    "}\n",
    "\n",
    "movies_df = pd.DataFrame(data)\n",
    "\n",
    "# Save the DataFrame to a CSV file for your exercise\n",
    "movies_df.to_csv('csv/movies.csv', index=False)"
   ]
  },
  {
   "cell_type": "code",
   "execution_count": 3,
   "id": "3648cd57",
   "metadata": {},
   "outputs": [
    {
     "name": "stdout",
     "output_type": "stream",
     "text": [
      "    Title     Genre  Release Year  Rating  Revenue (Millions)   Director\n",
      "0  Movie1    Action          1998     8.5               150.0  Director1\n",
      "1  Movie2    Comedy          2005     7.2                80.0  Director2\n",
      "2  Movie3     Drama          2012     6.8               120.0  Director3\n",
      "3  Movie4    Action          2008     9.0                 NaN  Director1\n",
      "4  Movie5  Thriller          2015     5.5                 NaN  Director4\n"
     ]
    }
   ],
   "source": [
    "df = pd.read_csv('csv/movies.csv')\n",
    "print(df)"
   ]
  },
  {
   "cell_type": "code",
   "execution_count": 4,
   "id": "8b5457a9",
   "metadata": {},
   "outputs": [
    {
     "name": "stdout",
     "output_type": "stream",
     "text": [
      "   Title  Genre  Release Year  Rating  Revenue (Millions)  Director\n",
      "0  False  False         False   False               False     False\n",
      "1  False  False         False   False               False     False\n",
      "2  False  False         False   False               False     False\n",
      "3  False  False         False   False                True     False\n",
      "4  False  False         False   False                True     False\n",
      "    Title     Genre  Release Year  Rating  Revenue (Millions)   Director\n",
      "0  Movie1    Action          1998     8.5               150.0  Director1\n",
      "1  Movie2    Comedy          2005     7.2                80.0  Director2\n",
      "2  Movie3     Drama          2012     6.8               120.0  Director3\n",
      "3  Movie4    Action          2008     9.0                 1.0  Director1\n",
      "4  Movie5  Thriller          2015     5.5                 1.0  Director4\n",
      "    Title   Genre  Release Year  Rating  Revenue (Millions)   Director\n",
      "0  Movie1  Action          1998     8.5               150.0  Director1\n",
      "1  Movie2  Comedy          2005     7.2                80.0  Director2\n",
      "2  Movie3   Drama          2012     6.8               120.0  Director3\n"
     ]
    }
   ],
   "source": [
    "\n",
    "print(df.isnull())\n",
    "print(df.fillna(1))\n",
    "print(df.dropna())"
   ]
  },
  {
   "cell_type": "code",
   "execution_count": 5,
   "id": "9687c9bf",
   "metadata": {},
   "outputs": [
    {
     "name": "stdout",
     "output_type": "stream",
     "text": [
      "    Title   Genre  Release Year  Rating  Revenue (Millions)   Director\n",
      "0  Movie1  Action          1998     8.5               150.0  Director1\n",
      "1  Movie2  Comedy          2005     7.2                80.0  Director2\n"
     ]
    }
   ],
   "source": [
    "print(df.head(2))"
   ]
  },
  {
   "cell_type": "code",
   "execution_count": 6,
   "id": "7a719022",
   "metadata": {},
   "outputs": [
    {
     "name": "stdout",
     "output_type": "stream",
     "text": [
      "350.0\n"
     ]
    }
   ],
   "source": [
    "print(df[\"Revenue (Millions)\"].sum())"
   ]
  },
  {
   "cell_type": "code",
   "execution_count": 7,
   "id": "707cd161",
   "metadata": {},
   "outputs": [
    {
     "name": "stdout",
     "output_type": "stream",
     "text": [
      "    Title     Genre  Release Year  Rating  Revenue (Millions)   Director\n",
      "1  Movie2    Comedy          2005     7.2                80.0  Director2\n",
      "2  Movie3     Drama          2012     6.8               120.0  Director3\n",
      "3  Movie4    Action          2008     9.0                 NaN  Director1\n",
      "4  Movie5  Thriller          2015     5.5                 NaN  Director4\n"
     ]
    }
   ],
   "source": [
    "df_greater_2000 = df[df['Release Year'] > 2000].copy()\n",
    "print(df_greater_2000)"
   ]
  },
  {
   "cell_type": "code",
   "execution_count": 8,
   "id": "d4c1e693",
   "metadata": {},
   "outputs": [
    {
     "name": "stdout",
     "output_type": "stream",
     "text": [
      "Genre\n",
      "Action      8.75\n",
      "Comedy      7.20\n",
      "Drama       6.80\n",
      "Thriller    5.50\n",
      "Name: Rating, dtype: float64\n"
     ]
    }
   ],
   "source": [
    "avg_rating = df.groupby(\"Genre\")['Rating'].mean()\n",
    "print(avg_rating)"
   ]
  },
  {
   "cell_type": "code",
   "execution_count": 9,
   "id": "f0fc4fea",
   "metadata": {},
   "outputs": [
    {
     "name": "stdout",
     "output_type": "stream",
     "text": [
      "<class 'pandas.core.series.Series'>\n",
      "Director\n",
      "Director1    150.0\n",
      "Director3    120.0\n",
      "Director2     80.0\n",
      "Name: Revenue (Millions), dtype: float64\n"
     ]
    }
   ],
   "source": [
    "top_3 = df.groupby(\"Director\")['Revenue (Millions)'].mean()\n",
    "print(type(top_3))\n",
    "top_3_desc = top_3.sort_values(ascending = False).head(3)\n",
    "print(top_3_desc.head(3))"
   ]
  }
 ],
 "metadata": {
  "kernelspec": {
   "display_name": "Python 3 (ipykernel)",
   "language": "python",
   "name": "python3"
  },
  "language_info": {
   "codemirror_mode": {
    "name": "ipython",
    "version": 3
   },
   "file_extension": ".py",
   "mimetype": "text/x-python",
   "name": "python",
   "nbconvert_exporter": "python",
   "pygments_lexer": "ipython3",
   "version": "3.12.4"
  }
 },
 "nbformat": 4,
 "nbformat_minor": 5
}
