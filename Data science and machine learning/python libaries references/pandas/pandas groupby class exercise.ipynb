{
 "cells": [
  {
   "cell_type": "code",
   "execution_count": 5,
   "id": "fde50fab",
   "metadata": {},
   "outputs": [],
   "source": [
    "import numpy as np\n",
    "import pandas as pd"
   ]
  },
  {
   "cell_type": "code",
   "execution_count": 6,
   "id": "edbd9b19",
   "metadata": {},
   "outputs": [
    {
     "name": "stdout",
     "output_type": "stream",
     "text": [
      "      mpg  cylinders  displacement horsepower  weight  acceleration  \\\n",
      "0    18.0          8         307.0        130    3504          12.0   \n",
      "1    15.0          8         350.0        165    3693          11.5   \n",
      "2    18.0          8         318.0        150    3436          11.0   \n",
      "3    16.0          8         304.0        150    3433          12.0   \n",
      "4    17.0          8         302.0        140    3449          10.5   \n",
      "..    ...        ...           ...        ...     ...           ...   \n",
      "393  27.0          4         140.0         86    2790          15.6   \n",
      "394  44.0          4          97.0         52    2130          24.6   \n",
      "395  32.0          4         135.0         84    2295          11.6   \n",
      "396  28.0          4         120.0         79    2625          18.6   \n",
      "397  31.0          4         119.0         82    2720          19.4   \n",
      "\n",
      "     model_year  origin                       name  \n",
      "0            70       1  chevrolet chevelle malibu  \n",
      "1            70       1          buick skylark 320  \n",
      "2            70       1         plymouth satellite  \n",
      "3            70       1              amc rebel sst  \n",
      "4            70       1                ford torino  \n",
      "..          ...     ...                        ...  \n",
      "393          82       1            ford mustang gl  \n",
      "394          82       2                  vw pickup  \n",
      "395          82       1              dodge rampage  \n",
      "396          82       1                ford ranger  \n",
      "397          82       1                 chevy s-10  \n",
      "\n",
      "[398 rows x 9 columns]\n"
     ]
    }
   ],
   "source": [
    "mpg_df = pd.read_csv('csv/mpg.csv')\n",
    "print(mpg_df)"
   ]
  },
  {
   "cell_type": "markdown",
   "id": "68fef9ed",
   "metadata": {},
   "source": [
    "# Class exercise\n",
    "- create multi index data frame with the first index as 'mpg' and second index as 'cylinders'\n",
    "- show for each group the max value in the group for each numeric column\n",
    "- show a new df containg only the combination cylinders with 5,6,7,8 and all the mpg groups for each value\n",
    "- create a statistic df containing mean max min std for the columns mpg cylinders weight and displacement"
   ]
  },
  {
   "cell_type": "code",
   "execution_count": 7,
   "id": "138642c7",
   "metadata": {},
   "outputs": [
    {
     "name": "stdout",
     "output_type": "stream",
     "text": [
      "                displacement horsepower  weight  acceleration  model_year  \\\n",
      "mpg  cylinders                                                              \n",
      "9.0  8                 304.0        193    4732          18.5          70   \n",
      "10.0 8                 360.0        215    4615          15.0          70   \n",
      "11.0 8                 429.0        210    4997          14.0          73   \n",
      "12.0 8                 455.0        225    4955          13.5          73   \n",
      "13.0 8                 440.0        215    5140          16.0          76   \n",
      "...                      ...        ...     ...           ...         ...   \n",
      "43.4 4                  90.0         48    2335          23.7          80   \n",
      "44.0 4                  97.0         52    2130          24.6          82   \n",
      "44.3 4                  90.0         48    2085          21.7          80   \n",
      "44.6 4                  91.0         67    1850          13.8          80   \n",
      "46.6 4                  86.0         65    2110          17.9          80   \n",
      "\n",
      "                origin                      name  \n",
      "mpg  cylinders                                    \n",
      "9.0  8               1                  hi 1200d  \n",
      "10.0 8               1                 ford f250  \n",
      "11.0 8               1          oldsmobile omega  \n",
      "12.0 8               1  oldsmobile vista cruiser  \n",
      "13.0 8               1       pontiac safari (sw)  \n",
      "...                ...                       ...  \n",
      "43.4 4               2        vw dasher (diesel)  \n",
      "44.0 4               2                 vw pickup  \n",
      "44.3 4               2      vw rabbit c (diesel)  \n",
      "44.6 4               3       honda civic 1500 gl  \n",
      "46.6 4               3                 mazda glc  \n",
      "\n",
      "[159 rows x 7 columns]\n"
     ]
    }
   ],
   "source": [
    "multi_index_df = mpg_df.groupby(['mpg','cylinders']).max()\n",
    "print(multi_index_df)"
   ]
  },
  {
   "cell_type": "code",
   "execution_count": 8,
   "id": "3d5ba346",
   "metadata": {},
   "outputs": [
    {
     "name": "stdout",
     "output_type": "stream",
     "text": [
      "                displacement horsepower  weight  acceleration  model_year  \\\n",
      "cylinders mpg                                                               \n",
      "5         20.3         131.0        103    2830          15.9          78   \n",
      "          25.4         183.0         77    3530          20.1          79   \n",
      "          36.4         121.0         67    2950          19.9          80   \n",
      "6         15.0         258.0         72    3730          21.0          75   \n",
      "          16.0         258.0        110    3897          18.5          75   \n",
      "...                      ...        ...     ...           ...         ...   \n",
      "8         20.0         262.0        110    3221          13.5          75   \n",
      "          20.2         302.0        139    3570          12.8          78   \n",
      "          23.0         350.0        125    3900          17.4          79   \n",
      "          23.9         260.0         90    3420          22.2          79   \n",
      "          26.6         350.0        105    3725          19.0          81   \n",
      "\n",
      "                origin                               name  \n",
      "cylinders mpg                                              \n",
      "5         20.3       2                          audi 5000  \n",
      "          25.4       2                 mercedes benz 300d  \n",
      "          36.4       2                audi 5000s (diesel)  \n",
      "6         15.0       1                    mercury monarch  \n",
      "          16.0       1          plymouth satellite custom  \n",
      "...                ...                                ...  \n",
      "8         20.0       1                chevrolet monza 2+2  \n",
      "          20.2       1               mercury monarch ghia  \n",
      "          23.0       1                  cadillac eldorado  \n",
      "          23.9       1  oldsmobile cutlass salon brougham  \n",
      "          26.6       1              oldsmobile cutlass ls  \n",
      "\n",
      "[68 rows x 7 columns]\n"
     ]
    }
   ],
   "source": [
    "multi_index_df_swap = multi_index_df.swaplevel()\n",
    "print(multi_index_df_swap.loc[[5,6,8]])"
   ]
  },
  {
   "cell_type": "code",
   "execution_count": 9,
   "id": "5fd3bab1",
   "metadata": {},
   "outputs": [
    {
     "name": "stdout",
     "output_type": "stream",
     "text": [
      "                displacement horsepower  weight  acceleration  model_year  \\\n",
      "mpg  cylinders                                                              \n",
      "9.0  8                 304.0        193    4732          18.5          70   \n",
      "10.0 8                 360.0        215    4615          15.0          70   \n",
      "11.0 8                 429.0        210    4997          14.0          73   \n",
      "12.0 8                 455.0        225    4955          13.5          73   \n",
      "13.0 8                 440.0        215    5140          16.0          76   \n",
      "...                      ...        ...     ...           ...         ...   \n",
      "28.8 6                 173.0        115    2595          11.3          79   \n",
      "30.7 6                 145.0         76    3160          19.6          81   \n",
      "32.7 6                 168.0        132    2910          11.4          80   \n",
      "36.4 5                 121.0         67    2950          19.9          80   \n",
      "38.0 6                 262.0         85    3015          17.0          82   \n",
      "\n",
      "                origin                               name  \n",
      "mpg  cylinders                                             \n",
      "9.0  8               1                           hi 1200d  \n",
      "10.0 8               1                          ford f250  \n",
      "11.0 8               1                   oldsmobile omega  \n",
      "12.0 8               1           oldsmobile vista cruiser  \n",
      "13.0 8               1                pontiac safari (sw)  \n",
      "...                ...                                ...  \n",
      "28.8 6               1                 chevrolet citation  \n",
      "30.7 6               2                       volvo diesel  \n",
      "32.7 6               3                      datsun 280-zx  \n",
      "36.4 5               2                audi 5000s (diesel)  \n",
      "38.0 6               1  oldsmobile cutlass ciera (diesel)  \n",
      "\n",
      "[68 rows x 7 columns]\n"
     ]
    }
   ],
   "source": [
    "mpg_grouped_df = mpg_df[mpg_df['cylinders'].isin([5,6,7,8])].groupby(['mpg','cylinders']).max()\n",
    "print(mpg_grouped_df)"
   ]
  },
  {
   "cell_type": "code",
   "execution_count": 10,
   "id": "d41cc958",
   "metadata": {},
   "outputs": [
    {
     "name": "stdout",
     "output_type": "stream",
     "text": [
      "            mpg  cylinders       weight  displacement\n",
      "max   46.600000   8.000000  5140.000000    455.000000\n",
      "min    9.000000   3.000000  1613.000000     68.000000\n",
      "mean  23.514573   5.454774  2970.424623    193.425879\n",
      "std    7.815984   1.701004   846.841774    104.269838\n"
     ]
    }
   ],
   "source": [
    "stats_methods = ['max','min','mean','std']\n",
    "agg_function = {'mpg': stats_methods, 'cylinders':stats_methods ,'weight':stats_methods ,'displacement': stats_methods}\n",
    "mpg_stats_df = mpg_df.agg(agg_function)\n",
    "print(mpg_stats_df)"
   ]
  }
 ],
 "metadata": {
  "kernelspec": {
   "display_name": "Python 3 (ipykernel)",
   "language": "python",
   "name": "python3"
  },
  "language_info": {
   "codemirror_mode": {
    "name": "ipython",
    "version": 3
   },
   "file_extension": ".py",
   "mimetype": "text/x-python",
   "name": "python",
   "nbconvert_exporter": "python",
   "pygments_lexer": "ipython3",
   "version": "3.12.4"
  }
 },
 "nbformat": 4,
 "nbformat_minor": 5
}
