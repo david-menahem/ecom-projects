{
 "cells": [
  {
   "cell_type": "code",
   "execution_count": 1,
   "id": "6c4996e9",
   "metadata": {},
   "outputs": [],
   "source": [
    "import numpy as np\n",
    "import pandas as pd"
   ]
  },
  {
   "cell_type": "markdown",
   "id": "e9f75a0e",
   "metadata": {},
   "source": [
    "# Reasons for missing data\n",
    "- The program/site was not designed well and did not predict accurately the way the user used the program/site\n",
    "- A bug prevents data from being saved\n",
    "- GDPR - A user asks to delete his personal details and data"
   ]
  },
  {
   "cell_type": "markdown",
   "id": "4b0b6c32",
   "metadata": {},
   "source": [
    "# Problem that missing data causes\n",
    "+ If the data is unreliable the machine learning model will make mistakes with its answers/predictions\n",
    "+ The tools can run in to errors"
   ]
  },
  {
   "cell_type": "markdown",
   "id": "2dc3fec9",
   "metadata": {},
   "source": [
    "# Ways to handle missing data\n",
    "## Leave the data as is\n",
    "### Pros\n",
    "- Easy \n",
    "- The machine will be trained on the most reliable data\n",
    "### Cons \n",
    "- This limits us to use only NaN supporting method \n",
    "- Data issues, For example NaN will be iterperted as 0 and change statistics, You will have to anaylize to depth the way the algorythm works and so you know how it handles missing data\n",
    "\n",
    "## Delete data\n",
    "### Pros \n",
    "- Easy\n",
    "- It is possioble to delete according with rules, I can choose to delete onl rows/columns the a ceratin amount/percentage of Nulls thus keeping the minumum amount of null values amd maximum amount of data, and still having a reasonable amount of error (std?)\n",
    "### Cons\n",
    "- Losing data - If i delete an entire column it becomes significant, I force the machine to work on specific data and will have to adjust it the future\n",
    "\n",
    "## Fill the data\n",
    "### Pros\n",
    "- We save alot of rows/columns\n",
    "- Since everthing is without null I have more tools and methods I can use and not just Non NaN methods\n",
    "### Cons\n",
    "- Very hard to perform and time cosuming, makes us guess and use random values, avg is a good choice\n",
    "* (if all/most the data is missing we don't use this method)\n",
    "- If we provide wrong data the algorythm accuracy is damaged and it becomes pointless, for this we use testing\n"
   ]
  },
  {
   "cell_type": "code",
   "execution_count": 2,
   "id": "33d956f8",
   "metadata": {},
   "outputs": [
    {
     "name": "stdout",
     "output_type": "stream",
     "text": [
      "  first_name last_name   age  sex  pre_movie_score  post_movie_score\n",
      "0        Tom     Hanks  63.0    m              8.0              10.0\n",
      "1        NaN       NaN   NaN  NaN              NaN               NaN\n",
      "2       Hugh   Jackman  51.0    m              NaN               NaN\n",
      "3      Oprah   Winfrey  66.0    f              6.0               8.0\n",
      "4       Emma     Stone  31.0    f              7.0               9.0\n"
     ]
    }
   ],
   "source": [
    "movie_scores_df = pd.read_csv('csv/movie_scores.csv')\n",
    "print(movie_scores_df)"
   ]
  },
  {
   "cell_type": "code",
   "execution_count": 3,
   "id": "c6c386a5",
   "metadata": {},
   "outputs": [
    {
     "name": "stdout",
     "output_type": "stream",
     "text": [
      "0    False\n",
      "1     True\n",
      "2    False\n",
      "3    False\n",
      "4    False\n",
      "Name: first_name, dtype: bool\n",
      "   first_name  last_name    age    sex  pre_movie_score  post_movie_score\n",
      "0       False      False  False  False            False             False\n",
      "1        True       True   True   True             True              True\n",
      "2       False      False  False  False             True              True\n",
      "3       False      False  False  False            False             False\n",
      "4       False      False  False  False            False             False\n",
      "   first_name  last_name    age    sex  pre_movie_score  post_movie_score\n",
      "0        True       True   True   True             True              True\n",
      "1       False      False  False  False            False             False\n",
      "2        True       True   True   True            False             False\n",
      "3        True       True   True   True             True              True\n",
      "4        True       True   True   True             True              True\n",
      "  first_name last_name   age sex  pre_movie_score  post_movie_score\n",
      "0        Tom     Hanks  63.0   m              8.0              10.0\n",
      "3      Oprah   Winfrey  66.0   f              6.0               8.0\n",
      "4       Emma     Stone  31.0   f              7.0               9.0\n"
     ]
    }
   ],
   "source": [
    "print(movie_scores_df['first_name'].isnull())\n",
    "print(movie_scores_df.isnull())\n",
    "print(movie_scores_df.notnull())\n",
    "print(movie_scores_df[movie_scores_df['first_name'].notnull() & movie_scores_df['pre_movie_score'].notnull()])"
   ]
  },
  {
   "cell_type": "code",
   "execution_count": 4,
   "id": "5e16a77a",
   "metadata": {},
   "outputs": [
    {
     "name": "stdout",
     "output_type": "stream",
     "text": [
      "  first_name last_name   age  sex  pre_movie_score  post_movie_score\n",
      "0        Tom     Hanks  63.0    m              8.0              10.0\n",
      "1        NaN       NaN   NaN  NaN              NaN               NaN\n",
      "2       Hugh   Jackman  51.0    m              NaN               NaN\n",
      "3      Oprah   Winfrey  66.0    f              6.0               8.0\n",
      "4       Emma     Stone  31.0    f              7.0               9.0\n",
      "30\n",
      "  first_name last_name   age sex  pre_movie_score  post_movie_score\n",
      "0        Tom     Hanks  63.0   m              8.0              10.0\n",
      "2       Hugh   Jackman  51.0   m              NaN               NaN\n",
      "3      Oprah   Winfrey  66.0   f              6.0               8.0\n",
      "4       Emma     Stone  31.0   f              7.0               9.0\n",
      "  first_name last_name   age sex  pre_movie_score  post_movie_score\n",
      "0        Tom     Hanks  63.0   m              8.0              10.0\n",
      "3      Oprah   Winfrey  66.0   f              6.0               8.0\n",
      "4       Emma     Stone  31.0   f              7.0               9.0\n",
      "  last_name   age  sex  pre_movie_score  post_movie_score\n",
      "0     Hanks  63.0    m              8.0              10.0\n",
      "1       NaN   NaN  NaN              NaN               NaN\n",
      "2   Jackman  51.0    m              NaN               NaN\n",
      "3   Winfrey  66.0    f              6.0               8.0\n",
      "4     Stone  31.0    f              7.0               9.0\n",
      "    age first_name  post_movie_score  pre_movie_score  sex\n",
      "0  63.0        Tom              10.0              8.0    m\n",
      "1   NaN        NaN               NaN              NaN  NaN\n",
      "2  51.0       Hugh               NaN              NaN    m\n",
      "3  66.0      Oprah               8.0              6.0    f\n",
      "4  31.0       Emma               9.0              7.0    f\n"
     ]
    }
   ],
   "source": [
    "movie_scores_df_copy = movie_scores_df.copy()\n",
    "# movie_scores_df_copy.dropna(thresh = 5,inplace=True)\n",
    "# movie_scores_df_copy.dropna(thresh = movie_scores_df.size*20/100, axis = 1,inplace = True)\n",
    "print(movie_scores_df_copy)\n",
    "print(movie_scores_df.size)\n",
    "print(movie_scores_df_copy.dropna(subset = ['first_name','pre_movie_score'] ,thresh = 1))\n",
    "print(movie_scores_df_copy[movie_scores_df['pre_movie_score'].notnull()])\n",
    "print(movie_scores_df_copy.drop('first_name',axis=1))\n",
    "print(movie_scores_df_copy[movie_scores_df_copy.columns.difference(['last_name'])])"
   ]
  },
  {
   "cell_type": "code",
   "execution_count": 5,
   "id": "d8906646",
   "metadata": {},
   "outputs": [
    {
     "name": "stdout",
     "output_type": "stream",
     "text": [
      "  first_name last_name   age  sex  pre_movie_score  post_movie_score\n",
      "0        Tom     Hanks  63.0    m              8.0              10.0\n",
      "1        NaN       NaN   NaN  NaN              NaN               NaN\n",
      "2       Hugh   Jackman  51.0    m              NaN               NaN\n",
      "3      Oprah   Winfrey  66.0    f              6.0               8.0\n",
      "4       Emma     Stone  31.0    f              7.0               9.0\n",
      "  first_name last_name   age  sex  pre_movie_score  post_movie_score\n",
      "0        Tom     Hanks  63.0    m              8.0              10.0\n",
      "1        NaN       NaN   NaN  NaN              7.0               NaN\n",
      "2       Hugh   Jackman  51.0    m              7.0               NaN\n",
      "3      Oprah   Winfrey  66.0    f              6.0               8.0\n",
      "4       Emma     Stone  31.0    f              7.0               9.0\n",
      "  first_name last_name   age  sex  pre_movie_score  post_movie_score\n",
      "0        Tom     Hanks  63.0    m              8.0              10.0\n",
      "1        NaN       NaN   NaN  NaN              7.0               NaN\n",
      "2       Hugh   Jackman  51.0    m              7.0               NaN\n",
      "3      Oprah   Winfrey  66.0    f              6.0               8.0\n",
      "4       Emma     Stone  31.0    f              7.0               9.0\n",
      "  first_name last_name   age  sex  pre_movie_score  post_movie_score\n",
      "0        Tom     Hanks  63.0    m              8.0              10.0\n",
      "1        NaN       NaN   NaN  NaN              7.0               9.0\n",
      "2       Hugh   Jackman  51.0    m              7.0               9.0\n",
      "3      Oprah   Winfrey  66.0    f              6.0               8.0\n",
      "4       Emma     Stone  31.0    f              7.0               9.0\n"
     ]
    }
   ],
   "source": [
    "movie_scores_df_copy = movie_scores_df.copy()\n",
    "movie_scores_df_copy['pre_movie_score'] = movie_scores_df_copy['pre_movie_score'].fillna(movie_scores_df_copy['pre_movie_score'].mean())\n",
    "print(movie_scores_df)\n",
    "print(movie_scores_df_copy)\n",
    "print(movie_scores_df_copy)\n",
    "movie_scores_df_copy['post_movie_score'] = movie_scores_df_copy['post_movie_score'].fillna(movie_scores_df_copy['post_movie_score'].mean())\n",
    "print(movie_scores_df_copy)"
   ]
  }
 ],
 "metadata": {
  "kernelspec": {
   "display_name": "Python 3 (ipykernel)",
   "language": "python",
   "name": "python3"
  },
  "language_info": {
   "codemirror_mode": {
    "name": "ipython",
    "version": 3
   },
   "file_extension": ".py",
   "mimetype": "text/x-python",
   "name": "python",
   "nbconvert_exporter": "python",
   "pygments_lexer": "ipython3",
   "version": "3.12.4"
  }
 },
 "nbformat": 4,
 "nbformat_minor": 5
}
