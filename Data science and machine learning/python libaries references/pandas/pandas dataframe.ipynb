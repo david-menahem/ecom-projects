{
 "cells": [
  {
   "cell_type": "code",
   "execution_count": 7,
   "id": "1ecfdaf1",
   "metadata": {},
   "outputs": [],
   "source": [
    "import numpy as np\n",
    "import pandas as pd"
   ]
  },
  {
   "cell_type": "code",
   "execution_count": 8,
   "id": "62aa30b5",
   "metadata": {},
   "outputs": [],
   "source": [
    "np.random.seed(100)"
   ]
  },
  {
   "cell_type": "code",
   "execution_count": 9,
   "id": "e7da6f52",
   "metadata": {},
   "outputs": [
    {
     "name": "stdout",
     "output_type": "stream",
     "text": [
      "[[ 8 24 67]\n",
      " [87 79 48]\n",
      " [10 94 52]\n",
      " [98 53 66]]\n"
     ]
    }
   ],
   "source": [
    "my_data = np.random.randint(0,100,(4,3))\n",
    "print(my_data)"
   ]
  },
  {
   "cell_type": "code",
   "execution_count": 10,
   "id": "fb90f3a4",
   "metadata": {},
   "outputs": [
    {
     "name": "stdout",
     "output_type": "stream",
     "text": [
      "    0   1   2\n",
      "0   8  24  67\n",
      "1  87  79  48\n",
      "2  10  94  52\n",
      "3  98  53  66\n",
      "<class 'pandas.core.frame.DataFrame'>\n"
     ]
    }
   ],
   "source": [
    "my_dataframe = pd.DataFrame(my_data)\n",
    "print(my_dataframe)\n",
    "print(type(my_dataframe))"
   ]
  },
  {
   "cell_type": "code",
   "execution_count": 11,
   "id": "cdddfa92",
   "metadata": {},
   "outputs": [
    {
     "name": "stdout",
     "output_type": "stream",
     "text": [
      "    David  Yael  Avi\n",
      "NY      8    24   67\n",
      "CA     87    79   48\n",
      "AZ     10    94   52\n",
      "TX     98    53   66\n"
     ]
    }
   ],
   "source": [
    "my_row_index = ['NY','CA','AZ','TX']\n",
    "my_col_index = ['David','Yael','Avi']\n",
    "my_index_df = pd.DataFrame(data = my_data, index = my_row_index, columns = my_col_index)\n",
    "print(my_index_df)"
   ]
  },
  {
   "cell_type": "code",
   "execution_count": 12,
   "id": "1a59314e",
   "metadata": {},
   "outputs": [
    {
     "name": "stdout",
     "output_type": "stream",
     "text": [
      "    a   b   c   d\n",
      "0   0   1   2   3\n",
      "1   4   5   6   7\n",
      "2   8   9  10  11\n",
      "3  12  13  14  15\n"
     ]
    }
   ],
   "source": [
    "data = pd.read_csv('csv/example.csv')\n",
    "print(data)"
   ]
  },
  {
   "cell_type": "code",
   "execution_count": 13,
   "id": "21d27113",
   "metadata": {},
   "outputs": [
    {
     "name": "stdout",
     "output_type": "stream",
     "text": [
      "Index(['a', 'b', 'c', 'd'], dtype='object')\n",
      "RangeIndex(start=0, stop=4, step=1)\n"
     ]
    }
   ],
   "source": [
    "print(data.columns)\n",
    "print(data.index)"
   ]
  },
  {
   "cell_type": "code",
   "execution_count": 14,
   "id": "778047f9",
   "metadata": {},
   "outputs": [
    {
     "name": "stdout",
     "output_type": "stream",
     "text": [
      "    a   b   c   d\n",
      "0   0   1   2   3\n",
      "1   4   5   6   7\n",
      "2   8   9  10  11\n",
      "3  12  13  14  15\n",
      "    a   b   c   d\n",
      "2   8   9  10  11\n",
      "3  12  13  14  15\n",
      "<class 'pandas.core.frame.DataFrame'>\n",
      "RangeIndex: 4 entries, 0 to 3\n",
      "Data columns (total 4 columns):\n",
      " #   Column  Non-Null Count  Dtype\n",
      "---  ------  --------------  -----\n",
      " 0   a       4 non-null      int64\n",
      " 1   b       4 non-null      int64\n",
      " 2   c       4 non-null      int64\n",
      " 3   d       4 non-null      int64\n",
      "dtypes: int64(4)\n",
      "memory usage: 260.0 bytes\n",
      "None\n",
      "               a          b          c          d\n",
      "count   4.000000   4.000000   4.000000   4.000000\n",
      "mean    6.000000   7.000000   8.000000   9.000000\n",
      "std     5.163978   5.163978   5.163978   5.163978\n",
      "min     0.000000   1.000000   2.000000   3.000000\n",
      "25%     3.000000   4.000000   5.000000   6.000000\n",
      "50%     6.000000   7.000000   8.000000   9.000000\n",
      "75%     9.000000  10.000000  11.000000  12.000000\n",
      "max    12.000000  13.000000  14.000000  15.000000\n",
      "   count  mean       std  min  25%  50%   75%   max\n",
      "a    4.0   6.0  5.163978  0.0  3.0  6.0   9.0  12.0\n",
      "b    4.0   7.0  5.163978  1.0  4.0  7.0  10.0  13.0\n",
      "c    4.0   8.0  5.163978  2.0  5.0  8.0  11.0  14.0\n",
      "d    4.0   9.0  5.163978  3.0  6.0  9.0  12.0  15.0\n"
     ]
    }
   ],
   "source": [
    "print(data.head(5))\n",
    "print(data.tail(2))\n",
    "print(data.info())\n",
    "print(data.describe())\n",
    "print(data.describe().transpose())"
   ]
  },
  {
   "cell_type": "code",
   "execution_count": 15,
   "id": "50d0f502",
   "metadata": {},
   "outputs": [
    {
     "name": "stdout",
     "output_type": "stream",
     "text": [
      "0     0\n",
      "1     4\n",
      "2     8\n",
      "3    12\n",
      "Name: a, dtype: int64\n",
      "    a   b\n",
      "0   0   1\n",
      "1   4   5\n",
      "2   8   9\n",
      "3  12  13\n",
      "0     1\n",
      "1     9\n",
      "2    17\n",
      "3    25\n",
      "dtype: int64\n",
      "    a   b   c   d  calc\n",
      "0   0   1   2   3     1\n",
      "1   4   5   6   7     9\n",
      "2   8   9  10  11    17\n",
      "3  12  13  14  15    25\n"
     ]
    }
   ],
   "source": [
    "print(data['a'])\n",
    "print(data[['a','b']])\n",
    "print(data['a'] + data['b'])\n",
    "data['calc'] = data['a'] + data['b']\n",
    "print(data)"
   ]
  },
  {
   "cell_type": "code",
   "execution_count": 16,
   "id": "c5ddab28",
   "metadata": {},
   "outputs": [
    {
     "name": "stdout",
     "output_type": "stream",
     "text": [
      "    a   b   c   d  calc\n",
      "1   4   5   6   7     9\n",
      "2   8   9  10  11    17\n",
      "3  12  13  14  15    25\n",
      "    b   c   d  calc\n",
      "0   1   2   3     1\n",
      "1   5   6   7     9\n",
      "2   9  10  11    17\n",
      "3  13  14  15    25\n"
     ]
    }
   ],
   "source": [
    "filtered_data = data.drop(0,axis=0)\n",
    "print(filtered_data)\n",
    "data.drop('a',axis=1,inplace=True)\n",
    "print(data)"
   ]
  },
  {
   "cell_type": "code",
   "execution_count": 17,
   "id": "97225126",
   "metadata": {},
   "outputs": [
    {
     "data": {
      "text/html": [
       "<div>\n",
       "<style scoped>\n",
       "    .dataframe tbody tr th:only-of-type {\n",
       "        vertical-align: middle;\n",
       "    }\n",
       "\n",
       "    .dataframe tbody tr th {\n",
       "        vertical-align: top;\n",
       "    }\n",
       "\n",
       "    .dataframe thead th {\n",
       "        text-align: right;\n",
       "    }\n",
       "</style>\n",
       "<table border=\"1\" class=\"dataframe\">\n",
       "  <thead>\n",
       "    <tr style=\"text-align: right;\">\n",
       "      <th></th>\n",
       "      <th>b</th>\n",
       "      <th>c</th>\n",
       "      <th>d</th>\n",
       "      <th>calc</th>\n",
       "    </tr>\n",
       "  </thead>\n",
       "  <tbody>\n",
       "    <tr>\n",
       "      <th>1</th>\n",
       "      <td>5</td>\n",
       "      <td>6</td>\n",
       "      <td>7</td>\n",
       "      <td>9</td>\n",
       "    </tr>\n",
       "    <tr>\n",
       "      <th>2</th>\n",
       "      <td>9</td>\n",
       "      <td>10</td>\n",
       "      <td>11</td>\n",
       "      <td>17</td>\n",
       "    </tr>\n",
       "  </tbody>\n",
       "</table>\n",
       "</div>"
      ],
      "text/plain": [
       "   b   c   d  calc\n",
       "1  5   6   7     9\n",
       "2  9  10  11    17"
      ]
     },
     "execution_count": 17,
     "metadata": {},
     "output_type": "execute_result"
    }
   ],
   "source": [
    "data[data['calc'].between(4,17,inclusive='both')]"
   ]
  }
 ],
 "metadata": {
  "kernelspec": {
   "display_name": "Python 3 (ipykernel)",
   "language": "python",
   "name": "python3"
  },
  "language_info": {
   "codemirror_mode": {
    "name": "ipython",
    "version": 3
   },
   "file_extension": ".py",
   "mimetype": "text/x-python",
   "name": "python",
   "nbconvert_exporter": "python",
   "pygments_lexer": "ipython3",
   "version": "3.12.4"
  }
 },
 "nbformat": 4,
 "nbformat_minor": 5
}
