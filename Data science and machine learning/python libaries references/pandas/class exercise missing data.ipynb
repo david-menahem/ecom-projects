{
 "cells": [
  {
   "cell_type": "code",
   "execution_count": 1,
   "id": "c88961b6",
   "metadata": {},
   "outputs": [],
   "source": [
    "import numpy as np\n",
    "import pandas as pd"
   ]
  },
  {
   "cell_type": "code",
   "execution_count": 2,
   "id": "5a234298",
   "metadata": {},
   "outputs": [
    {
     "name": "stdout",
     "output_type": "stream",
     "text": [
      "     A     B      C\n",
      "0  NaN  10.0  100.0\n",
      "1  2.0   NaN    NaN\n",
      "2  3.0   NaN  300.0\n",
      "3  NaN  40.0  400.0\n",
      "4  5.0  50.0    NaN\n"
     ]
    }
   ],
   "source": [
    "df = pd.DataFrame({'A':[np.nan, 2, 3, np.nan, 5], 'B':[10, np.nan, np.nan, 40, 50], 'C':[100, np.nan, 300, 400, np.nan]})\n",
    "print(df)"
   ]
  },
  {
   "cell_type": "code",
   "execution_count": 3,
   "id": "6e014325",
   "metadata": {},
   "outputs": [
    {
     "name": "stdout",
     "output_type": "stream",
     "text": [
      "Empty DataFrame\n",
      "Columns: [A, B, C]\n",
      "Index: []\n"
     ]
    }
   ],
   "source": [
    "copy_df_1 = df.copy()\n",
    "copy_df_1.dropna(inplace=True)\n",
    "print(copy_df_1)"
   ]
  },
  {
   "cell_type": "code",
   "execution_count": 4,
   "id": "f7924402",
   "metadata": {},
   "outputs": [
    {
     "name": "stdout",
     "output_type": "stream",
     "text": [
      "     A     B      C\n",
      "0  NaN  10.0  100.0\n",
      "1  2.0   NaN    NaN\n",
      "2  3.0   NaN  300.0\n",
      "3  NaN  40.0  400.0\n",
      "4  5.0  50.0    NaN\n"
     ]
    }
   ],
   "source": [
    "copy_df_2 = df.copy()\n",
    "copy_df_2.dropna(thresh=1,inplace=True)\n",
    "print(copy_df_2)"
   ]
  },
  {
   "cell_type": "code",
   "execution_count": 5,
   "id": "49dad45b",
   "metadata": {},
   "outputs": [
    {
     "name": "stdout",
     "output_type": "stream",
     "text": [
      "     A   B      C\n",
      "2  3.0 NaN  300.0\n"
     ]
    }
   ],
   "source": [
    "copy_df_3 = df.copy()\n",
    "copy_df_3.dropna(subset = ['A','C'],inplace=True)\n",
    "print(copy_df_3)"
   ]
  },
  {
   "cell_type": "code",
   "execution_count": 6,
   "id": "2908edfa",
   "metadata": {},
   "outputs": [
    {
     "name": "stdout",
     "output_type": "stream",
     "text": [
      "     A     B      C\n",
      "0  4.0  10.0  100.0\n",
      "1  2.0   4.0    4.0\n",
      "2  3.0   4.0  300.0\n",
      "3  4.0  40.0  400.0\n",
      "4  5.0  50.0    4.0\n"
     ]
    }
   ],
   "source": [
    "copy_df_4 = df.copy()\n",
    "copy_df_4.fillna(4,inplace=True)\n",
    "print(copy_df_4)"
   ]
  },
  {
   "cell_type": "code",
   "execution_count": 7,
   "id": "33cbcf5b",
   "metadata": {},
   "outputs": [
    {
     "name": "stdout",
     "output_type": "stream",
     "text": [
      "     A      B      C\n",
      "0  NaN  10.00  100.0\n",
      "1  2.0  33.33    NaN\n",
      "2  3.0  33.33  300.0\n",
      "3  NaN  40.00  400.0\n",
      "4  5.0  50.00    NaN\n"
     ]
    }
   ],
   "source": [
    "copy_df_5 = df.copy()\n",
    "copy_df_5['B'] = copy_df_5['B'].fillna(round(copy_df_5['B'].mean(),2))\n",
    "print(copy_df_5)"
   ]
  }
 ],
 "metadata": {
  "kernelspec": {
   "display_name": "Python 3 (ipykernel)",
   "language": "python",
   "name": "python3"
  },
  "language_info": {
   "codemirror_mode": {
    "name": "ipython",
    "version": 3
   },
   "file_extension": ".py",
   "mimetype": "text/x-python",
   "name": "python",
   "nbconvert_exporter": "python",
   "pygments_lexer": "ipython3",
   "version": "3.12.4"
  }
 },
 "nbformat": 4,
 "nbformat_minor": 5
}
