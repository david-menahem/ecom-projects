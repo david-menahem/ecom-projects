{
 "cells": [
  {
   "cell_type": "code",
   "execution_count": 5,
   "id": "3d453a17",
   "metadata": {},
   "outputs": [],
   "source": [
    "import numpy as np\n",
    "import pandas as pd"
   ]
  },
  {
   "cell_type": "code",
   "execution_count": 6,
   "id": "06359ab1",
   "metadata": {},
   "outputs": [
    {
     "name": "stdout",
     "output_type": "stream",
     "text": [
      "     total_bill   tip     sex smoker   day    time  size  price_per_person  \\\n",
      "0         16.99  1.01  Female     No   Sun  Dinner     2              8.49   \n",
      "1         10.34  1.66    Male     No   Sun  Dinner     3              3.45   \n",
      "2         21.01  3.50    Male     No   Sun  Dinner     3              7.00   \n",
      "3         23.68  3.31    Male     No   Sun  Dinner     2             11.84   \n",
      "4         24.59  3.61  Female     No   Sun  Dinner     4              6.15   \n",
      "..          ...   ...     ...    ...   ...     ...   ...               ...   \n",
      "239       29.03  5.92    Male     No   Sat  Dinner     3              9.68   \n",
      "240       27.18  2.00  Female    Yes   Sat  Dinner     2             13.59   \n",
      "241       22.67  2.00    Male    Yes   Sat  Dinner     2             11.34   \n",
      "242       17.82  1.75    Male     No   Sat  Dinner     2              8.91   \n",
      "243       18.78  3.00  Female     No  Thur  Dinner     2              9.39   \n",
      "\n",
      "             Payer Name         CC Number Payment ID  \n",
      "0    Christy Cunningham  3560325168603410    Sun2959  \n",
      "1        Douglas Tucker  4478071379779230    Sun4608  \n",
      "2        Travis Walters  6011812112971322    Sun4458  \n",
      "3      Nathaniel Harris  4676137647685994    Sun5260  \n",
      "4          Tonya Carter  4832732618637221    Sun2251  \n",
      "..                  ...               ...        ...  \n",
      "239       Michael Avila  5296068606052842    Sat2657  \n",
      "240      Monica Sanders  3506806155565404    Sat1766  \n",
      "241          Keith Wong  6011891618747196    Sat3880  \n",
      "242        Dennis Dixon     4375220550950      Sat17  \n",
      "243     Michelle Hardin  3511451626698139    Thur672  \n",
      "\n",
      "[244 rows x 11 columns]\n"
     ]
    }
   ],
   "source": [
    "data = pd.read_csv('csv/tips.csv')\n",
    "print(data)"
   ]
  },
  {
   "cell_type": "code",
   "execution_count": 7,
   "id": "b3a55505",
   "metadata": {},
   "outputs": [
    {
     "name": "stdout",
     "output_type": "stream",
     "text": [
      "     total_bill   tip     sex smoker   day    time  size  price_per_person  \\\n",
      "0         16.99  1.01  Female     No   Sun  Dinner     2              8.49   \n",
      "1         10.34  1.66    Male     No   Sun  Dinner     3              3.45   \n",
      "2         21.01  3.50    Male     No   Sun  Dinner     3              7.00   \n",
      "3         23.68  3.31    Male     No   Sun  Dinner     2             11.84   \n",
      "4         24.59  3.61  Female     No   Sun  Dinner     4              6.15   \n",
      "..          ...   ...     ...    ...   ...     ...   ...               ...   \n",
      "239       29.03  5.92    Male     No   Sat  Dinner     3              9.68   \n",
      "240       27.18  2.00  Female    Yes   Sat  Dinner     2             13.59   \n",
      "241       22.67  2.00    Male    Yes   Sat  Dinner     2             11.34   \n",
      "242       17.82  1.75    Male     No   Sat  Dinner     2              8.91   \n",
      "243       18.78  3.00  Female     No  Thur  Dinner     2              9.39   \n",
      "\n",
      "             Payer Name         CC Number Payment ID  \n",
      "0    Christy Cunningham  3560325168603410    Sun2959  \n",
      "1        Douglas Tucker  4478071379779230    Sun4608  \n",
      "2        Travis Walters  6011812112971322    Sun4458  \n",
      "3      Nathaniel Harris  4676137647685994    Sun5260  \n",
      "4          Tonya Carter  4832732618637221    Sun2251  \n",
      "..                  ...               ...        ...  \n",
      "239       Michael Avila  5296068606052842    Sat2657  \n",
      "240      Monica Sanders  3506806155565404    Sat1766  \n",
      "241          Keith Wong  6011891618747196    Sat3880  \n",
      "242        Dennis Dixon     4375220550950      Sat17  \n",
      "243     Michelle Hardin  3511451626698139    Thur672  \n",
      "\n",
      "[244 rows x 11 columns]\n",
      "     total_bill   tip\n",
      "0         16.99  1.01\n",
      "1         10.34  1.66\n",
      "2         21.01  3.50\n",
      "3         23.68  3.31\n",
      "4         24.59  3.61\n",
      "..          ...   ...\n",
      "239       29.03  5.92\n",
      "240       27.18  2.00\n",
      "241       22.67  2.00\n",
      "242       17.82  1.75\n",
      "243       18.78  3.00\n",
      "\n",
      "[244 rows x 2 columns]\n"
     ]
    }
   ],
   "source": [
    "filtered_data = data[['Payer Name','total_bill','tip']].copy()\n",
    "filtered_data.drop('Payer Name',axis=1,inplace=True)\n",
    "print(data)\n",
    "print(filtered_data)"
   ]
  },
  {
   "cell_type": "code",
   "execution_count": 8,
   "id": "f2dd88f4",
   "metadata": {},
   "outputs": [
    {
     "name": "stdout",
     "output_type": "stream",
     "text": [
      "   total_bill   tip     sex smoker  day    time  size  price_per_person  \\\n",
      "0       16.99  1.01  Female     No  Sun  Dinner     2              8.49   \n",
      "1       10.34  1.66    Male     No  Sun  Dinner     3              3.45   \n",
      "\n",
      "           Payer Name         CC Number Payment ID  total_payment  \\\n",
      "0  Christy Cunningham  3560325168603410    Sun2959           18.0   \n",
      "1      Douglas Tucker  4478071379779230    Sun4608           12.0   \n",
      "\n",
      "   tip_percentage  \n",
      "0            5.94  \n",
      "1           16.05  \n"
     ]
    }
   ],
   "source": [
    "data['total_payment'] = data['total_bill'] + data['tip']\n",
    "data['tip_percentage'] = (100*data['tip']/data['total_bill']).round(2)\n",
    "print(data.head(2))"
   ]
  },
  {
   "cell_type": "code",
   "execution_count": 9,
   "id": "5fff4b4b",
   "metadata": {},
   "outputs": [
    {
     "name": "stdout",
     "output_type": "stream",
     "text": [
      "     total_bill   tip     sex smoker   day    time  size  price_per_person  \\\n",
      "0         16.99  1.01  Female     No   Sun  Dinner     2              8.49   \n",
      "1         10.34  1.66    Male     No   Sun  Dinner     3              3.45   \n",
      "2         21.01  3.50    Male     No   Sun  Dinner     3              7.00   \n",
      "3         23.68  3.31    Male     No   Sun  Dinner     2             11.84   \n",
      "4         24.59  3.61  Female     No   Sun  Dinner     4              6.15   \n",
      "..          ...   ...     ...    ...   ...     ...   ...               ...   \n",
      "239       29.03  5.92    Male     No   Sat  Dinner     3              9.68   \n",
      "240       27.18  2.00  Female    Yes   Sat  Dinner     2             13.59   \n",
      "241       22.67  2.00    Male    Yes   Sat  Dinner     2             11.34   \n",
      "242       17.82  1.75    Male     No   Sat  Dinner     2              8.91   \n",
      "243       18.78  3.00  Female     No  Thur  Dinner     2              9.39   \n",
      "\n",
      "             Payer Name         CC Number Payment ID  \n",
      "0    Christy Cunningham  3560325168603410    Sun2959  \n",
      "1        Douglas Tucker  4478071379779230    Sun4608  \n",
      "2        Travis Walters  6011812112971322    Sun4458  \n",
      "3      Nathaniel Harris  4676137647685994    Sun5260  \n",
      "4          Tonya Carter  4832732618637221    Sun2251  \n",
      "..                  ...               ...        ...  \n",
      "239       Michael Avila  5296068606052842    Sat2657  \n",
      "240      Monica Sanders  3506806155565404    Sat1766  \n",
      "241          Keith Wong  6011891618747196    Sat3880  \n",
      "242        Dennis Dixon     4375220550950      Sat17  \n",
      "243     Michelle Hardin  3511451626698139    Thur672  \n",
      "\n",
      "[244 rows x 11 columns]\n"
     ]
    }
   ],
   "source": [
    "data.drop(['total_payment','tip_percentage'],axis=1,inplace=True)\n",
    "print(data)"
   ]
  },
  {
   "cell_type": "code",
   "execution_count": 10,
   "id": "ae2f1b08",
   "metadata": {},
   "outputs": [
    {
     "name": "stdout",
     "output_type": "stream",
     "text": [
      "            total_bill   tip     sex smoker   day    time  size  \\\n",
      "Payment ID                                                        \n",
      "Sun2959          16.99  1.01  Female     No   Sun  Dinner     2   \n",
      "Sun4608          10.34  1.66    Male     No   Sun  Dinner     3   \n",
      "Sun4458          21.01  3.50    Male     No   Sun  Dinner     3   \n",
      "Sun5260          23.68  3.31    Male     No   Sun  Dinner     2   \n",
      "Sun2251          24.59  3.61  Female     No   Sun  Dinner     4   \n",
      "...                ...   ...     ...    ...   ...     ...   ...   \n",
      "Sat2657          29.03  5.92    Male     No   Sat  Dinner     3   \n",
      "Sat1766          27.18  2.00  Female    Yes   Sat  Dinner     2   \n",
      "Sat3880          22.67  2.00    Male    Yes   Sat  Dinner     2   \n",
      "Sat17            17.82  1.75    Male     No   Sat  Dinner     2   \n",
      "Thur672          18.78  3.00  Female     No  Thur  Dinner     2   \n",
      "\n",
      "            price_per_person          Payer Name         CC Number  \n",
      "Payment ID                                                          \n",
      "Sun2959                 8.49  Christy Cunningham  3560325168603410  \n",
      "Sun4608                 3.45      Douglas Tucker  4478071379779230  \n",
      "Sun4458                 7.00      Travis Walters  6011812112971322  \n",
      "Sun5260                11.84    Nathaniel Harris  4676137647685994  \n",
      "Sun2251                 6.15        Tonya Carter  4832732618637221  \n",
      "...                      ...                 ...               ...  \n",
      "Sat2657                 9.68       Michael Avila  5296068606052842  \n",
      "Sat1766                13.59      Monica Sanders  3506806155565404  \n",
      "Sat3880                11.34          Keith Wong  6011891618747196  \n",
      "Sat17                   8.91        Dennis Dixon     4375220550950  \n",
      "Thur672                 9.39     Michelle Hardin  3511451626698139  \n",
      "\n",
      "[244 rows x 10 columns]\n"
     ]
    }
   ],
   "source": [
    "new_df = data.set_index('Payment ID')\n",
    "print(new_df)"
   ]
  },
  {
   "cell_type": "code",
   "execution_count": 11,
   "id": "1ca85f43",
   "metadata": {},
   "outputs": [
    {
     "name": "stdout",
     "output_type": "stream",
     "text": [
      "    Payment ID  total_bill   tip     sex smoker   day    time  size  \\\n",
      "0      Sun2959       16.99  1.01  Female     No   Sun  Dinner     2   \n",
      "1      Sun4608       10.34  1.66    Male     No   Sun  Dinner     3   \n",
      "2      Sun4458       21.01  3.50    Male     No   Sun  Dinner     3   \n",
      "3      Sun5260       23.68  3.31    Male     No   Sun  Dinner     2   \n",
      "4      Sun2251       24.59  3.61  Female     No   Sun  Dinner     4   \n",
      "..         ...         ...   ...     ...    ...   ...     ...   ...   \n",
      "239    Sat2657       29.03  5.92    Male     No   Sat  Dinner     3   \n",
      "240    Sat1766       27.18  2.00  Female    Yes   Sat  Dinner     2   \n",
      "241    Sat3880       22.67  2.00    Male    Yes   Sat  Dinner     2   \n",
      "242      Sat17       17.82  1.75    Male     No   Sat  Dinner     2   \n",
      "243    Thur672       18.78  3.00  Female     No  Thur  Dinner     2   \n",
      "\n",
      "     price_per_person          Payer Name         CC Number  \n",
      "0                8.49  Christy Cunningham  3560325168603410  \n",
      "1                3.45      Douglas Tucker  4478071379779230  \n",
      "2                7.00      Travis Walters  6011812112971322  \n",
      "3               11.84    Nathaniel Harris  4676137647685994  \n",
      "4                6.15        Tonya Carter  4832732618637221  \n",
      "..                ...                 ...               ...  \n",
      "239              9.68       Michael Avila  5296068606052842  \n",
      "240             13.59      Monica Sanders  3506806155565404  \n",
      "241             11.34          Keith Wong  6011891618747196  \n",
      "242              8.91        Dennis Dixon     4375220550950  \n",
      "243              9.39     Michelle Hardin  3511451626698139  \n",
      "\n",
      "[244 rows x 11 columns]\n"
     ]
    }
   ],
   "source": [
    "new_df.reset_index(inplace=True)\n",
    "print(new_df)"
   ]
  },
  {
   "cell_type": "code",
   "execution_count": 12,
   "id": "39b7fdc4",
   "metadata": {},
   "outputs": [
    {
     "name": "stdout",
     "output_type": "stream",
     "text": [
      "total_bill                  18.71\n",
      "tip                           4.0\n",
      "sex                          Male\n",
      "smoker                        Yes\n",
      "day                          Thur\n",
      "time                        Lunch\n",
      "size                            3\n",
      "price_per_person             6.24\n",
      "Payer Name           Jason Conrad\n",
      "CC Number           4581233003487\n",
      "Name: Thur6048, dtype: object\n",
      "total_bill    10.34\n",
      "Name: Sun4608, dtype: object\n"
     ]
    }
   ],
   "source": [
    "new_df = data.set_index('Payment ID')\n",
    "print(new_df.iloc[200])\n",
    "print(new_df.loc['Sun4608',['total_bill']])"
   ]
  }
 ],
 "metadata": {
  "kernelspec": {
   "display_name": "Python 3 (ipykernel)",
   "language": "python",
   "name": "python3"
  },
  "language_info": {
   "codemirror_mode": {
    "name": "ipython",
    "version": 3
   },
   "file_extension": ".py",
   "mimetype": "text/x-python",
   "name": "python",
   "nbconvert_exporter": "python",
   "pygments_lexer": "ipython3",
   "version": "3.12.4"
  }
 },
 "nbformat": 4,
 "nbformat_minor": 5
}
