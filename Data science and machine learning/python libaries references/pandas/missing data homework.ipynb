{
 "cells": [
  {
   "cell_type": "code",
   "execution_count": 67,
   "id": "2981a96b",
   "metadata": {},
   "outputs": [],
   "source": [
    "import numpy as np\n",
    "import pandas as pd"
   ]
  },
  {
   "cell_type": "markdown",
   "id": "78caf1ba",
   "metadata": {},
   "source": [
    "# Excercise 1"
   ]
  },
  {
   "cell_type": "code",
   "execution_count": 68,
   "id": "3cdc3af7",
   "metadata": {},
   "outputs": [
    {
     "name": "stdout",
     "output_type": "stream",
     "text": [
      "   CustomerID FirstName  LastName  Age  TotalPurchaseAmount\n",
      "0           1      John     Smith   60                  920\n",
      "1           2     Steve   Johnson   60                  773\n",
      "2           3      Anna  Williams   51                  755\n",
      "3           4      Mike     Jones   44                  245\n",
      "4           5     Emily     Brown   29                  444\n",
      "5           6      Jake     Davis   64                  763\n",
      "6           7     Laura    Miller   48                  334\n",
      "7           8      Nick    Wilson   35                  671\n",
      "8           9    Olivia     Moore   40                  604\n",
      "9          10     David    Taylor   53                  108\n"
     ]
    }
   ],
   "source": [
    "df = pd.DataFrame({\n",
    "'CustomerID': np.arange(1, 11),\n",
    "'FirstName': ['John', 'Steve', 'Anna', 'Mike', 'Emily', 'Jake', 'Laura', 'Nick',\n",
    "'Olivia', 'David'],\n",
    "'LastName': ['Smith', 'Johnson', 'Williams', 'Jones', 'Brown', 'Davis', 'Miller',\n",
    "'Wilson', 'Moore', 'Taylor'],\n",
    "'Age': np.random.randint(25, 65, size=10),\n",
    "'TotalPurchaseAmount': np.random.randint(100, 1000, size=10)\n",
    "})\n",
    "print(df)\n",
    "copy_df = df.copy()"
   ]
  },
  {
   "cell_type": "code",
   "execution_count": 69,
   "id": "2b9e4d6d",
   "metadata": {},
   "outputs": [
    {
     "name": "stdout",
     "output_type": "stream",
     "text": [
      "   CustomerID FirstName  LastName  Age  TotalPurchaseAmount classification\n",
      "0           1      John     Smith   60                  920           High\n",
      "1           2     Steve   Johnson   60                  773           High\n",
      "2           3      Anna  Williams   51                  755           High\n",
      "3           4      Mike     Jones   44                  245            Low\n",
      "4           5     Emily     Brown   29                  444            Low\n",
      "5           6      Jake     Davis   64                  763           High\n",
      "6           7     Laura    Miller   48                  334            Low\n",
      "7           8      Nick    Wilson   35                  671           High\n",
      "8           9    Olivia     Moore   40                  604           High\n",
      "9          10     David    Taylor   53                  108            Low\n"
     ]
    }
   ],
   "source": [
    "def classification(total_purchase_amount):\n",
    "    if total_purchase_amount < 500:\n",
    "        return \"Low\"\n",
    "    else:\n",
    "        return \"High\"\n",
    "    \n",
    "copy_df['classification'] = df['TotalPurchaseAmount'].apply(classification)\n",
    "print(copy_df)"
   ]
  },
  {
   "cell_type": "code",
   "execution_count": 70,
   "id": "6f8cd5e9",
   "metadata": {},
   "outputs": [
    {
     "name": "stdout",
     "output_type": "stream",
     "text": [
      "   CustomerID FirstName  LastName  Age  TotalPurchaseAmount\n",
      "0           1      John     Smith   60                  920\n",
      "1           2     Steve   Johnson   60                  773\n",
      "2           3      Anna  Williams   51                  755\n",
      "3           4      Mike     Jones   44                  245\n",
      "4           5     Emily     Brown   29                  444\n",
      "5           6      Jake     Davis   64                  763\n",
      "6           7     Laura    Miller   48                  334\n",
      "7           8      Nick    Wilson   35                  671\n",
      "8           9    Olivia     Moore   40                  604\n",
      "9          10     David    Taylor   53                  108\n"
     ]
    }
   ],
   "source": [
    "def classifaction_by_age(classification, age):\n",
    "    result = classification\n",
    "    if age <= 20:\n",
    "        result += \"_Young\"\n",
    "    else:\n",
    "        result += \"_Old\"\n",
    "    return result\n",
    "\n",
    "copy_df['classification_by_age'] = np.vectorize(classifaction_by_age)(copy_df['classification'],df['Age'])\n",
    "print(df)"
   ]
  },
  {
   "cell_type": "markdown",
   "id": "b34405b4",
   "metadata": {},
   "source": [
    "# Exercise 2"
   ]
  },
  {
   "cell_type": "code",
   "execution_count": 71,
   "id": "964b375e",
   "metadata": {},
   "outputs": [
    {
     "name": "stdout",
     "output_type": "stream",
     "text": [
      "   CustomerID FirstName  LastName  Age  TotalPurchaseAmount classification  \\\n",
      "4           5     Emily     Brown   29                  444            Low   \n",
      "5           6      Jake     Davis   64                  763           High   \n",
      "1           2     Steve   Johnson   60                  773           High   \n",
      "3           4      Mike     Jones   44                  245            Low   \n",
      "6           7     Laura    Miller   48                  334            Low   \n",
      "8           9    Olivia     Moore   40                  604           High   \n",
      "0           1      John     Smith   60                  920           High   \n",
      "9          10     David    Taylor   53                  108            Low   \n",
      "2           3      Anna  Williams   51                  755           High   \n",
      "7           8      Nick    Wilson   35                  671           High   \n",
      "\n",
      "  classification_by_age  \n",
      "4               Low_Old  \n",
      "5              High_Old  \n",
      "1              High_Old  \n",
      "3               Low_Old  \n",
      "6               Low_Old  \n",
      "8              High_Old  \n",
      "0              High_Old  \n",
      "9               Low_Old  \n",
      "2              High_Old  \n",
      "7              High_Old  \n",
      "   CustomerID FirstName  LastName  Age  TotalPurchaseAmount classification  \\\n",
      "9          10     David    Taylor   53                  108            Low   \n",
      "3           4      Mike     Jones   44                  245            Low   \n",
      "6           7     Laura    Miller   48                  334            Low   \n",
      "4           5     Emily     Brown   29                  444            Low   \n",
      "8           9    Olivia     Moore   40                  604           High   \n",
      "7           8      Nick    Wilson   35                  671           High   \n",
      "2           3      Anna  Williams   51                  755           High   \n",
      "5           6      Jake     Davis   64                  763           High   \n",
      "1           2     Steve   Johnson   60                  773           High   \n",
      "0           1      John     Smith   60                  920           High   \n",
      "\n",
      "  classification_by_age  \n",
      "9               Low_Old  \n",
      "3               Low_Old  \n",
      "6               Low_Old  \n",
      "4               Low_Old  \n",
      "8              High_Old  \n",
      "7              High_Old  \n",
      "2              High_Old  \n",
      "5              High_Old  \n",
      "1              High_Old  \n",
      "0              High_Old  \n"
     ]
    }
   ],
   "source": [
    "copy_df.sort_values(by=['LastName','FirstName'],ascending=[True,True],inplace=True)\n",
    "print(copy_df)\n",
    "copy_df.sort_values(by=['TotalPurchaseAmount','Age'],ascending=[True,False],inplace=True)\n",
    "print(copy_df)"
   ]
  },
  {
   "cell_type": "markdown",
   "id": "63cf19a1",
   "metadata": {},
   "source": [
    "# Exercise 3"
   ]
  },
  {
   "cell_type": "code",
   "execution_count": 72,
   "id": "f503a193",
   "metadata": {},
   "outputs": [
    {
     "name": "stdout",
     "output_type": "stream",
     "text": [
      "       A   B   C     D     E     F     G     H     I     J\n",
      "0    8.0  24  67  87.0  79.0  48.0  10.0  94.0  52.0  98.0\n",
      "1    NaN  66  98   NaN   NaN   NaN   NaN   NaN   NaN  16.0\n",
      "2    9.0  93  86   2.0  27.0   4.0  31.0   1.0  13.0  83.0\n",
      "3    4.0  91  59  67.0   7.0  49.0  47.0  65.0  61.0  14.0\n",
      "4   55.0  71  80   2.0  94.0  19.0  98.0  63.0  53.0  27.0\n",
      "5    NaN  30  48   NaN   NaN   NaN   NaN   NaN   NaN  56.0\n",
      "6    NaN  53  74   NaN   NaN   NaN   NaN   NaN   NaN  68.0\n",
      "7   50.0  91  91  83.0  53.0  78.0   0.0  13.0  57.0  76.0\n",
      "8    3.0  70   3  84.0  79.0  10.0  87.0  60.0   3.0  48.0\n",
      "9   52.0  43  36   5.0  71.0  38.0  86.0  94.0  98.0  42.0\n",
      "10   NaN  95  76   NaN   NaN   NaN   NaN   NaN   NaN  98.0\n",
      "11   NaN  53  68   NaN   NaN   NaN   NaN   NaN   NaN  48.0\n",
      "12   NaN  25  54   NaN   NaN   NaN   NaN   NaN   NaN  30.0\n",
      "13  66.0  24  55  17.0  45.0  89.0  45.0  35.0  16.0  12.0\n",
      "14  86.0  82  67  92.0  95.0  20.0  10.0   8.0  89.0  72.0\n",
      "15  30.0  12  18  93.0  92.0  44.0  57.0   0.0  73.0  54.0\n",
      "16   NaN  66  16   NaN   NaN   NaN   NaN   NaN   NaN  78.0\n",
      "17   NaN  77  84   NaN   NaN   NaN   NaN   NaN   NaN  93.0\n",
      "18   NaN  28  82   NaN   NaN   NaN   NaN   NaN   NaN   NaN\n",
      "19   NaN  90  93   NaN   NaN   NaN   NaN   NaN   NaN  37.0\n"
     ]
    }
   ],
   "source": [
    "np.random.seed(100) \n",
    "df = pd.DataFrame(np.random.randint(0,100,size=(20, 10)), columns=list('ABCDEFGHIJ'))\n",
    "\n",
    "n_rows, n_cols = df.shape \n",
    "row_idx = np.random.randint(0, n_rows)\n",
    "col_idxs = np.random.choice(n_cols, size=n_cols//2, replace=False)\n",
    "df.iloc[row_idx, col_idxs] = np.nan\n",
    "n_nan_remaining = 15 - len(col_idxs)\n",
    "row_idxs = np.random.randint(0, n_rows, size=n_nan_remaining)\n",
    "col_idxs = np.random.randint(0, n_cols, size=n_nan_remaining)\n",
    "df.iloc[row_idxs, col_idxs] = np.nan\n",
    "copy_df = df.copy()\n",
    "print(copy_df)"
   ]
  },
  {
   "cell_type": "code",
   "execution_count": 73,
   "id": "35aeeced",
   "metadata": {},
   "outputs": [
    {
     "name": "stdout",
     "output_type": "stream",
     "text": [
      "       A   B   C     D     E     F     G     H     I     J\n",
      "0    8.0  24  67  87.0  79.0  48.0  10.0  94.0  52.0  98.0\n",
      "2    9.0  93  86   2.0  27.0   4.0  31.0   1.0  13.0  83.0\n",
      "3    4.0  91  59  67.0   7.0  49.0  47.0  65.0  61.0  14.0\n",
      "4   55.0  71  80   2.0  94.0  19.0  98.0  63.0  53.0  27.0\n",
      "7   50.0  91  91  83.0  53.0  78.0   0.0  13.0  57.0  76.0\n",
      "8    3.0  70   3  84.0  79.0  10.0  87.0  60.0   3.0  48.0\n",
      "9   52.0  43  36   5.0  71.0  38.0  86.0  94.0  98.0  42.0\n",
      "13  66.0  24  55  17.0  45.0  89.0  45.0  35.0  16.0  12.0\n",
      "14  86.0  82  67  92.0  95.0  20.0  10.0   8.0  89.0  72.0\n",
      "15  30.0  12  18  93.0  92.0  44.0  57.0   0.0  73.0  54.0\n"
     ]
    }
   ],
   "source": [
    "copy_df = df.copy()\n",
    "copy_df.dropna(inplace=True)\n",
    "print(copy_df)"
   ]
  },
  {
   "cell_type": "code",
   "execution_count": 74,
   "id": "99a1fe95",
   "metadata": {},
   "outputs": [
    {
     "name": "stdout",
     "output_type": "stream",
     "text": [
      "       A   B   C     D     E     F     G     H     I     J\n",
      "0    8.0  24  67  87.0  79.0  48.0  10.0  94.0  52.0  98.0\n",
      "1   80.0  66  98  80.0  80.0  80.0  80.0  80.0  80.0  16.0\n",
      "2    9.0  93  86   2.0  27.0   4.0  31.0   1.0  13.0  83.0\n",
      "3    4.0  91  59  67.0   7.0  49.0  47.0  65.0  61.0  14.0\n",
      "4   55.0  71  80   2.0  94.0  19.0  98.0  63.0  53.0  27.0\n",
      "5   80.0  30  48  80.0  80.0  80.0  80.0  80.0  80.0  56.0\n",
      "6   80.0  53  74  80.0  80.0  80.0  80.0  80.0  80.0  68.0\n",
      "7   50.0  91  91  83.0  53.0  78.0   0.0  13.0  57.0  76.0\n",
      "8    3.0  70   3  84.0  79.0  10.0  87.0  60.0   3.0  48.0\n",
      "9   52.0  43  36   5.0  71.0  38.0  86.0  94.0  98.0  42.0\n",
      "10  80.0  95  76  80.0  80.0  80.0  80.0  80.0  80.0  98.0\n",
      "11  80.0  53  68  80.0  80.0  80.0  80.0  80.0  80.0  48.0\n",
      "12  80.0  25  54  80.0  80.0  80.0  80.0  80.0  80.0  30.0\n",
      "13  66.0  24  55  17.0  45.0  89.0  45.0  35.0  16.0  12.0\n",
      "14  86.0  82  67  92.0  95.0  20.0  10.0   8.0  89.0  72.0\n",
      "15  30.0  12  18  93.0  92.0  44.0  57.0   0.0  73.0  54.0\n",
      "16  80.0  66  16  80.0  80.0  80.0  80.0  80.0  80.0  78.0\n",
      "17  80.0  77  84  80.0  80.0  80.0  80.0  80.0  80.0  93.0\n",
      "18  80.0  28  82  80.0  80.0  80.0  80.0  80.0  80.0  80.0\n",
      "19  80.0  90  93  80.0  80.0  80.0  80.0  80.0  80.0  37.0\n"
     ]
    }
   ],
   "source": [
    "copy_df = df.copy()\n",
    "copy_df[copy_df.isnull()] = np.random.randint(0,100)\n",
    "print(copy_df)"
   ]
  },
  {
   "cell_type": "code",
   "execution_count": 75,
   "id": "16bf2092",
   "metadata": {},
   "outputs": [
    {
     "name": "stdout",
     "output_type": "stream",
     "text": [
      "       A   B   C     D     E     F     G     H     I     J\n",
      "0    8.0  24  67  87.0  79.0  48.0  10.0  94.0  52.0  98.0\n",
      "1    NaN  66  98  53.2   NaN   NaN   NaN   NaN   NaN  16.0\n",
      "2    9.0  93  86   2.0  27.0   4.0  31.0   1.0  13.0  83.0\n",
      "3    4.0  91  59  67.0   7.0  49.0  47.0  65.0  61.0  14.0\n",
      "4   55.0  71  80   2.0  94.0  19.0  98.0  63.0  53.0  27.0\n",
      "5    NaN  30  48  53.2   NaN   NaN   NaN   NaN   NaN  56.0\n",
      "6    NaN  53  74  53.2   NaN   NaN   NaN   NaN   NaN  68.0\n",
      "7   50.0  91  91  83.0  53.0  78.0   0.0  13.0  57.0  76.0\n",
      "8    3.0  70   3  84.0  79.0  10.0  87.0  60.0   3.0  48.0\n",
      "9   52.0  43  36   5.0  71.0  38.0  86.0  94.0  98.0  42.0\n",
      "10   NaN  95  76  53.2   NaN   NaN   NaN   NaN   NaN  98.0\n",
      "11   NaN  53  68  53.2   NaN   NaN   NaN   NaN   NaN  48.0\n",
      "12   NaN  25  54  53.2   NaN   NaN   NaN   NaN   NaN  30.0\n",
      "13  66.0  24  55  17.0  45.0  89.0  45.0  35.0  16.0  12.0\n",
      "14  86.0  82  67  92.0  95.0  20.0  10.0   8.0  89.0  72.0\n",
      "15  30.0  12  18  93.0  92.0  44.0  57.0   0.0  73.0  54.0\n",
      "16   NaN  66  16  53.2   NaN   NaN   NaN   NaN   NaN  78.0\n",
      "17   NaN  77  84  53.2   NaN   NaN   NaN   NaN   NaN  93.0\n",
      "18   NaN  28  82  53.2   NaN   NaN   NaN   NaN   NaN   NaN\n",
      "19   NaN  90  93  53.2   NaN   NaN   NaN   NaN   NaN  37.0\n"
     ]
    }
   ],
   "source": [
    "copy_df = df.copy()\n",
    "copy_df['C'] = copy_df['C'].fillna(round(copy_df['C'].mean(),2))\n",
    "copy_df['D'] = copy_df['D'].fillna(round(copy_df['D'].mean(),2))\n",
    "print(copy_df)"
   ]
  },
  {
   "cell_type": "code",
   "execution_count": 76,
   "id": "60e77f6c",
   "metadata": {},
   "outputs": [
    {
     "name": "stdout",
     "output_type": "stream",
     "text": [
      "       A   B   C     D     E     F     G     H     I     J\n",
      "0    8.0  24  67  87.0  79.0  48.0  10.0  94.0  52.0  98.0\n",
      "2    9.0  93  86   2.0  27.0   4.0  31.0   1.0  13.0  83.0\n",
      "3    4.0  91  59  67.0   7.0  49.0  47.0  65.0  61.0  14.0\n",
      "4   55.0  71  80   2.0  94.0  19.0  98.0  63.0  53.0  27.0\n",
      "7   50.0  91  91  83.0  53.0  78.0   0.0  13.0  57.0  76.0\n",
      "8    3.0  70   3  84.0  79.0  10.0  87.0  60.0   3.0  48.0\n",
      "9   52.0  43  36   5.0  71.0  38.0  86.0  94.0  98.0  42.0\n",
      "13  66.0  24  55  17.0  45.0  89.0  45.0  35.0  16.0  12.0\n",
      "14  86.0  82  67  92.0  95.0  20.0  10.0   8.0  89.0  72.0\n",
      "15  30.0  12  18  93.0  92.0  44.0  57.0   0.0  73.0  54.0\n"
     ]
    }
   ],
   "source": [
    "copy_df = df.copy()\n",
    "dropped_df = copy_df.dropna(subset = copy_df.columns.difference(['D']),thresh=copy_df.shape[1] - 2)\n",
    "# dropped_df.insert(3,'D',copy_df['D'])\n",
    "print(dropped_df)"
   ]
  },
  {
   "cell_type": "code",
   "execution_count": 77,
   "id": "875c28ab",
   "metadata": {},
   "outputs": [
    {
     "name": "stdout",
     "output_type": "stream",
     "text": [
      "       A   B   C     D     E     F     G     H     I     J\n",
      "0    8.0  24  67  87.0  79.0  48.0  10.0  94.0  52.0  98.0\n",
      "1   99.0  66  98   2.0  62.0  99.0  81.0  16.0  70.0  16.0\n",
      "2    9.0  93  86   2.0  27.0   4.0  31.0   1.0  13.0  83.0\n",
      "3    4.0  91  59  67.0   7.0  49.0  47.0  65.0  61.0  14.0\n",
      "4   55.0  71  80   2.0  94.0  19.0  98.0  63.0  53.0  27.0\n",
      "5   53.0  30  48  98.0  96.0  47.0  48.0   9.0  49.0  56.0\n",
      "6   53.0  53  74  34.0   3.0  11.0  49.0  29.0  36.0  68.0\n",
      "7   50.0  91  91  83.0  53.0  78.0   0.0  13.0  57.0  76.0\n",
      "8    3.0  70   3  84.0  79.0  10.0  87.0  60.0   3.0  48.0\n",
      "9   52.0  43  36   5.0  71.0  38.0  86.0  94.0  98.0  42.0\n",
      "10  93.0  95  76  67.0  26.0  52.0  36.0  73.0  31.0  98.0\n",
      "11  85.0  53  68  92.0  68.0  83.0  71.0  61.0  93.0  48.0\n",
      "12  36.0  25  54  42.0  13.0  48.0  82.0  32.0  38.0  30.0\n",
      "13  66.0  24  55  17.0  45.0  89.0  45.0  35.0  16.0  12.0\n",
      "14  86.0  82  67  92.0  95.0  20.0  10.0   8.0  89.0  72.0\n",
      "15  30.0  12  18  93.0  92.0  44.0  57.0   0.0  73.0  54.0\n",
      "16  40.0  66  16  53.0  93.0  14.0  38.0  86.0  37.0  78.0\n",
      "17   0.0  77  84  59.0  41.0  44.0  19.0  76.0  66.0  93.0\n",
      "18  13.0  28  82  87.0  65.0  68.0  54.0   0.0  87.0  83.0\n",
      "19  10.0  90  93  65.0   2.0  87.0  76.0  39.0  36.0  37.0\n"
     ]
    }
   ],
   "source": [
    "copy_df = df.copy()\n",
    "nan_pos = np.where(copy_df.isna())\n",
    "rows,cols = nan_pos\n",
    "for i,j in zip(rows,cols):\n",
    "    copy_df.iloc[i,j] = np.random.randint(0,100)\n",
    "print(copy_df)"
   ]
  }
 ],
 "metadata": {
  "kernelspec": {
   "display_name": "Python 3 (ipykernel)",
   "language": "python",
   "name": "python3"
  },
  "language_info": {
   "codemirror_mode": {
    "name": "ipython",
    "version": 3
   },
   "file_extension": ".py",
   "mimetype": "text/x-python",
   "name": "python",
   "nbconvert_exporter": "python",
   "pygments_lexer": "ipython3",
   "version": "3.12.4"
  }
 },
 "nbformat": 4,
 "nbformat_minor": 5
}
