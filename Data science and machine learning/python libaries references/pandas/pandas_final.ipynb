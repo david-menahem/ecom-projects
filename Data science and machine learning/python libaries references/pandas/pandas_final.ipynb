{
 "cells": [
  {
   "cell_type": "code",
   "execution_count": 23,
   "id": "a84fc009",
   "metadata": {},
   "outputs": [],
   "source": [
    "import numpy as np\n",
    "import pandas as pd"
   ]
  },
  {
   "cell_type": "code",
   "execution_count": 24,
   "id": "e39e1a64",
   "metadata": {},
   "outputs": [
    {
     "name": "stdout",
     "output_type": "stream",
     "text": [
      "0    David \n",
      "1      yael\n",
      "2      Avi \n",
      "dtype: object\n"
     ]
    }
   ],
   "source": [
    "my_array = ['David ',' yael',' Avi ']\n",
    "my_pandas_series = pd.Series(my_array)\n",
    "print(my_pandas_series)"
   ]
  },
  {
   "cell_type": "code",
   "execution_count": 25,
   "id": "f7ef7c0b",
   "metadata": {
    "scrolled": true
   },
   "outputs": [
    {
     "name": "stdout",
     "output_type": "stream",
     "text": [
      "0    David\n",
      "1     Yael\n",
      "2      Avi\n",
      "dtype: object\n"
     ]
    }
   ],
   "source": [
    "my_data = my_pandas_series.str.strip()\n",
    "my_data = my_pandas_series.str.replace(' ','').str.capitalize().str.strip()\n",
    "print(my_data)"
   ]
  },
  {
   "cell_type": "code",
   "execution_count": 26,
   "id": "0de5369a",
   "metadata": {},
   "outputs": [
    {
     "name": "stdout",
     "output_type": "stream",
     "text": [
      "0    David\n",
      "1     Yael\n",
      "2      Avi\n",
      "dtype: object\n"
     ]
    }
   ],
   "source": [
    "def clean(name):\n",
    "    name = name.replace(' ','')\n",
    "    name = name.strip()\n",
    "    name = name.capitalize()\n",
    "    return name\n",
    "my_data = my_pandas_series.apply(clean)\n",
    "print(my_data)"
   ]
  },
  {
   "cell_type": "code",
   "execution_count": 27,
   "id": "1c1cc912",
   "metadata": {},
   "outputs": [
    {
     "name": "stdout",
     "output_type": "stream",
     "text": [
      "0   2024-01-05\n",
      "1   2023-11-03\n",
      "2   2024-01-30\n",
      "dtype: datetime64[ns]\n"
     ]
    }
   ],
   "source": [
    "dates = ['Jan 5, 2024','Nov 3, 2023','01-30-2024']\n",
    "dates_series = pd.Series(dates)\n",
    "dates_series = pd.to_datetime(dates_series,format='mixed')\n",
    "dates_series.dt.strftime('y%-%m-%d')\n",
    "print(dates_series)"
   ]
  },
  {
   "cell_type": "code",
   "execution_count": 28,
   "id": "47e55a1b",
   "metadata": {},
   "outputs": [
    {
     "name": "stdout",
     "output_type": "stream",
     "text": [
      "           DATE  Total_Sales\n",
      "0    1992-01-01         1509\n",
      "1    1992-02-01         1541\n",
      "2    1992-03-01         1597\n",
      "3    1992-04-01         1675\n",
      "4    1992-05-01         1822\n",
      "..          ...          ...\n",
      "335  2019-12-01         6630\n",
      "336  2020-01-01         4388\n",
      "337  2020-02-01         4533\n",
      "338  2020-03-01         5562\n",
      "339  2020-04-01         5207\n",
      "\n",
      "[340 rows x 2 columns]\n"
     ]
    }
   ],
   "source": [
    "drinks_data = pd.read_csv('csv/RetailSales_BeerWineLiquor.csv')\n",
    "print(drinks_data)"
   ]
  },
  {
   "cell_type": "code",
   "execution_count": 29,
   "id": "8f4f66af",
   "metadata": {},
   "outputs": [
    {
     "data": {
      "text/html": [
       "<div>\n",
       "<style scoped>\n",
       "    .dataframe tbody tr th:only-of-type {\n",
       "        vertical-align: middle;\n",
       "    }\n",
       "\n",
       "    .dataframe tbody tr th {\n",
       "        vertical-align: top;\n",
       "    }\n",
       "\n",
       "    .dataframe thead th {\n",
       "        text-align: right;\n",
       "    }\n",
       "</style>\n",
       "<table border=\"1\" class=\"dataframe\">\n",
       "  <thead>\n",
       "    <tr style=\"text-align: right;\">\n",
       "      <th></th>\n",
       "      <th>Total_Sales</th>\n",
       "    </tr>\n",
       "    <tr>\n",
       "      <th>DATE</th>\n",
       "      <th></th>\n",
       "    </tr>\n",
       "  </thead>\n",
       "  <tbody>\n",
       "    <tr>\n",
       "      <th>1992-12-31</th>\n",
       "      <td>21687</td>\n",
       "    </tr>\n",
       "    <tr>\n",
       "      <th>1993-12-31</th>\n",
       "      <td>21538</td>\n",
       "    </tr>\n",
       "    <tr>\n",
       "      <th>1994-12-31</th>\n",
       "      <td>22101</td>\n",
       "    </tr>\n",
       "    <tr>\n",
       "      <th>1995-12-31</th>\n",
       "      <td>22007</td>\n",
       "    </tr>\n",
       "    <tr>\n",
       "      <th>1996-12-31</th>\n",
       "      <td>23157</td>\n",
       "    </tr>\n",
       "    <tr>\n",
       "      <th>1997-12-31</th>\n",
       "      <td>24081</td>\n",
       "    </tr>\n",
       "    <tr>\n",
       "      <th>1998-12-31</th>\n",
       "      <td>25382</td>\n",
       "    </tr>\n",
       "    <tr>\n",
       "      <th>1999-12-31</th>\n",
       "      <td>26476</td>\n",
       "    </tr>\n",
       "    <tr>\n",
       "      <th>2000-12-31</th>\n",
       "      <td>28507</td>\n",
       "    </tr>\n",
       "    <tr>\n",
       "      <th>2001-12-31</th>\n",
       "      <td>29621</td>\n",
       "    </tr>\n",
       "    <tr>\n",
       "      <th>2002-12-31</th>\n",
       "      <td>29894</td>\n",
       "    </tr>\n",
       "    <tr>\n",
       "      <th>2003-12-31</th>\n",
       "      <td>30469</td>\n",
       "    </tr>\n",
       "    <tr>\n",
       "      <th>2004-12-31</th>\n",
       "      <td>32189</td>\n",
       "    </tr>\n",
       "    <tr>\n",
       "      <th>2005-12-31</th>\n",
       "      <td>33567</td>\n",
       "    </tr>\n",
       "    <tr>\n",
       "      <th>2006-12-31</th>\n",
       "      <td>36016</td>\n",
       "    </tr>\n",
       "    <tr>\n",
       "      <th>2007-12-31</th>\n",
       "      <td>38128</td>\n",
       "    </tr>\n",
       "    <tr>\n",
       "      <th>2008-12-31</th>\n",
       "      <td>39504</td>\n",
       "    </tr>\n",
       "    <tr>\n",
       "      <th>2009-12-31</th>\n",
       "      <td>40245</td>\n",
       "    </tr>\n",
       "    <tr>\n",
       "      <th>2010-12-31</th>\n",
       "      <td>41401</td>\n",
       "    </tr>\n",
       "    <tr>\n",
       "      <th>2011-12-31</th>\n",
       "      <td>42392</td>\n",
       "    </tr>\n",
       "    <tr>\n",
       "      <th>2012-12-31</th>\n",
       "      <td>44365</td>\n",
       "    </tr>\n",
       "    <tr>\n",
       "      <th>2013-12-31</th>\n",
       "      <td>46076</td>\n",
       "    </tr>\n",
       "    <tr>\n",
       "      <th>2014-12-31</th>\n",
       "      <td>48286</td>\n",
       "    </tr>\n",
       "    <tr>\n",
       "      <th>2015-12-31</th>\n",
       "      <td>50550</td>\n",
       "    </tr>\n",
       "    <tr>\n",
       "      <th>2016-12-31</th>\n",
       "      <td>53213</td>\n",
       "    </tr>\n",
       "    <tr>\n",
       "      <th>2017-12-31</th>\n",
       "      <td>55232</td>\n",
       "    </tr>\n",
       "    <tr>\n",
       "      <th>2018-12-31</th>\n",
       "      <td>57968</td>\n",
       "    </tr>\n",
       "    <tr>\n",
       "      <th>2019-12-31</th>\n",
       "      <td>59673</td>\n",
       "    </tr>\n",
       "    <tr>\n",
       "      <th>2020-12-31</th>\n",
       "      <td>19690</td>\n",
       "    </tr>\n",
       "  </tbody>\n",
       "</table>\n",
       "</div>"
      ],
      "text/plain": [
       "            Total_Sales\n",
       "DATE                   \n",
       "1992-12-31        21687\n",
       "1993-12-31        21538\n",
       "1994-12-31        22101\n",
       "1995-12-31        22007\n",
       "1996-12-31        23157\n",
       "1997-12-31        24081\n",
       "1998-12-31        25382\n",
       "1999-12-31        26476\n",
       "2000-12-31        28507\n",
       "2001-12-31        29621\n",
       "2002-12-31        29894\n",
       "2003-12-31        30469\n",
       "2004-12-31        32189\n",
       "2005-12-31        33567\n",
       "2006-12-31        36016\n",
       "2007-12-31        38128\n",
       "2008-12-31        39504\n",
       "2009-12-31        40245\n",
       "2010-12-31        41401\n",
       "2011-12-31        42392\n",
       "2012-12-31        44365\n",
       "2013-12-31        46076\n",
       "2014-12-31        48286\n",
       "2015-12-31        50550\n",
       "2016-12-31        53213\n",
       "2017-12-31        55232\n",
       "2018-12-31        57968\n",
       "2019-12-31        59673\n",
       "2020-12-31        19690"
      ]
     },
     "execution_count": 29,
     "metadata": {},
     "output_type": "execute_result"
    }
   ],
   "source": [
    "drinks_data['DATE'] = pd.to_datetime(drinks_data['DATE'])\n",
    "drinks_data = drinks_data.set_index('DATE')\n",
    "drinks_data.resample(rule='YE').sum()"
   ]
  },
  {
   "cell_type": "code",
   "execution_count": 30,
   "id": "b84f5436",
   "metadata": {},
   "outputs": [
    {
     "data": {
      "text/html": [
       "<div>\n",
       "<style scoped>\n",
       "    .dataframe tbody tr th:only-of-type {\n",
       "        vertical-align: middle;\n",
       "    }\n",
       "\n",
       "    .dataframe tbody tr th {\n",
       "        vertical-align: top;\n",
       "    }\n",
       "\n",
       "    .dataframe thead th {\n",
       "        text-align: right;\n",
       "    }\n",
       "</style>\n",
       "<table border=\"1\" class=\"dataframe\">\n",
       "  <thead>\n",
       "    <tr style=\"text-align: right;\">\n",
       "      <th></th>\n",
       "      <th>Date</th>\n",
       "      <th>Product</th>\n",
       "      <th>Sales</th>\n",
       "    </tr>\n",
       "  </thead>\n",
       "  <tbody>\n",
       "    <tr>\n",
       "      <th>A</th>\n",
       "      <td>2021-01-01</td>\n",
       "      <td>Apples</td>\n",
       "      <td>100</td>\n",
       "    </tr>\n",
       "    <tr>\n",
       "      <th>B</th>\n",
       "      <td>2021-01-01</td>\n",
       "      <td>Oranges</td>\n",
       "      <td>120</td>\n",
       "    </tr>\n",
       "    <tr>\n",
       "      <th>C</th>\n",
       "      <td>2021-01-02</td>\n",
       "      <td>Apples</td>\n",
       "      <td>200</td>\n",
       "    </tr>\n",
       "    <tr>\n",
       "      <th>D</th>\n",
       "      <td>2021-01-02</td>\n",
       "      <td>Oranges</td>\n",
       "      <td>220</td>\n",
       "    </tr>\n",
       "    <tr>\n",
       "      <th>E</th>\n",
       "      <td>2021-01-03</td>\n",
       "      <td>Apples</td>\n",
       "      <td>300</td>\n",
       "    </tr>\n",
       "    <tr>\n",
       "      <th>F</th>\n",
       "      <td>2021-01-03</td>\n",
       "      <td>Oranges</td>\n",
       "      <td>320</td>\n",
       "    </tr>\n",
       "  </tbody>\n",
       "</table>\n",
       "</div>"
      ],
      "text/plain": [
       "         Date  Product  Sales\n",
       "A  2021-01-01   Apples    100\n",
       "B  2021-01-01  Oranges    120\n",
       "C  2021-01-02   Apples    200\n",
       "D  2021-01-02  Oranges    220\n",
       "E  2021-01-03   Apples    300\n",
       "F  2021-01-03  Oranges    320"
      ]
     },
     "execution_count": 30,
     "metadata": {},
     "output_type": "execute_result"
    }
   ],
   "source": [
    "data = {\n",
    "    'Date': ['2021-01-01', '2021-01-01', '2021-01-02', '2021-01-02', '2021-01-03', '2021-01-03'],\n",
    "    'Product': ['Apples', 'Oranges', 'Apples', 'Oranges', 'Apples', 'Oranges'],\n",
    "    'Sales': [100, 120, 200, 220, 300, 320]\n",
    "}\n",
    "df = pd.DataFrame(data,index=['A','B','C','D','E','F'])\n",
    "df"
   ]
  },
  {
   "cell_type": "code",
   "execution_count": 31,
   "id": "5d8e9819",
   "metadata": {},
   "outputs": [
    {
     "data": {
      "text/html": [
       "<div>\n",
       "<style scoped>\n",
       "    .dataframe tbody tr th:only-of-type {\n",
       "        vertical-align: middle;\n",
       "    }\n",
       "\n",
       "    .dataframe tbody tr th {\n",
       "        vertical-align: top;\n",
       "    }\n",
       "\n",
       "    .dataframe thead th {\n",
       "        text-align: right;\n",
       "    }\n",
       "</style>\n",
       "<table border=\"1\" class=\"dataframe\">\n",
       "  <thead>\n",
       "    <tr style=\"text-align: right;\">\n",
       "      <th>Product</th>\n",
       "      <th>Apples</th>\n",
       "      <th>Oranges</th>\n",
       "    </tr>\n",
       "    <tr>\n",
       "      <th>Date</th>\n",
       "      <th></th>\n",
       "      <th></th>\n",
       "    </tr>\n",
       "  </thead>\n",
       "  <tbody>\n",
       "    <tr>\n",
       "      <th>2021-01-01</th>\n",
       "      <td>100</td>\n",
       "      <td>120</td>\n",
       "    </tr>\n",
       "    <tr>\n",
       "      <th>2021-01-02</th>\n",
       "      <td>200</td>\n",
       "      <td>220</td>\n",
       "    </tr>\n",
       "    <tr>\n",
       "      <th>2021-01-03</th>\n",
       "      <td>300</td>\n",
       "      <td>320</td>\n",
       "    </tr>\n",
       "  </tbody>\n",
       "</table>\n",
       "</div>"
      ],
      "text/plain": [
       "Product     Apples  Oranges\n",
       "Date                       \n",
       "2021-01-01     100      120\n",
       "2021-01-02     200      220\n",
       "2021-01-03     300      320"
      ]
     },
     "execution_count": 31,
     "metadata": {},
     "output_type": "execute_result"
    }
   ],
   "source": [
    "pivot = pd.pivot_table(df,columns = 'Product', values='Sales',index='Date',aggfunc='sum')\n",
    "pivot"
   ]
  },
  {
   "cell_type": "code",
   "execution_count": 33,
   "id": "c2eddbe6",
   "metadata": {},
   "outputs": [],
   "source": [
    "df.to_csv('csv/data.csv',index=True)\n",
    "df.to_excel('csv/data.xlsx')\n",
    "df.to_html('csv/data.html')"
   ]
  }
 ],
 "metadata": {
  "kernelspec": {
   "display_name": "Python 3 (ipykernel)",
   "language": "python",
   "name": "python3"
  },
  "language_info": {
   "codemirror_mode": {
    "name": "ipython",
    "version": 3
   },
   "file_extension": ".py",
   "mimetype": "text/x-python",
   "name": "python",
   "nbconvert_exporter": "python",
   "pygments_lexer": "ipython3",
   "version": "3.12.4"
  }
 },
 "nbformat": 4,
 "nbformat_minor": 5
}
