{
 "cells": [
  {
   "cell_type": "code",
   "execution_count": 9,
   "id": "b0919674",
   "metadata": {},
   "outputs": [],
   "source": [
    "import numpy as np\n",
    "import pandas as pd"
   ]
  },
  {
   "cell_type": "code",
   "execution_count": 10,
   "id": "ea4f19e1",
   "metadata": {},
   "outputs": [
    {
     "name": "stdout",
     "output_type": "stream",
     "text": [
      "0    1\n",
      "1    2\n",
      "2    3\n",
      "dtype: int64\n"
     ]
    }
   ],
   "source": [
    "pd_series = pd.Series([1,2,3])\n",
    "print(pd_series)"
   ]
  },
  {
   "cell_type": "code",
   "execution_count": 11,
   "id": "ee060555",
   "metadata": {},
   "outputs": [
    {
     "name": "stdout",
     "output_type": "stream",
     "text": [
      "file1    1000\n",
      "file2    2000\n",
      "file3    3000\n",
      "file4    3000\n",
      "dtype: int64\n",
      "2000\n",
      "3000\n",
      "file4\n"
     ]
    }
   ],
   "source": [
    "data = [1000,2000,3000,3000]\n",
    "index = [\"file1\",\"file2\",\"file3\",\"file4\"]\n",
    "pd_series = pd.Series(data=data,index=index)\n",
    "print(pd_series)\n",
    "print(pd_series[\"file2\"])\n",
    "print(pd_series.iloc[2])\n",
    "print(pd_series[pd_series == 3000].index[1])"
   ]
  },
  {
   "cell_type": "code",
   "execution_count": 12,
   "id": "678be143",
   "metadata": {},
   "outputs": [
    {
     "name": "stdout",
     "output_type": "stream",
     "text": [
      "3\n",
      "3\n"
     ]
    }
   ],
   "source": [
    "dict = {\"name\": \"David\",\"age\": 30,\"city\":\"Ra'anana\"}\n",
    "person_s = pd.Series(dict)\n",
    "print(person_s.keys().size)\n",
    "print(person_s.index.size)"
   ]
  },
  {
   "cell_type": "code",
   "execution_count": 13,
   "id": "51f83c09",
   "metadata": {},
   "outputs": [
    {
     "name": "stdout",
     "output_type": "stream",
     "text": [
      "file        3\n",
      "file1    1001\n",
      "file2    2002\n",
      "file3    3000\n",
      "file4    3004\n",
      "dtype: int32\n"
     ]
    }
   ],
   "source": [
    "data = [1.1,2,3,4]\n",
    "index = [\"file1\",\"file2\",\"file\",\"file4\"]\n",
    "pd_series_2 = pd.Series(data = data, index = index)\n",
    "pd_series_3 = pd_series + pd_series_2\n",
    "pd_series_4 = pd_series.add(pd_series_2,fill_value = 0)\n",
    "print(pd_series_4.astype(int))"
   ]
  }
 ],
 "metadata": {
  "kernelspec": {
   "display_name": "Python 3 (ipykernel)",
   "language": "python",
   "name": "python3"
  },
  "language_info": {
   "codemirror_mode": {
    "name": "ipython",
    "version": 3
   },
   "file_extension": ".py",
   "mimetype": "text/x-python",
   "name": "python",
   "nbconvert_exporter": "python",
   "pygments_lexer": "ipython3",
   "version": "3.12.4"
  }
 },
 "nbformat": 4,
 "nbformat_minor": 5
}
